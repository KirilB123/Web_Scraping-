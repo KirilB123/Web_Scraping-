{
 "cells": [
  {
   "cell_type": "markdown",
   "metadata": {},
   "source": [
    "# Web-Scraping"
   ]
  },
  {
   "cell_type": "code",
   "execution_count": 1,
   "metadata": {},
   "outputs": [],
   "source": [
    "#importing all the required libraries\n",
    "import selenium\n",
    "import pandas as pd\n",
    "from selenium import webdriver"
   ]
  },
  {
   "cell_type": "markdown",
   "metadata": {},
   "source": [
    "### Q1: To scrape data for “Data Analyst” Job position in “Bangalore” location."
   ]
  },
  {
   "cell_type": "code",
   "execution_count": 2,
   "metadata": {},
   "outputs": [],
   "source": [
    "#connecting to the web driver\n",
    "driver = webdriver.Chrome(\"Chromedriver.exe\")"
   ]
  },
  {
   "cell_type": "code",
   "execution_count": 3,
   "metadata": {},
   "outputs": [],
   "source": [
    "#get the url\n",
    "url = 'https://www.naukri.com/'\n",
    "driver.get(url)"
   ]
  },
  {
   "cell_type": "code",
   "execution_count": 4,
   "metadata": {},
   "outputs": [
    {
     "data": {
      "text/plain": [
       "<selenium.webdriver.remote.webelement.WebElement (session=\"700bdbd33ce9f54e8a200a4a5fd77b1b\", element=\"69a27641-1e73-46f8-962a-347b80c5bbee\")>"
      ]
     },
     "execution_count": 4,
     "metadata": {},
     "output_type": "execute_result"
    }
   ],
   "source": [
    "search_job = driver.find_element_by_class_name('sugInp')\n",
    "search_job"
   ]
  },
  {
   "cell_type": "code",
   "execution_count": 5,
   "metadata": {},
   "outputs": [],
   "source": [
    "#writing Data Analyst in Job Title,Keyword,Company field\n",
    "search_job.send_keys(\"Data Analyst\")"
   ]
  },
  {
   "cell_type": "code",
   "execution_count": 6,
   "metadata": {},
   "outputs": [],
   "source": [
    "#writing Bangalore in location field\n",
    "search_loc = driver.find_element_by_id(\"qsb-location-sugg\")\n",
    "search_loc.send_keys(\"Bangalore\")"
   ]
  },
  {
   "cell_type": "code",
   "execution_count": 7,
   "metadata": {},
   "outputs": [],
   "source": [
    "#clicking search button using Xpath function \n",
    "search_btn=driver.find_element_by_xpath(\"//button[@class='btn']\")\n",
    "search_btn.click()"
   ]
  },
  {
   "cell_type": "code",
   "execution_count": 8,
   "metadata": {},
   "outputs": [
    {
     "data": {
      "text/plain": [
       "[<selenium.webdriver.remote.webelement.WebElement (session=\"700bdbd33ce9f54e8a200a4a5fd77b1b\", element=\"02e6eecb-bf7e-428a-944e-6a501a55cd11\")>,\n",
       " <selenium.webdriver.remote.webelement.WebElement (session=\"700bdbd33ce9f54e8a200a4a5fd77b1b\", element=\"e87afd47-9fc6-4b36-97e3-c3d763ccc84e\")>,\n",
       " <selenium.webdriver.remote.webelement.WebElement (session=\"700bdbd33ce9f54e8a200a4a5fd77b1b\", element=\"340e445a-c3d2-4470-88af-7b13ff03dd5d\")>,\n",
       " <selenium.webdriver.remote.webelement.WebElement (session=\"700bdbd33ce9f54e8a200a4a5fd77b1b\", element=\"b8bd3f8e-888f-4991-a8ab-23abc8eddbc2\")>,\n",
       " <selenium.webdriver.remote.webelement.WebElement (session=\"700bdbd33ce9f54e8a200a4a5fd77b1b\", element=\"5e26d755-16fc-4b3a-8814-84cd8d322e09\")>,\n",
       " <selenium.webdriver.remote.webelement.WebElement (session=\"700bdbd33ce9f54e8a200a4a5fd77b1b\", element=\"2ed6f048-75d1-4db7-b7d0-08ed3d5dab8f\")>,\n",
       " <selenium.webdriver.remote.webelement.WebElement (session=\"700bdbd33ce9f54e8a200a4a5fd77b1b\", element=\"cbd0c376-0bc1-4554-85f2-16ef7566b8bb\")>,\n",
       " <selenium.webdriver.remote.webelement.WebElement (session=\"700bdbd33ce9f54e8a200a4a5fd77b1b\", element=\"6759d9fd-f47e-4075-82b5-dce60303ffa3\")>,\n",
       " <selenium.webdriver.remote.webelement.WebElement (session=\"700bdbd33ce9f54e8a200a4a5fd77b1b\", element=\"260a2fe1-4437-47bc-9979-8e41f9b27554\")>,\n",
       " <selenium.webdriver.remote.webelement.WebElement (session=\"700bdbd33ce9f54e8a200a4a5fd77b1b\", element=\"19c16405-d80f-4910-9027-2ed3d7c5452b\")>]"
      ]
     },
     "execution_count": 8,
     "metadata": {},
     "output_type": "execute_result"
    }
   ],
   "source": [
    "#extract all tags having job_titles\n",
    "title_tags= driver.find_elements_by_xpath(\"//a[@class='title fw500 ellipsis']\")[:10]\n",
    "title_tags"
   ]
  },
  {
   "cell_type": "code",
   "execution_count": 9,
   "metadata": {},
   "outputs": [
    {
     "data": {
      "text/plain": [
       "['Data Scientist / Data Analyst -Business Analyst',\n",
       " 'Senior Data Analyst',\n",
       " 'Consultant-Data Analyst -Bangalore',\n",
       " 'Senior Security Specialist - CS Awareness & Data Analyst',\n",
       " 'Data Analyst (Ops portal)',\n",
       " 'Advanced Services Engineer - Data Analyst',\n",
       " 'Senior Data Analyst',\n",
       " 'Data analysts',\n",
       " 'Data analysts',\n",
       " 'Data Analyst']"
      ]
     },
     "execution_count": 9,
     "metadata": {},
     "output_type": "execute_result"
    }
   ],
   "source": [
    "#run the loop to iterate over the tags and extract the text inside them\n",
    "job_titles=[]\n",
    "for i in title_tags:\n",
    "    job_titles.append(i.text)\n",
    "job_titles    "
   ]
  },
  {
   "cell_type": "code",
   "execution_count": 10,
   "metadata": {},
   "outputs": [
    {
     "data": {
      "text/plain": [
       "[<selenium.webdriver.remote.webelement.WebElement (session=\"700bdbd33ce9f54e8a200a4a5fd77b1b\", element=\"c963fb50-ae4f-44ad-bf24-b75cab334009\")>,\n",
       " <selenium.webdriver.remote.webelement.WebElement (session=\"700bdbd33ce9f54e8a200a4a5fd77b1b\", element=\"fb00cd91-d644-479a-9d59-9a93530e08c0\")>,\n",
       " <selenium.webdriver.remote.webelement.WebElement (session=\"700bdbd33ce9f54e8a200a4a5fd77b1b\", element=\"c62037e0-0250-4142-93b2-e00b418885a8\")>,\n",
       " <selenium.webdriver.remote.webelement.WebElement (session=\"700bdbd33ce9f54e8a200a4a5fd77b1b\", element=\"95ce658f-1ca4-4e48-a353-1517a0edaaae\")>,\n",
       " <selenium.webdriver.remote.webelement.WebElement (session=\"700bdbd33ce9f54e8a200a4a5fd77b1b\", element=\"b3f65502-d44c-4cac-865b-6fe80b3dba05\")>,\n",
       " <selenium.webdriver.remote.webelement.WebElement (session=\"700bdbd33ce9f54e8a200a4a5fd77b1b\", element=\"31f3c135-1eda-403e-95a6-145909c4e077\")>,\n",
       " <selenium.webdriver.remote.webelement.WebElement (session=\"700bdbd33ce9f54e8a200a4a5fd77b1b\", element=\"8aeff6b9-7383-4b9b-90f4-e061f8004049\")>,\n",
       " <selenium.webdriver.remote.webelement.WebElement (session=\"700bdbd33ce9f54e8a200a4a5fd77b1b\", element=\"3117cd00-ffc3-41b5-8a97-3dbe284a90ba\")>,\n",
       " <selenium.webdriver.remote.webelement.WebElement (session=\"700bdbd33ce9f54e8a200a4a5fd77b1b\", element=\"912049a1-c8da-4f2e-9af3-6223398be3b2\")>,\n",
       " <selenium.webdriver.remote.webelement.WebElement (session=\"700bdbd33ce9f54e8a200a4a5fd77b1b\", element=\"f2738ee0-bdae-45f1-bee1-15d310fd9096\")>]"
      ]
     },
     "execution_count": 10,
     "metadata": {},
     "output_type": "execute_result"
    }
   ],
   "source": [
    "#extract all the tags having company_name\n",
    "companies_tags=driver.find_elements_by_xpath(\"//a[@class='subTitle ellipsis fleft']\")[:10]\n",
    "companies_tags"
   ]
  },
  {
   "cell_type": "code",
   "execution_count": 11,
   "metadata": {},
   "outputs": [
    {
     "data": {
      "text/plain": [
       "['Inflexion Analytix Private Limited',\n",
       " 'Liventus, Inc.',\n",
       " 'Innovsource Services Private Limited',\n",
       " 'Cognizant Technology Solutions India Pvt Ltd',\n",
       " 'Luxoft',\n",
       " 'Juniper Networks India Pvt Ltd',\n",
       " 'Flipkart Internet Private Limited',\n",
       " 'IBM India Pvt. Limited',\n",
       " 'IBM India Pvt. Limited',\n",
       " 'Zilingo.com']"
      ]
     },
     "execution_count": 11,
     "metadata": {},
     "output_type": "execute_result"
    }
   ],
   "source": [
    "#run the loop to iterate over the tags and extract the text inside them\n",
    "company_names=[]\n",
    "for i in companies_tags:\n",
    "    company_names.append(i.text)\n",
    "company_names    "
   ]
  },
  {
   "cell_type": "code",
   "execution_count": 12,
   "metadata": {},
   "outputs": [
    {
     "data": {
      "text/plain": [
       "[<selenium.webdriver.remote.webelement.WebElement (session=\"700bdbd33ce9f54e8a200a4a5fd77b1b\", element=\"f6c6eb0b-39ed-44f1-91c3-36b73216afaa\")>,\n",
       " <selenium.webdriver.remote.webelement.WebElement (session=\"700bdbd33ce9f54e8a200a4a5fd77b1b\", element=\"3c9c89c1-f742-4df4-81ba-489016a71268\")>,\n",
       " <selenium.webdriver.remote.webelement.WebElement (session=\"700bdbd33ce9f54e8a200a4a5fd77b1b\", element=\"aec3d270-85a6-4184-adba-0cfd7a1e673f\")>,\n",
       " <selenium.webdriver.remote.webelement.WebElement (session=\"700bdbd33ce9f54e8a200a4a5fd77b1b\", element=\"da0d4777-4120-4c1c-a4bf-0ab405f385b0\")>,\n",
       " <selenium.webdriver.remote.webelement.WebElement (session=\"700bdbd33ce9f54e8a200a4a5fd77b1b\", element=\"f916bf46-953c-47b6-8a24-d7a4552aff88\")>,\n",
       " <selenium.webdriver.remote.webelement.WebElement (session=\"700bdbd33ce9f54e8a200a4a5fd77b1b\", element=\"436c6d82-642a-470a-a415-afae5404c3cb\")>,\n",
       " <selenium.webdriver.remote.webelement.WebElement (session=\"700bdbd33ce9f54e8a200a4a5fd77b1b\", element=\"d2a0461c-7371-47f3-84d2-756ecb23bfe0\")>,\n",
       " <selenium.webdriver.remote.webelement.WebElement (session=\"700bdbd33ce9f54e8a200a4a5fd77b1b\", element=\"db9d4af2-0ac7-47e2-aee5-dd33a3782354\")>,\n",
       " <selenium.webdriver.remote.webelement.WebElement (session=\"700bdbd33ce9f54e8a200a4a5fd77b1b\", element=\"de0b27aa-4ed5-4d14-98f6-4e1daeb41854\")>,\n",
       " <selenium.webdriver.remote.webelement.WebElement (session=\"700bdbd33ce9f54e8a200a4a5fd77b1b\", element=\"6f45c6cb-9545-488f-97a3-96fc24ae28bd\")>]"
      ]
     },
     "execution_count": 12,
     "metadata": {},
     "output_type": "execute_result"
    }
   ],
   "source": [
    "#extract all the tags having experience required \n",
    "experience_tags=driver.find_elements_by_xpath(\"//li[@class='fleft grey-text br2 placeHolderLi experience']//span\")[:10]\n",
    "experience_tags"
   ]
  },
  {
   "cell_type": "code",
   "execution_count": 13,
   "metadata": {},
   "outputs": [
    {
     "data": {
      "text/plain": [
       "['0-3 Yrs',\n",
       " '5-8 Yrs',\n",
       " '2-3 Yrs',\n",
       " '4-7 Yrs',\n",
       " '3-6 Yrs',\n",
       " '4-8 Yrs',\n",
       " '4-5 Yrs',\n",
       " '3-5 Yrs',\n",
       " '5-6 Yrs',\n",
       " '0-4 Yrs']"
      ]
     },
     "execution_count": 13,
     "metadata": {},
     "output_type": "execute_result"
    }
   ],
   "source": [
    "#run the loop to iterate over the tags and extract the text inside them\n",
    "experience_list=[]\n",
    "for i in experience_tags:\n",
    "    experience_list.append(i.text)\n",
    "experience_list    "
   ]
  },
  {
   "cell_type": "code",
   "execution_count": 14,
   "metadata": {},
   "outputs": [
    {
     "data": {
      "text/plain": [
       "[<selenium.webdriver.remote.webelement.WebElement (session=\"700bdbd33ce9f54e8a200a4a5fd77b1b\", element=\"8e08e16c-e766-4100-9b32-7e8a53bd113a\")>,\n",
       " <selenium.webdriver.remote.webelement.WebElement (session=\"700bdbd33ce9f54e8a200a4a5fd77b1b\", element=\"22b2a789-6621-458a-ae85-1a17e1944827\")>,\n",
       " <selenium.webdriver.remote.webelement.WebElement (session=\"700bdbd33ce9f54e8a200a4a5fd77b1b\", element=\"71200107-b510-4de3-be89-d074930991ef\")>,\n",
       " <selenium.webdriver.remote.webelement.WebElement (session=\"700bdbd33ce9f54e8a200a4a5fd77b1b\", element=\"24a908a1-5d0a-4982-9ae3-5869b7b4db71\")>,\n",
       " <selenium.webdriver.remote.webelement.WebElement (session=\"700bdbd33ce9f54e8a200a4a5fd77b1b\", element=\"7a3004e4-b60f-4f2a-9e63-88b09d67e0c2\")>,\n",
       " <selenium.webdriver.remote.webelement.WebElement (session=\"700bdbd33ce9f54e8a200a4a5fd77b1b\", element=\"fcbf9c54-bbcb-4c83-a0a9-33e359e6cced\")>,\n",
       " <selenium.webdriver.remote.webelement.WebElement (session=\"700bdbd33ce9f54e8a200a4a5fd77b1b\", element=\"9262ea96-57d7-4caf-880d-23ed8fb4f0ba\")>,\n",
       " <selenium.webdriver.remote.webelement.WebElement (session=\"700bdbd33ce9f54e8a200a4a5fd77b1b\", element=\"52ed57c5-32f6-400a-a35a-f83a03c149e8\")>,\n",
       " <selenium.webdriver.remote.webelement.WebElement (session=\"700bdbd33ce9f54e8a200a4a5fd77b1b\", element=\"5589e21d-6dfe-46ad-a311-c7a7633b97bc\")>,\n",
       " <selenium.webdriver.remote.webelement.WebElement (session=\"700bdbd33ce9f54e8a200a4a5fd77b1b\", element=\"c056a362-ab03-49f9-8fd8-aea483561748\")>]"
      ]
     },
     "execution_count": 14,
     "metadata": {},
     "output_type": "execute_result"
    }
   ],
   "source": [
    "#extract all the tags having location\n",
    "locations_tags=driver.find_elements_by_xpath(\"//li[@class='fleft grey-text br2 placeHolderLi location']//span\")[:10]\n",
    "locations_tags"
   ]
  },
  {
   "cell_type": "code",
   "execution_count": 15,
   "metadata": {},
   "outputs": [
    {
     "data": {
      "text/plain": [
       "['Hyderabad/Secunderabad, Chennai, Bangalore/Bengaluru',\n",
       " 'Bangalore/Bengaluru(2nd Phase JP Nagar)',\n",
       " 'Bangalore/Bengaluru',\n",
       " 'Bangalore/Bengaluru',\n",
       " 'Bangalore/Bengaluru',\n",
       " 'Bangalore/Bengaluru',\n",
       " 'Bangalore/Bengaluru',\n",
       " 'Bangalore/Bengaluru',\n",
       " 'Bengaluru/Bangalore',\n",
       " 'Bangalore/Bengaluru']"
      ]
     },
     "execution_count": 15,
     "metadata": {},
     "output_type": "execute_result"
    }
   ],
   "source": [
    "#run the loop to iterate over the tags and extract the text inside them\n",
    "locations_list=[]\n",
    "for i in locations_tags:\n",
    "    locations_list.append(i.text)\n",
    "locations_list   "
   ]
  },
  {
   "cell_type": "code",
   "execution_count": 16,
   "metadata": {},
   "outputs": [
    {
     "name": "stdout",
     "output_type": "stream",
     "text": [
      "10 10 10 10\n"
     ]
    }
   ],
   "source": [
    "#checking length using len function\n",
    "print(len(job_titles),len(company_names),len(experience_list),len(locations_list))"
   ]
  },
  {
   "cell_type": "code",
   "execution_count": 17,
   "metadata": {},
   "outputs": [],
   "source": [
    "#creating a dataframe by importing pandas as pd\n",
    "jobs=pd.DataFrame({})\n",
    "jobs['title']=job_titles\n",
    "jobs['company']=company_names\n",
    "jobs['experience_required']=experience_list\n",
    "jobs['location']=locations_list"
   ]
  },
  {
   "cell_type": "code",
   "execution_count": 18,
   "metadata": {},
   "outputs": [
    {
     "data": {
      "text/html": [
       "<div>\n",
       "<style scoped>\n",
       "    .dataframe tbody tr th:only-of-type {\n",
       "        vertical-align: middle;\n",
       "    }\n",
       "\n",
       "    .dataframe tbody tr th {\n",
       "        vertical-align: top;\n",
       "    }\n",
       "\n",
       "    .dataframe thead th {\n",
       "        text-align: right;\n",
       "    }\n",
       "</style>\n",
       "<table border=\"1\" class=\"dataframe\">\n",
       "  <thead>\n",
       "    <tr style=\"text-align: right;\">\n",
       "      <th></th>\n",
       "      <th>title</th>\n",
       "      <th>company</th>\n",
       "      <th>experience_required</th>\n",
       "      <th>location</th>\n",
       "    </tr>\n",
       "  </thead>\n",
       "  <tbody>\n",
       "    <tr>\n",
       "      <th>0</th>\n",
       "      <td>Data Scientist / Data Analyst -Business Analyst</td>\n",
       "      <td>Inflexion Analytix Private Limited</td>\n",
       "      <td>0-3 Yrs</td>\n",
       "      <td>Hyderabad/Secunderabad, Chennai, Bangalore/Ben...</td>\n",
       "    </tr>\n",
       "    <tr>\n",
       "      <th>1</th>\n",
       "      <td>Senior Data Analyst</td>\n",
       "      <td>Liventus, Inc.</td>\n",
       "      <td>5-8 Yrs</td>\n",
       "      <td>Bangalore/Bengaluru(2nd Phase JP Nagar)</td>\n",
       "    </tr>\n",
       "    <tr>\n",
       "      <th>2</th>\n",
       "      <td>Consultant-Data Analyst -Bangalore</td>\n",
       "      <td>Innovsource Services Private Limited</td>\n",
       "      <td>2-3 Yrs</td>\n",
       "      <td>Bangalore/Bengaluru</td>\n",
       "    </tr>\n",
       "    <tr>\n",
       "      <th>3</th>\n",
       "      <td>Senior Security Specialist - CS Awareness &amp; Da...</td>\n",
       "      <td>Cognizant Technology Solutions India Pvt Ltd</td>\n",
       "      <td>4-7 Yrs</td>\n",
       "      <td>Bangalore/Bengaluru</td>\n",
       "    </tr>\n",
       "    <tr>\n",
       "      <th>4</th>\n",
       "      <td>Data Analyst (Ops portal)</td>\n",
       "      <td>Luxoft</td>\n",
       "      <td>3-6 Yrs</td>\n",
       "      <td>Bangalore/Bengaluru</td>\n",
       "    </tr>\n",
       "    <tr>\n",
       "      <th>5</th>\n",
       "      <td>Advanced Services Engineer - Data Analyst</td>\n",
       "      <td>Juniper Networks India Pvt Ltd</td>\n",
       "      <td>4-8 Yrs</td>\n",
       "      <td>Bangalore/Bengaluru</td>\n",
       "    </tr>\n",
       "    <tr>\n",
       "      <th>6</th>\n",
       "      <td>Senior Data Analyst</td>\n",
       "      <td>Flipkart Internet Private Limited</td>\n",
       "      <td>4-5 Yrs</td>\n",
       "      <td>Bangalore/Bengaluru</td>\n",
       "    </tr>\n",
       "    <tr>\n",
       "      <th>7</th>\n",
       "      <td>Data analysts</td>\n",
       "      <td>IBM India Pvt. Limited</td>\n",
       "      <td>3-5 Yrs</td>\n",
       "      <td>Bangalore/Bengaluru</td>\n",
       "    </tr>\n",
       "    <tr>\n",
       "      <th>8</th>\n",
       "      <td>Data analysts</td>\n",
       "      <td>IBM India Pvt. Limited</td>\n",
       "      <td>5-6 Yrs</td>\n",
       "      <td>Bengaluru/Bangalore</td>\n",
       "    </tr>\n",
       "    <tr>\n",
       "      <th>9</th>\n",
       "      <td>Data Analyst</td>\n",
       "      <td>Zilingo.com</td>\n",
       "      <td>0-4 Yrs</td>\n",
       "      <td>Bangalore/Bengaluru</td>\n",
       "    </tr>\n",
       "  </tbody>\n",
       "</table>\n",
       "</div>"
      ],
      "text/plain": [
       "                                               title  \\\n",
       "0    Data Scientist / Data Analyst -Business Analyst   \n",
       "1                                Senior Data Analyst   \n",
       "2                 Consultant-Data Analyst -Bangalore   \n",
       "3  Senior Security Specialist - CS Awareness & Da...   \n",
       "4                          Data Analyst (Ops portal)   \n",
       "5          Advanced Services Engineer - Data Analyst   \n",
       "6                                Senior Data Analyst   \n",
       "7                                      Data analysts   \n",
       "8                                      Data analysts   \n",
       "9                                       Data Analyst   \n",
       "\n",
       "                                        company experience_required  \\\n",
       "0            Inflexion Analytix Private Limited             0-3 Yrs   \n",
       "1                                Liventus, Inc.             5-8 Yrs   \n",
       "2          Innovsource Services Private Limited             2-3 Yrs   \n",
       "3  Cognizant Technology Solutions India Pvt Ltd             4-7 Yrs   \n",
       "4                                        Luxoft             3-6 Yrs   \n",
       "5                Juniper Networks India Pvt Ltd             4-8 Yrs   \n",
       "6             Flipkart Internet Private Limited             4-5 Yrs   \n",
       "7                        IBM India Pvt. Limited             3-5 Yrs   \n",
       "8                        IBM India Pvt. Limited             5-6 Yrs   \n",
       "9                                   Zilingo.com             0-4 Yrs   \n",
       "\n",
       "                                            location  \n",
       "0  Hyderabad/Secunderabad, Chennai, Bangalore/Ben...  \n",
       "1            Bangalore/Bengaluru(2nd Phase JP Nagar)  \n",
       "2                                Bangalore/Bengaluru  \n",
       "3                                Bangalore/Bengaluru  \n",
       "4                                Bangalore/Bengaluru  \n",
       "5                                Bangalore/Bengaluru  \n",
       "6                                Bangalore/Bengaluru  \n",
       "7                                Bangalore/Bengaluru  \n",
       "8                                Bengaluru/Bangalore  \n",
       "9                                Bangalore/Bengaluru  "
      ]
     },
     "execution_count": 18,
     "metadata": {},
     "output_type": "execute_result"
    }
   ],
   "source": [
    "jobs"
   ]
  },
  {
   "cell_type": "markdown",
   "metadata": {},
   "source": [
    "### Q2: To scrape data for “Data Scientist” Job position in “Bangalore” location."
   ]
  },
  {
   "cell_type": "code",
   "execution_count": 19,
   "metadata": {},
   "outputs": [],
   "source": [
    "#we need to connect to the web driver\n",
    "driver = webdriver.Chrome(\"Chromedriver.exe\")"
   ]
  },
  {
   "cell_type": "code",
   "execution_count": 20,
   "metadata": {},
   "outputs": [],
   "source": [
    "#getting the url \n",
    "link = 'https://www.naukri.com/'\n",
    "driver.get(link)"
   ]
  },
  {
   "cell_type": "code",
   "execution_count": 21,
   "metadata": {},
   "outputs": [
    {
     "data": {
      "text/plain": [
       "<selenium.webdriver.remote.webelement.WebElement (session=\"a109e5b164fb236c571136938015e87d\", element=\"80865342-86c1-4b31-b889-62d0991178f4\")>"
      ]
     },
     "execution_count": 21,
     "metadata": {},
     "output_type": "execute_result"
    }
   ],
   "source": [
    "srh_job = driver.find_element_by_class_name('sugInp')\n",
    "srh_job"
   ]
  },
  {
   "cell_type": "code",
   "execution_count": 22,
   "metadata": {},
   "outputs": [],
   "source": [
    "#writing Data scientist in Job Title,Keyword,Company field\n",
    "srh_job.send_keys(\"Data Scientist\")"
   ]
  },
  {
   "cell_type": "code",
   "execution_count": 23,
   "metadata": {},
   "outputs": [],
   "source": [
    "#writing bangalore in job location field\n",
    "srh_loc = driver.find_element_by_id(\"qsb-location-sugg\")\n",
    "srh_loc.send_keys(\"Bangalore\")"
   ]
  },
  {
   "cell_type": "code",
   "execution_count": 24,
   "metadata": {},
   "outputs": [],
   "source": [
    "#entering the search button\n",
    "srh_btn=driver.find_element_by_xpath(\"//button[@class='btn']\")\n",
    "srh_btn.click()"
   ]
  },
  {
   "cell_type": "code",
   "execution_count": 25,
   "metadata": {
    "scrolled": true
   },
   "outputs": [
    {
     "data": {
      "text/plain": [
       "['https://www.naukri.com/job-listings-data-scientist-data-analyst-business-analyst-inflexion-analytix-private-limited-hyderabad-secunderabad-chennai-bangalore-bengaluru-0-to-3-years-020721003625?src=jobsearchDesk&sid=16253276291801033&xp=1&px=1',\n",
       " 'https://www.naukri.com/job-listings-data-scientist-oracle-india-pvt-ltd-noida-bangalore-bengaluru-5-to-9-years-010621004567?src=jobsearchDesk&sid=16253276291801033&xp=2&px=1',\n",
       " 'https://www.naukri.com/job-listings-senior-data-scientist-roppen-transportation-services-private-limited-bangalore-bengaluru-5-to-8-years-010721000825?src=jobsearchDesk&sid=16253276291801033&xp=3&px=1',\n",
       " 'https://www.naukri.com/job-listings-senior-data-scientist-baker-hughes-the-network-bangalore-bengaluru-4-to-8-years-020721501523?src=jobsearchDesk&sid=16253276291801033&xp=4&px=1',\n",
       " 'https://www.naukri.com/job-listings-senior-data-scientist-fabhotel-aay-kay-model-town-bangalore-bengaluru-6-to-7-years-020721501495?src=jobsearchDesk&sid=16253276291801033&xp=5&px=1',\n",
       " 'https://www.naukri.com/job-listings-senior-data-scientist-baker-hughes-incorporated-bangalore-bengaluru-3-to-7-years-010721501049?src=jobsearchDesk&sid=16253276291801033&xp=6&px=1',\n",
       " 'https://www.naukri.com/job-listings-lead-data-scientist-becton-dickinson-india-pvt-ltd-bangalore-bengaluru-8-to-13-years-020721500242?src=jobsearchDesk&sid=16253276291801033&xp=7&px=1',\n",
       " 'https://www.naukri.com/job-listings-senior-data-scientist-24-7-customer-private-ltd-bangalore-bengaluru-5-to-10-years-280621501037?src=jobsearchDesk&sid=16253276291801033&xp=8&px=1',\n",
       " 'https://www.naukri.com/job-listings-senior-data-scientist-fractal-analytics-ltd-mumbai-gurgaon-gurugram-bangalore-bengaluru-4-to-8-years-290621500776?src=jobsearchDesk&sid=16253276291801033&xp=9&px=1',\n",
       " 'https://www.naukri.com/job-listings-senior-data-scientist-nielsen-india-private-limited-chennai-bangalore-bengaluru-vadodara-baroda-3-to-5-years-290621001647?src=jobsearchDesk&sid=16253276291801033&xp=10&px=1',\n",
       " 'https://www.naukri.com/job-listings-lead-data-scientist-machine-learning-data-mining-wrackle-technologies-pvt-ltd-bangalore-bengaluru-6-to-11-years-080221900886?src=jobsearchDesk&sid=16253276291801033&xp=11&px=1']"
      ]
     },
     "execution_count": 25,
     "metadata": {},
     "output_type": "execute_result"
    }
   ],
   "source": [
    "#scrape data for job openings\n",
    "job_opening_urls=[]\n",
    "url = driver.find_elements_by_xpath('//a[@class=\"title fw500 ellipsis\"]')[:11]\n",
    "for i in url:\n",
    "    job_opening_urls.append(i.get_attribute('href'))\n",
    "job_opening_urls    "
   ]
  },
  {
   "cell_type": "code",
   "execution_count": 26,
   "metadata": {},
   "outputs": [
    {
     "data": {
      "text/plain": [
       "['Data Scientist / Data Analyst -Business Analyst',\n",
       " 'Senior Data Scientist',\n",
       " 'Senior Data Scientist',\n",
       " 'Senior Data Scientist',\n",
       " 'Senior Data Scientist',\n",
       " 'Lead Data Scientist',\n",
       " 'Senior Data Scientist',\n",
       " 'Senior Data Scientist',\n",
       " 'Senior Data Scientist',\n",
       " 'Lead Data Scientist - Machine Learning/ Data Mining']"
      ]
     },
     "execution_count": 26,
     "metadata": {},
     "output_type": "execute_result"
    }
   ],
   "source": [
    "#scrape data for top 10 job_titles\n",
    "job_titles=[]\n",
    "for i in job_opening_urls:\n",
    "    driver.get(i)\n",
    "    try:\n",
    "        job_title= driver.find_element_by_xpath(\"//h1[@class='jd-header-title']\")\n",
    "        job_titles.append(job_title.text)\n",
    "    except:\n",
    "        pass\n",
    "job_titles    "
   ]
  },
  {
   "cell_type": "code",
   "execution_count": 27,
   "metadata": {},
   "outputs": [
    {
     "data": {
      "text/plain": [
       "['Inflexion Analytix Private Limited',\n",
       " 'Roppen Transportation Services Private Limited',\n",
       " 'Baker Hughes - The Network',\n",
       " 'FabHotel Aay Kay Model Town',\n",
       " 'Baker Hughes Incorporated',\n",
       " 'Becton Dickinson India Pvt Ltd',\n",
       " '24/7 Customer',\n",
       " 'Fractal Analytics',\n",
       " 'Nielsen',\n",
       " 'Wrackle Technologies Pvt Ltd']"
      ]
     },
     "execution_count": 27,
     "metadata": {},
     "output_type": "execute_result"
    }
   ],
   "source": [
    "#scrape data for top 10 company_names\n",
    "company_names=[]\n",
    "for i in job_opening_urls:\n",
    "    driver.get(i)\n",
    "    try:\n",
    "        company_name= driver.find_element_by_xpath(\"//a[@class='pad-rt-8']\")\n",
    "        company_names.append(company_name.text)\n",
    "    except:\n",
    "        pass\n",
    "company_names    "
   ]
  },
  {
   "cell_type": "code",
   "execution_count": 28,
   "metadata": {},
   "outputs": [
    {
     "data": {
      "text/plain": [
       "['Hyderabad/Secunderabad',\n",
       " 'Bangalore/Bengaluru',\n",
       " 'Bangalore/Bengaluru',\n",
       " 'Bangalore/Bengaluru',\n",
       " 'Bangalore/Bengaluru',\n",
       " 'Bangalore/Bengaluru',\n",
       " 'Bangalore/Bengaluru',\n",
       " 'Mumbai',\n",
       " 'Chennai',\n",
       " 'Bangalore/Bengaluru']"
      ]
     },
     "execution_count": 28,
     "metadata": {},
     "output_type": "execute_result"
    }
   ],
   "source": [
    "#scrape data for top 10 company locations\n",
    "locations=[]\n",
    "for i in job_opening_urls:\n",
    "    driver.get(i)\n",
    "    try:\n",
    "        location= driver.find_element_by_xpath(\"//div[@class='loc']//a\")\n",
    "        locations.append(location.text)\n",
    "    except:\n",
    "        pass\n",
    "locations"
   ]
  },
  {
   "cell_type": "code",
   "execution_count": 29,
   "metadata": {},
   "outputs": [
    {
     "data": {
      "text/plain": [
       "[\"Job description\\n\\nJob Role: Data Scientist/Data Analyst /Business Analyst\\n\\nLocation: Chennai/Bangalore/Hyderabad\\n\\nGreetings from CAIA - Center for Artificial Intelligence & Advanced Analytics\\n43% of companies experienced a high deficit of skilled resources with Advanced Analytical skills and AI implementing capabilities in the year 2020. CAIA gives you a great opportunity to enter the world of future technologies and Innovations- Data Science, Analytics, AI, Data Visualization, and Cloud Computing.\\n\\nWhile 2020 was a year like no other, we are living in an interesting times where data is reshaping the world, and businesses are rapidly adopting technology to gain an edge over others. Hence, there's a substantial increase in demand for technology professionals who can implement systems in data science, machine learning, and AI in Tier 1 and Tier 2 organizations working closely with us.\\n\\nTo help you build a sustainable career we would like you to utilize data, software and Analytical approaches in Data Science and AI to upskill and get recruited into an organization appreciating your skilling journey.\\nApplications invited from all Freshers and experienced candidates (0-3 yrs) aspiring to make a career in Artificial Intelligence and Advanced Analytics and Data Science.\\nIf you wish to make a shift in your career or undergo a career transition, upskilling is essential since it allows you to learn more about the domain and acquire the required skills.\\n\\nCall to schedule interview Monday -Saturday from 10:00 am to 7 Pm\\n\\nKoodesh B- +91 73395 11107\\nManigandan B - +91 93444 57360\\n\\nEmail :\\n\\ncareerguidance.koodes@centerforaia.com\\nmanigandan@centerforaia.com\\n\\nWhat is needed from you?\\nFreshers who wish to start their career in Analytics and AI and professionals who wish to\\nupskill or change their domain to analytics and emerging technologies are free to apply.\\nEducational background in any one of the following- BE/B.Tech, ME/M Tech, MSc, BSc/MSc Math's and Statistics, B Com, BCA, BSc CS, BSC IT, MSC IT, MCA\\nSkills relating to Mathematics/Statistics.\\nNatural passion towards numbers, business, coding, Analytics, and Artificial Intelligence, Machine Learning, visualization\\nGood verbal and written communication skills\\nAbility to understand domains in businesses across various sectors\\n\\nSelection procedure includes\\nAptitude Test & Communication Exam - Online / Offline\\nSQL/Python test - Online / Offline\\nCandidates who clear the above will have one-one discussions with our Career Guidance Manager for further evaluation and processing of your Resume.\\n\\nAll the Shortlisted candidates will be eligible to continue the corporate training with CAIA\\nWhat you can expect from us?\\n\\nYou will get trained on the following modules for a period of 12-14 weeks:\\nSQL & PLSQL\\nData Wrangling using Python\\nData Visualization Using Power-BI\\nStatistics for Machine Learning\\nArtificial Intelligence, Data Interpretation\\nSupervised & Unsupervised Learning,\\nNLP & Deep Learning\\nCloud Data Lake\\nBusiness intelligence & Data Visualization\\nSimulation Projects\\nExpected Outcome?\\n\\nAt the end of the Training you are expected to be well versed with the following:\\nAnalysis of large and complex data sets from multiple sources\\nDevelopment and evaluation of data analytics models, algorithms, and solutions\\nUnderstanding/implementation of ML algorithms, performance tuning, and reporting\\nImplementation of algorithms to mine targeted data and the ability to convert data into a business story\\nTranslation of business requirements into technical requirements; Data extraction, preparation, and transformation\\nIdentification, development, and implementation of statistical techniques and algorithms that address business challenges and adds value to the organization\\nRequirement Analysis and communication of findings in the form of a meaningful story with the stakeholders\\nFinding analytical solutions to abstract business issues.\\nApply objective analysis of facts before coming to a conclusion\",\n",
       " 'Our Cause:\\nRapido is Indias largest bike taxi player focused on solving the first and last mile connectivity problem for India. The primary focus is mobility and changing all facets of mobility across India.We believe that 2 Wheeler are the right mode of transport for developing countries like India and have much more scope than 4 wheelers, which is also reflected in the fact that the number of 2 wheelers is significantly more than the number of 4-wheelers.We have operations in close to 100 cities and are the undisputed market leader in this space. Growing close to 500% year-on-year, we have ambitious targets set for ourselves in the future as well.\\n\\nRole and Responsibilities:\\n\\nTranslating business requirements into analytical solutions\\nPerform data analysis (with a representative sample data slice) and build/prototype the model(s)\\nWork with business users and/or other data scientists to define and close on the model design\\nProvide inputs to the data ingestion/engineering team on input data required by the model, size, format, associations, cleansing required\\nIdentify/Provide approach and data to validate the model(s)\\nCollaborate with a technology/data engineering team to transfer the business understanding, get the model productionized and validate the output along with business users\\nTune the model(s) to improve results provided over time\\nUnderstand business challenges and goals to formulate the approach for data analysis and model creation that will support business decision making\\nDo hands-on data analysis and model creation\\nWork closely with data analysts in the team to define and execute on EDA and experiment roadmap\\nWork in highly collaborative teams that strive to build quality systems and provide business value\\nContinually learn and develop your career\\nMust have:\\n\\nPassion for understanding business problems and trying to address them by leveraging data - characterized by high-volume, high dimensionality from multiple sources\\nAbility to communicate complex models and analysis in a clear and precise manner\\nExperience with building predictive statistical, behavioral or other models via supervised and unsupervised machine learning, statistical analysis, and other predictive modeling techniques.\\nExperience using R, Python or equivalent statistical/data analysis tools. Ability to transfer that knowledge to different tools\\nExperience with matrices, distributions and probability\\nProficiency with relational databases and NoSQL\\nExperience in Machine Learning, Deep Learning solution, Neural Networks is preferred.\\nWorked in a big data environment before alongside a data engineering team (and data visualization team, data and business analysts)\\nEducation and Experience:\\nBE/BS/MS or equivalent in Applied mathematics, statistics, physics, computer science or operations research background is a MUST. Minimum 5-8 years as Data Scientist in real business impact projects',\n",
       " 'As a Sr Data Scientist, you will be responsible for:\\nWorking with business stakeholders to understand the business problem/requirements and helping define analytic objectives\\nBuilding the state of art machine learning or computer vision models according to the industry use case. Develop re-usable components that can be applied to similar problem across industry\\nBeing responsible for development of advanced computer vision solutions for detection of defects in the industrial inspection images (Visual or CT/Xray images).\\nImplementing computer vision technique in image classification, object detection, segmentation, etc. using frameworks like TensorFlow PyTorch\\nIterating and improve the model performances using appropriate transfer learning techniques\\nBuilding end to end Machine learning or Deep learning pipelines and follow the deployment best practices (Flask, FastAPI, Streamlit, Docker ,etc.)\\nHaving Ability to deploy machine or deep learning solutions in to production (Edge or cloud environment)\\nFuel your passion\\nTo be successful in this role you will:\\nHave a Bachelors / Phd in Computer Science or STEM Majors (Science, Technology, Engineering and Math) with 2+ yrs experience in building computer vision solutions for the industrial use case.\\nHave Minimum 6 yrs of experience with machine learning, computer vision algorithms, and framework to solve object detection, recognition, tracking, segmentation, etc.\\nHave experience on deep learning machine learning libraries Tensorflow, Pytorch, Keras, sklearn, OpenCV, etc.\\nHave Knowledge of Convolutional Networks and Deep Learning algorithms\\nHave Solid programming skills with Python and/or non-scripting languages\\nExperience working with NDT inspection (CT/Xray image) data is a plus\\nExperience with Docker containers cloud deployment is plus\\nWork in a way that works for you\\nWe recognize that everyone is different and that the way in which people want to work and deliver at their best is different for everyone too. In this role, we can offer the following flexible working patterns:\\nWorking flexible hours - flexing the times when you work in the day to help you fit everything in and work when you are the most productive',\n",
       " 'As as Senior Data Scientist, you will be part of cross-disciplinary team, working in concert with partners in Baker Hughes. Potential application areas include Automatic Defect Recognition (ADR) and Remote Monitoring and Diagnostics (RMnD) across NDT (Non Destructive Testing) industrial sectors. The data scientist will lead engagements and develop analytics within defined business objectives to address customer needs and opportunities.\\nAs a Sr Data Scientist, you will be responsible for:\\nWorking with business stakeholders to understand the business problem/requirements and helping define analytic objectives\\nBuilding the state of art machine learning or computer vision models according to the industry use case. Develop re-usable components that can be applied to similar problem across industry\\nBeing responsible for development of advanced computer vision solutions for detection of defects in the industrial inspection images (Visual or CT/Xray images).\\nImplementing computer vision technique in image classification, object detection, segmentation, etc. using frameworks like TensorFlow PyTorch\\nIterating and improve the model performances using appropriate transfer learning techniques\\nBuilding end to end Machine learning or Deep learning pipelines and follow the deployment best practices (Flask, FastAPI, Streamlit, Docker ,etc.)\\nHaving Ability to deploy machine or deep learning solutions in to production (Edge or cloud environment)\\nFuel your passion\\nTo be successful in this role you will:\\nHave a Bachelors / Phd in Computer Science or STEM Majors (Science, Technology, Engineering and Math) with 2+ yrs experience in building computer vision solutions for the industrial use case.\\nHave Minimum 6 yrs of experience with machine learning, computer vision algorithms, and framework to solve object detection, recognition, tracking, segmentation, etc.\\nHave experience on deep learning machine learning libraries Tensorflow, Pytorch, Keras, sklearn, OpenCV, etc.\\nHave Knowledge of Convolutional Networks and Deep Learning algorithms\\nHave Solid programming skills with Python and/or non-scripting languages\\nExperience working with NDT inspection (CT/Xray image) data is a plus\\nExperience with Docker containers cloud deployment is plus\\nWork in a way that works for you\\nWe recognize that everyone is different and that the way in which people want to work and deliver at their best is different for everyone too. In this role, we can offer the following flexible working patterns:\\nWorking flexible hours - flexing the times when you work in the day to help you fit everything in and work when you are the most productive\\nWorking with us\\nOur people are at the heart of what we do at Baker Hughes. We know we are better when all of our people are developed, engaged and able to bring their whole authentic selves to work. We invest in the health and well-being of our workforce, train and reward talent and develop leaders at all levels to bring out the best in each other.\\nWorking for you\\nOur inventions have revolutionized energy for over a century. But to keep going forward tomorrow, we know we have to push the boundaries today. We prioritize rewarding those who embrace change with a package that reflects how much we value their input. Join us, and you can expect:\\nContemporary work-life balance policies and wellbeing activities\\nComprehensive private medical care options\\nSafety net of life insurance and disability programs\\nTailored financial programs\\nAdditional elected or voluntary benefits',\n",
       " 'As a Sr Data Scientist, you will be responsible for:\\nWorking with business stakeholders to understand the business problem/requirements and helping define analytic objectives\\nBuilding the state of art machine learning or computer vision models according to the industry use case. Develop re-usable components that can be applied to similar problem across industry\\nBeing responsible for development of advanced computer vision solutions for detection of defects in the industrial inspection images (Visual or CT/Xray images).\\nImplementing computer vision technique in image classification, object detection, segmentation, etc. using frameworks like TensorFlow & PyTorch\\nIterating and improve the model performances using appropriate transfer learning techniques\\nBuilding end to end Machine learning or Deep learning pipelines and follow the deployment best practices (Flask, FastAPI, Streamlit, Docker ,etc.)\\nHaving Ability to deploy machine or deep learning solutions in to production (Edge or cloud environment)\\nFuel your passion\\nTo be successful in this role you will:\\nHave a Bachelors / Phd in Computer Science or STEM Majors (Science, Technology, Engineering and Math) with 2+ yrs experience in building computer vision solutions for the industrial use case.\\nHave Minimum 6 yrs of experience with machine learning, computer vision algorithms, and framework to solve object detection, recognition, tracking, segmentation, etc.\\nHave experience on deep learning & machine learning libraries Tensorflow, Pytorch, Keras, sklearn, OpenCV, etc.\\nHave Knowledge of Convolutional Networks and Deep Learning algorithms\\nHave Solid programming skills with Python and/or non-scripting languages\\nExperience working with NDT inspection (CT/Xray image) data is a plus\\nExperience with Docker containers & cloud deployment is plus',\n",
       " 'Job Summary\\nAs a member of the BD Advanced Analytics team, the Data Scientist role will collect, interpret, and deploy predictive analytics and machine learning models to assist our business partners in delivering advanced data analytics solutions to address key strategic business initiatives.\\nThe primary focus being the development and deployment of actionable insights that have a positive impact on BD s business operations.\\nDescription\\nEvaluating business requirements and developing compelling user stories in collaboration with business stakeholders across various functions and regions\\nCollecting, interpreting, preparing and modelling data to provide actionable insights\\nPrototyping advanced data analytics solutions for presentation to business partners and stakeholders\\nApplying predictive analytics and machine learning methods and techniques appropriately to address business requirements\\nProvide expertise to guide business stakeholders in identifying opportunities for the use of BD s data assets for the purpose of advanced data analytics\\nWork closely with data engineering and DataOps peers to productionalize advanced data analytics use cases\\nQualifications\\nMaster s degree in STEM field or equivalent demonstrated work experience\\nExperience with Python, R, Hadoop, HIVE, SPARK, Jupyter and related advanced analytics / machine learning libraries (Scikitlearn, Tensorflow, Keras, )\\nMinimum 2 years of relevant work experience\\nAbility to translate complex solutions to a non-technical audience (storytelling visualization)\\nExpertise in machine learning, neural networks, clustering, classification, regression and other common advanced analytics methods and techniques\\nMature competency for critical thinking, problem solving, working with ambiguity, communications and collaboration\\nPreferred\\nExperience with technologies related to data preparation, processing optimization (e.g. Azure, HQL, SPARK SQL)\\nExperience with data visualization tools (Power BI)\\nFlexibility to accommodate meetings with international stakeholders in their respective time-zone.',\n",
       " 'Brief about the Role\\nThe Platforms team of the Data Science Group at [24]7.ai builds scalable AI to aid in conversational AI, agent assist solutions, and ad personalization for the Cloud. We are looking for a highly motivated and qualified data scientist to build some of our AI initiatives. This role is ideal for candidates with strong, hands-on skills in machine learning and natural language processing.\\nEducational Qualifications:\\nBachelors, Master’s or PhD degree from reputed universities or institutes in one of the following disciplines:\\nArtificial Intelligence / Machine Learning\\nData Science\\nCognitive Computing\\nComputational Linguistics\\nComputer Science\\nRequirements\\n4+ years of experience with general purpose programming languages e.g., Python, C/C++, Java\\n4+ years of hands-on experience in machine learning\\nExperience in various deep learning models, e.g., transformers, LSTMs, RNNs\\nExperience in solving problems related to Natural Language Processing (NLP), Natural Language Understanding (NLU), and Natural Language Generation (NLG)\\nExperience with machine learning platforms such as TensorFlow, TensorFlow Extended, PyTorch\\nExperience building and deploying machine learning models on the Cloud (Google Cloud, Azure, AWS)\\nExperience with production architecture of machine learning systems\\nGood to have exposure to conversational AI, AI-based question-answering systems, AI-based compliance and monitoring systems, and ad personalization\\nGood to have exposure to MLOps pipelines and Kubeflow\\nExcellent communication skills\\nAbility to collaborate cross-functionally\\nGood presentation skills\\nAttention to detail\\nResponsibilities\\nCollaborate with the Engineering and Product teams to implement machine learning models into the products and offerings of [24]7.ai\\nCollaborate with your team members. Be responsible for implementing the machine learning models, testing them, refining them, and taking them to production\\nCollaborate within the Data Science Group to review and refine your work to ensure the highest quality\\nTake end-to-end ownership of AI initiatives\\nProactively discuss ideas for feature enhancements with the data science leadership and product leadership',\n",
       " 'The Artificial Intelligence and Machine Learning (AIML) group at Fractal Analytics is actively involved in helping Fortune 500 companies by enabling them to discover how they can leverage their data using advanced and sophisticated AI/ML algorithms for which we are looking for Data Scientists with the capability to work on independent statistical and machine learning research/ projects. If you are a problem solver with a curiosity for exploring new techniques and technologies in AIML space, then we would like to talk with you.\\nJob Responsibilities\\nAbility to understand a problem statement and implement analytical solutions techniques independently with independently / proactively / thought-leadership.\\nWork with stakeholders throughout the organization to identify opportunities for leveraging company/client data to drive business solutions.\\nFast learner: ability to learn and pick up a new language/tool/ platform quickly.\\nConceptualize, design, and deliver high-quality solutions and insightful analysis.\\nConduct research and prototyping innovations; data and requirements gathering; solution scoping and architecture; consulting clients and client facing teams on advanced statistical and machine learning problems.\\nCollaborate and Coordinate with different functional teams(engineering and product development) to implement models and monitor outcomes.\\nAbility to deliver AIML based solutions around a host of domains and problems, with some of them being: Customer Segmentation Targeting, Propensity Modeling, Churn Modeling, Lifetime Value Estimation, Forecasting, Recommender Systems, Modeling Response to Incentives, Marketing Mix Optimization, Price Optimization\\nExperience Required:\\nExpert level proficiency in at least one of R and Python.\\nAbility to create efficient solutions to complex problems. Strong skills in data-structures and ML algorithms.\\nExperience of working on end-to-end data science pipeline: problem scoping, data gathering, EDA, modelling, insights, visualizations, monitoring and maintenance.\\nProblem-solving: Ability to break the problem into small parts and applying relevant techniques to drive required outcomes.\\nIntermediate to advanced knowledge of machine learning, probability theory, statistics, and algorithms. You will be required to discuss and use various algorithms and approaches on a daily basis.\\nWe use regression, Bayesian methods, tree-based learners, SVM, RF, XGBOOST, time series modeling, dimensionality reduction, SEM, GLM, GLMM, clustering, Deep learning etc. on a regular basis. If you know few of them you are good to go.\\nGood to Have:\\nExperience in one of the upcoming technologies like deep learning, NLP, image processing, recommender systems\\nExperience of working in on one or more domains:\\nCPG: pricing and promotion analytics, marketing analytics, trade promotions, supply chain management\\nBFSI: cross-sell, up-sell, campaign analytics, treasury analytics, fraud detection\\nHealthcare: medical adherence, medical risk profiling, EHR data, fraud-waste-abuse\\nExperience in working with Linux computing environment and use of command line tools like sed/awk\\nGood grasp on databases including RDBMS, NoSQL, MongoDB etc.\\nEducation Qualification\\nB.Tech / M.Tech in Computer Science / Mathematics / Signal Processing or related fields.',\n",
       " 'ABOUT THIS JOB\\nNielsenIQ Advanced Analytics team develops and promotes a portfolio of global products. Leveraging NielsenIQs unparalleled data and global platforms, the Advanced Analytics team creates solutions to enable our clients to make better business decisions every day.  We partner with Product Owners and Core Technology Teams to build scalable, always on,  analytic products using relevant modeling/ML techniques.\\nWe’re looking for a passionate and talented Senior Data Scientist to join our growing team. In this role, you’ll have the chance to roll up your sleeves and apply data science methods and analytics to sustain NielsenIQ Analytics growth. Successful candidates are intellectually curious builders and active learners who are biased toward action, new problem solving.\\nRoles & Responsibilities :\\nUnderstand business issues, stakeholder requirement and expectations\\nPerform relevant modeling analysis and POC exploring multiple techniques\\nEnsure Analytics model quality\\nDocument and present findings and recommendations on methodology in a structured way to various stakeholder or partnering teams (Engineering, Tech, Product leader).\\nWork closely with the Engineering and Tech team to convert those POC into fully scalable products.\\nActive and effective collaboration with other project team members (other Data Scientist, Data Steward, Technology Engineer)\\nCollaboratively manage projects from timeline creation to project completion, managing expectations with leaders and colleagues\\nEncourage team building, best practices sharing especially with more junior team members.\\nStay abreast of developments in the area to ensure bringing the most appropriate solutions to our business\\nAbout You\\nYou’ve built a decent track record in research and data analytics. And you have the communication chops to translate it all into conversations. While you’ve worked with global cross-functional teams, you can also put your head down and focus on independent projects. Seeing the big picture takes attention to detail. Keeping up with the fast-changing world of technology takes someone who recognizes that. You know what’s happening in big data and you’re ready to influence what’s next.\\nQualifications\\nMasters degree in Data Sciences, mathematics or a closely related field\\n3 to 5 years of experience as a Data Scientist in the business\\nStrong knowledge of statistical modelling, machine learning.\\nExperience in machine learning, supervised and unsupervised: Forecasting, Classification, Data/Text Mining, NLP, Decision Trees, Adaptive Decision Algorithms, Random Forest, Search Algorithms, Neural Networks, Deep Learning Algorithms\\nExperience with Optimisation techniques: linear programming, integer programming, genetic algorithm, constrained optimisation\\nExperience in working on distributed or cloud computing platforms such as Google Cloud or Microsoft Azure\\nProficiency in Data Science coding languages like Python, PySpark, SQL, R in a cloud environment like DataBricks\\nExperience using collaborative development tools (git).\\nExperience working with Agile methodologies (SCRUM)\\nStrong problem solving and excellent communication skills, independent working style\\nExperience in an FMCG company is a strong plus',\n",
       " 'Roles and Responsibilities\\nRequirements :\\n\\n- 6-9 years of strong experience in data mining, machine learning and statistical analysis.\\n\\n- BS/ MS/ PhD in Computer Science, Statistics, Applied Math, or related areas from Premier institutes ( only IITs / IISc / BITS / Top NITs or top US university should apply)\\n\\n- Ability to lead and deliver in a fast-paced start-up environment.\\n\\n- Fluency in tools such as Python/ R/ Matlab etc.\\n\\n- Strong intuition for data and Keen aptitude on large scale data analysis\\n\\n- Excellent written and verbal communication skills.\\n\\n- Ability to collaborate across teams and strong interpersonal skills.']"
      ]
     },
     "execution_count": 29,
     "metadata": {},
     "output_type": "execute_result"
    }
   ],
   "source": [
    "#scrape data for top 10 company descriptions\n",
    "job_descriptions=[]\n",
    "for i in job_opening_urls:\n",
    "    driver.get(i)\n",
    "    try:\n",
    "        job_description= driver.find_element_by_xpath(\"//div[@class='dang-inner-html']\")\n",
    "        job_descriptions.append(job_description.text)\n",
    "    except:\n",
    "        pass\n",
    "job_descriptions"
   ]
  },
  {
   "cell_type": "code",
   "execution_count": 30,
   "metadata": {},
   "outputs": [
    {
     "name": "stdout",
     "output_type": "stream",
     "text": [
      "10 10 10 10\n"
     ]
    }
   ],
   "source": [
    "#cheaking length by using len function\n",
    "print(len(job_titles),len(locations),len(company_names),len(job_descriptions))"
   ]
  },
  {
   "cell_type": "code",
   "execution_count": 31,
   "metadata": {},
   "outputs": [],
   "source": [
    "#creating a dataframe by importing pandas as pd\n",
    "jobs2=pd.DataFrame({})\n",
    "jobs2['title']=job_titles\n",
    "jobs2['location']=locations\n",
    "jobs2['company']=company_names\n",
    "jobs2['Full job description']=job_descriptions"
   ]
  },
  {
   "cell_type": "code",
   "execution_count": 32,
   "metadata": {},
   "outputs": [
    {
     "data": {
      "text/html": [
       "<div>\n",
       "<style scoped>\n",
       "    .dataframe tbody tr th:only-of-type {\n",
       "        vertical-align: middle;\n",
       "    }\n",
       "\n",
       "    .dataframe tbody tr th {\n",
       "        vertical-align: top;\n",
       "    }\n",
       "\n",
       "    .dataframe thead th {\n",
       "        text-align: right;\n",
       "    }\n",
       "</style>\n",
       "<table border=\"1\" class=\"dataframe\">\n",
       "  <thead>\n",
       "    <tr style=\"text-align: right;\">\n",
       "      <th></th>\n",
       "      <th>title</th>\n",
       "      <th>location</th>\n",
       "      <th>company</th>\n",
       "      <th>Full job description</th>\n",
       "    </tr>\n",
       "  </thead>\n",
       "  <tbody>\n",
       "    <tr>\n",
       "      <th>0</th>\n",
       "      <td>Data Scientist / Data Analyst -Business Analyst</td>\n",
       "      <td>Hyderabad/Secunderabad</td>\n",
       "      <td>Inflexion Analytix Private Limited</td>\n",
       "      <td>Job description\\n\\nJob Role: Data Scientist/Da...</td>\n",
       "    </tr>\n",
       "    <tr>\n",
       "      <th>1</th>\n",
       "      <td>Senior Data Scientist</td>\n",
       "      <td>Bangalore/Bengaluru</td>\n",
       "      <td>Roppen Transportation Services Private Limited</td>\n",
       "      <td>Our Cause:\\nRapido is Indias largest bike taxi...</td>\n",
       "    </tr>\n",
       "    <tr>\n",
       "      <th>2</th>\n",
       "      <td>Senior Data Scientist</td>\n",
       "      <td>Bangalore/Bengaluru</td>\n",
       "      <td>Baker Hughes - The Network</td>\n",
       "      <td>As a Sr Data Scientist, you will be responsibl...</td>\n",
       "    </tr>\n",
       "    <tr>\n",
       "      <th>3</th>\n",
       "      <td>Senior Data Scientist</td>\n",
       "      <td>Bangalore/Bengaluru</td>\n",
       "      <td>FabHotel Aay Kay Model Town</td>\n",
       "      <td>As as Senior Data Scientist, you will be part ...</td>\n",
       "    </tr>\n",
       "    <tr>\n",
       "      <th>4</th>\n",
       "      <td>Senior Data Scientist</td>\n",
       "      <td>Bangalore/Bengaluru</td>\n",
       "      <td>Baker Hughes Incorporated</td>\n",
       "      <td>As a Sr Data Scientist, you will be responsibl...</td>\n",
       "    </tr>\n",
       "    <tr>\n",
       "      <th>5</th>\n",
       "      <td>Lead Data Scientist</td>\n",
       "      <td>Bangalore/Bengaluru</td>\n",
       "      <td>Becton Dickinson India Pvt Ltd</td>\n",
       "      <td>Job Summary\\nAs a member of the BD Advanced An...</td>\n",
       "    </tr>\n",
       "    <tr>\n",
       "      <th>6</th>\n",
       "      <td>Senior Data Scientist</td>\n",
       "      <td>Bangalore/Bengaluru</td>\n",
       "      <td>24/7 Customer</td>\n",
       "      <td>Brief about the Role\\nThe Platforms team of th...</td>\n",
       "    </tr>\n",
       "    <tr>\n",
       "      <th>7</th>\n",
       "      <td>Senior Data Scientist</td>\n",
       "      <td>Mumbai</td>\n",
       "      <td>Fractal Analytics</td>\n",
       "      <td>The Artificial Intelligence and Machine Learni...</td>\n",
       "    </tr>\n",
       "    <tr>\n",
       "      <th>8</th>\n",
       "      <td>Senior Data Scientist</td>\n",
       "      <td>Chennai</td>\n",
       "      <td>Nielsen</td>\n",
       "      <td>ABOUT THIS JOB\\nNielsenIQ Advanced Analytics t...</td>\n",
       "    </tr>\n",
       "    <tr>\n",
       "      <th>9</th>\n",
       "      <td>Lead Data Scientist - Machine Learning/ Data M...</td>\n",
       "      <td>Bangalore/Bengaluru</td>\n",
       "      <td>Wrackle Technologies Pvt Ltd</td>\n",
       "      <td>Roles and Responsibilities\\nRequirements :\\n\\n...</td>\n",
       "    </tr>\n",
       "  </tbody>\n",
       "</table>\n",
       "</div>"
      ],
      "text/plain": [
       "                                               title                location  \\\n",
       "0    Data Scientist / Data Analyst -Business Analyst  Hyderabad/Secunderabad   \n",
       "1                              Senior Data Scientist     Bangalore/Bengaluru   \n",
       "2                              Senior Data Scientist     Bangalore/Bengaluru   \n",
       "3                              Senior Data Scientist     Bangalore/Bengaluru   \n",
       "4                              Senior Data Scientist     Bangalore/Bengaluru   \n",
       "5                                Lead Data Scientist     Bangalore/Bengaluru   \n",
       "6                              Senior Data Scientist     Bangalore/Bengaluru   \n",
       "7                              Senior Data Scientist                  Mumbai   \n",
       "8                              Senior Data Scientist                 Chennai   \n",
       "9  Lead Data Scientist - Machine Learning/ Data M...     Bangalore/Bengaluru   \n",
       "\n",
       "                                          company  \\\n",
       "0              Inflexion Analytix Private Limited   \n",
       "1  Roppen Transportation Services Private Limited   \n",
       "2                      Baker Hughes - The Network   \n",
       "3                     FabHotel Aay Kay Model Town   \n",
       "4                       Baker Hughes Incorporated   \n",
       "5                  Becton Dickinson India Pvt Ltd   \n",
       "6                                   24/7 Customer   \n",
       "7                               Fractal Analytics   \n",
       "8                                         Nielsen   \n",
       "9                    Wrackle Technologies Pvt Ltd   \n",
       "\n",
       "                                Full job description  \n",
       "0  Job description\\n\\nJob Role: Data Scientist/Da...  \n",
       "1  Our Cause:\\nRapido is Indias largest bike taxi...  \n",
       "2  As a Sr Data Scientist, you will be responsibl...  \n",
       "3  As as Senior Data Scientist, you will be part ...  \n",
       "4  As a Sr Data Scientist, you will be responsibl...  \n",
       "5  Job Summary\\nAs a member of the BD Advanced An...  \n",
       "6  Brief about the Role\\nThe Platforms team of th...  \n",
       "7  The Artificial Intelligence and Machine Learni...  \n",
       "8  ABOUT THIS JOB\\nNielsenIQ Advanced Analytics t...  \n",
       "9  Roles and Responsibilities\\nRequirements :\\n\\n...  "
      ]
     },
     "execution_count": 32,
     "metadata": {},
     "output_type": "execute_result"
    }
   ],
   "source": [
    "jobs2"
   ]
  },
  {
   "cell_type": "markdown",
   "metadata": {},
   "source": [
    "### Q3: In this question you have to scrape data using the filters available on the webpage as shown below:"
   ]
  },
  {
   "cell_type": "code",
   "execution_count": 33,
   "metadata": {},
   "outputs": [],
   "source": [
    "#connecting to the web driver\n",
    "driver = webdriver.Chrome(\"Chromedriver.exe\")"
   ]
  },
  {
   "cell_type": "code",
   "execution_count": 34,
   "metadata": {},
   "outputs": [],
   "source": [
    "#get the url\n",
    "url = 'https://www.naukri.com/'\n",
    "driver.get(url)"
   ]
  },
  {
   "cell_type": "code",
   "execution_count": 35,
   "metadata": {},
   "outputs": [],
   "source": [
    "#writing Data Scientist in company field\n",
    "company_field=driver.find_element_by_xpath(\"//input[@class='sugInp']\")\n",
    "company_field.send_keys('Data Scientist')"
   ]
  },
  {
   "cell_type": "code",
   "execution_count": 36,
   "metadata": {},
   "outputs": [],
   "source": [
    "#clicking the search button\n",
    "search=driver.find_element_by_xpath(\"//button[@class='btn']\")\n",
    "search.click()"
   ]
  },
  {
   "cell_type": "code",
   "execution_count": 37,
   "metadata": {},
   "outputs": [],
   "source": [
    "#to extract data of location filter by coping full xpath\n",
    "location_filter = driver.find_element_by_xpath('/html/body/div[1]/div[3]/div[2]/section[1]/div[2]/div[2]/div[2]/div[2]/label/p/span[1]')\n",
    "location_filter.click()"
   ]
  },
  {
   "cell_type": "code",
   "execution_count": 38,
   "metadata": {},
   "outputs": [],
   "source": [
    "#to extract data of salary filter by coping full xpath\n",
    "salary_filter = driver.find_element_by_xpath('/html/body/div[1]/div[3]/div[2]/section[1]/div[2]/div[3]/div[2]/div[2]/label/p/span[1]')\n",
    "salary_filter.click()"
   ]
  },
  {
   "cell_type": "code",
   "execution_count": 39,
   "metadata": {},
   "outputs": [
    {
     "data": {
      "text/plain": [
       "[<selenium.webdriver.remote.webelement.WebElement (session=\"5ae2e9d2106ffc6a6f0c0e12ba44046c\", element=\"3b77017f-3353-4ae7-a3b7-25b90c2dd93a\")>,\n",
       " <selenium.webdriver.remote.webelement.WebElement (session=\"5ae2e9d2106ffc6a6f0c0e12ba44046c\", element=\"b30f07ea-c45f-4a9a-a7d0-053f01bb81c3\")>,\n",
       " <selenium.webdriver.remote.webelement.WebElement (session=\"5ae2e9d2106ffc6a6f0c0e12ba44046c\", element=\"2f6c3246-e66b-4fe6-ba90-2dc75a0ba162\")>,\n",
       " <selenium.webdriver.remote.webelement.WebElement (session=\"5ae2e9d2106ffc6a6f0c0e12ba44046c\", element=\"e81a7cf1-6f66-4035-a713-674cff1e256f\")>,\n",
       " <selenium.webdriver.remote.webelement.WebElement (session=\"5ae2e9d2106ffc6a6f0c0e12ba44046c\", element=\"8a4d48ea-6872-4476-845d-0bccda19fb61\")>,\n",
       " <selenium.webdriver.remote.webelement.WebElement (session=\"5ae2e9d2106ffc6a6f0c0e12ba44046c\", element=\"ee3d3f6b-4ef8-4ab6-b62b-d56d9e19fad1\")>,\n",
       " <selenium.webdriver.remote.webelement.WebElement (session=\"5ae2e9d2106ffc6a6f0c0e12ba44046c\", element=\"79a7bfd7-9ee8-428c-83bd-3a89c8c4dc17\")>,\n",
       " <selenium.webdriver.remote.webelement.WebElement (session=\"5ae2e9d2106ffc6a6f0c0e12ba44046c\", element=\"27585d96-dc65-4b0f-a424-6d3e9b38e0a8\")>,\n",
       " <selenium.webdriver.remote.webelement.WebElement (session=\"5ae2e9d2106ffc6a6f0c0e12ba44046c\", element=\"80a42f21-09a0-4766-a4de-4033649d91b2\")>,\n",
       " <selenium.webdriver.remote.webelement.WebElement (session=\"5ae2e9d2106ffc6a6f0c0e12ba44046c\", element=\"bf24bade-b9f3-4044-b77e-ad10cb718f7c\")>]"
      ]
     },
     "execution_count": 39,
     "metadata": {},
     "output_type": "execute_result"
    }
   ],
   "source": [
    "#scraping top 10 job titles\n",
    "job_title= driver.find_elements_by_xpath(\"//a[@class='title fw500 ellipsis']\")[:10]\n",
    "job_title"
   ]
  },
  {
   "cell_type": "code",
   "execution_count": 40,
   "metadata": {},
   "outputs": [
    {
     "data": {
      "text/plain": [
       "['Only Fresher / Data Scientist / Data Analyst / Analytics - MNC OSC',\n",
       " 'Advanced Analytics -Data Scientist',\n",
       " 'Data Scientist - Machine Learning/ NLP',\n",
       " 'Data Scientist - Text NLP | Noida',\n",
       " 'Data Scientist - Machine Learning/NLP',\n",
       " 'Data Scientist - Machine Learning/NLP',\n",
       " 'Data analytics / Data scientist intern (work from Home)',\n",
       " 'Chaayos is Looking For Data Scientist',\n",
       " 'Data Scientist -Delhi',\n",
       " 'Data Scientist']"
      ]
     },
     "execution_count": 40,
     "metadata": {},
     "output_type": "execute_result"
    }
   ],
   "source": [
    "job_titles=[]\n",
    "for i in job_title:\n",
    "    job_titles.append(i.text)\n",
    "job_titles    "
   ]
  },
  {
   "cell_type": "code",
   "execution_count": 41,
   "metadata": {},
   "outputs": [
    {
     "data": {
      "text/plain": [
       "[<selenium.webdriver.remote.webelement.WebElement (session=\"5ae2e9d2106ffc6a6f0c0e12ba44046c\", element=\"a8d1eb70-ade2-4a47-a78e-8f9df6c0ade3\")>,\n",
       " <selenium.webdriver.remote.webelement.WebElement (session=\"5ae2e9d2106ffc6a6f0c0e12ba44046c\", element=\"b6f8dd08-faff-4b16-bf88-d8e2a65812e4\")>,\n",
       " <selenium.webdriver.remote.webelement.WebElement (session=\"5ae2e9d2106ffc6a6f0c0e12ba44046c\", element=\"9060d166-e6af-4dd9-9e1e-5111c4e946f5\")>,\n",
       " <selenium.webdriver.remote.webelement.WebElement (session=\"5ae2e9d2106ffc6a6f0c0e12ba44046c\", element=\"8ef4e2cd-2e3d-47d8-9932-f0701a753a80\")>,\n",
       " <selenium.webdriver.remote.webelement.WebElement (session=\"5ae2e9d2106ffc6a6f0c0e12ba44046c\", element=\"bef2a11b-7c8b-4424-a1c7-801cc5b5e0bb\")>,\n",
       " <selenium.webdriver.remote.webelement.WebElement (session=\"5ae2e9d2106ffc6a6f0c0e12ba44046c\", element=\"8ae1eb88-7555-4904-bcc8-e2726ebe30ce\")>,\n",
       " <selenium.webdriver.remote.webelement.WebElement (session=\"5ae2e9d2106ffc6a6f0c0e12ba44046c\", element=\"3adcf1fa-d603-4415-9ab8-6624e1a9725d\")>,\n",
       " <selenium.webdriver.remote.webelement.WebElement (session=\"5ae2e9d2106ffc6a6f0c0e12ba44046c\", element=\"28ad9e33-f3fd-4742-bd42-92d9c7bedd2e\")>,\n",
       " <selenium.webdriver.remote.webelement.WebElement (session=\"5ae2e9d2106ffc6a6f0c0e12ba44046c\", element=\"a3652a77-94bb-407c-809b-fda1be32b306\")>,\n",
       " <selenium.webdriver.remote.webelement.WebElement (session=\"5ae2e9d2106ffc6a6f0c0e12ba44046c\", element=\"96f42a42-0dc5-4987-a50a-1a142cd3ba3a\")>]"
      ]
     },
     "execution_count": 41,
     "metadata": {},
     "output_type": "execute_result"
    }
   ],
   "source": [
    "#scraping top 10 job company location\n",
    "job_location= driver.find_elements_by_xpath(\"//li[@class='fleft grey-text br2 placeHolderLi location']//span\")[:10]\n",
    "job_location"
   ]
  },
  {
   "cell_type": "code",
   "execution_count": 42,
   "metadata": {},
   "outputs": [
    {
     "data": {
      "text/plain": [
       "['Noida, Gurgaon/Gurugram, Delhi / NCR',\n",
       " 'New Delhi, Hyderabad/Secunderabad',\n",
       " 'Gurgaon/Gurugram',\n",
       " 'Noida',\n",
       " 'Gurgaon/Gurugram',\n",
       " 'Gurgaon/Gurugram',\n",
       " 'Kolkata, Bangalore/Bengaluru, Delhi / NCR',\n",
       " 'New Delhi',\n",
       " 'New Delhi',\n",
       " 'Mumbai, Gurgaon/Gurugram, Bangalore/Bengaluru']"
      ]
     },
     "execution_count": 42,
     "metadata": {},
     "output_type": "execute_result"
    }
   ],
   "source": [
    "job_locations=[]\n",
    "for i in job_location:\n",
    "    job_locations.append(i.text)\n",
    "job_locations  "
   ]
  },
  {
   "cell_type": "code",
   "execution_count": 43,
   "metadata": {},
   "outputs": [
    {
     "data": {
      "text/plain": [
       "[<selenium.webdriver.remote.webelement.WebElement (session=\"5ae2e9d2106ffc6a6f0c0e12ba44046c\", element=\"ac5a65b8-0ef0-453a-9061-6500a57e45dd\")>,\n",
       " <selenium.webdriver.remote.webelement.WebElement (session=\"5ae2e9d2106ffc6a6f0c0e12ba44046c\", element=\"ddce8e39-d112-403f-8836-4f26935b5d8b\")>,\n",
       " <selenium.webdriver.remote.webelement.WebElement (session=\"5ae2e9d2106ffc6a6f0c0e12ba44046c\", element=\"dc3617a7-2fb4-4756-90b4-f5665ff3ae87\")>,\n",
       " <selenium.webdriver.remote.webelement.WebElement (session=\"5ae2e9d2106ffc6a6f0c0e12ba44046c\", element=\"e62fdb18-f8b7-48e7-8a73-7a76dfc0b226\")>,\n",
       " <selenium.webdriver.remote.webelement.WebElement (session=\"5ae2e9d2106ffc6a6f0c0e12ba44046c\", element=\"ca00f2b8-0a4f-4e67-92c9-d808b9e6404d\")>,\n",
       " <selenium.webdriver.remote.webelement.WebElement (session=\"5ae2e9d2106ffc6a6f0c0e12ba44046c\", element=\"037da009-e0f3-44e9-8bab-8a4827065216\")>,\n",
       " <selenium.webdriver.remote.webelement.WebElement (session=\"5ae2e9d2106ffc6a6f0c0e12ba44046c\", element=\"f9542e19-9d2a-4280-bea3-96e85db99f1f\")>,\n",
       " <selenium.webdriver.remote.webelement.WebElement (session=\"5ae2e9d2106ffc6a6f0c0e12ba44046c\", element=\"2de51dc1-9819-4b31-9d0d-625cbec731a5\")>,\n",
       " <selenium.webdriver.remote.webelement.WebElement (session=\"5ae2e9d2106ffc6a6f0c0e12ba44046c\", element=\"b21927fb-d94d-4ca1-8140-c0d8a95512f9\")>,\n",
       " <selenium.webdriver.remote.webelement.WebElement (session=\"5ae2e9d2106ffc6a6f0c0e12ba44046c\", element=\"92add464-9b60-4135-a522-ae7914531c88\")>]"
      ]
     },
     "execution_count": 43,
     "metadata": {},
     "output_type": "execute_result"
    }
   ],
   "source": [
    "#scraping top 10 company names\n",
    "company_name=driver.find_elements_by_xpath(\"//a[@class='subTitle ellipsis fleft']\")[:10]\n",
    "company_name"
   ]
  },
  {
   "cell_type": "code",
   "execution_count": 44,
   "metadata": {},
   "outputs": [
    {
     "data": {
      "text/plain": [
       "['GABA Consultancy services',\n",
       " 'ERM Placement Services (P) Ltd.',\n",
       " 'TalPro',\n",
       " 'Acidaes Solutions Pvt. Ltd.',\n",
       " 'TalPro',\n",
       " 'TalPro',\n",
       " 'TalkValley LLC',\n",
       " 'Chaayos (Sunshine Teahouse Pvt. Ltd.)',\n",
       " 'CHANGE LEADERS CONSULTING',\n",
       " 'Fractal Analytics']"
      ]
     },
     "execution_count": 44,
     "metadata": {},
     "output_type": "execute_result"
    }
   ],
   "source": [
    "company_names=[]\n",
    "for i in company_name:\n",
    "    company_names.append(i.text)\n",
    "company_names"
   ]
  },
  {
   "cell_type": "code",
   "execution_count": 45,
   "metadata": {},
   "outputs": [
    {
     "data": {
      "text/plain": [
       "[<selenium.webdriver.remote.webelement.WebElement (session=\"5ae2e9d2106ffc6a6f0c0e12ba44046c\", element=\"17a775ff-104d-4094-8c63-c51de328d514\")>,\n",
       " <selenium.webdriver.remote.webelement.WebElement (session=\"5ae2e9d2106ffc6a6f0c0e12ba44046c\", element=\"8f834106-d5e6-4f67-9ba1-0448c7ba9b23\")>,\n",
       " <selenium.webdriver.remote.webelement.WebElement (session=\"5ae2e9d2106ffc6a6f0c0e12ba44046c\", element=\"8eb71999-d82e-46fe-b280-d4c16d8e8dc3\")>,\n",
       " <selenium.webdriver.remote.webelement.WebElement (session=\"5ae2e9d2106ffc6a6f0c0e12ba44046c\", element=\"cc28bbe3-6a5f-4075-8acb-f49623e3ac93\")>,\n",
       " <selenium.webdriver.remote.webelement.WebElement (session=\"5ae2e9d2106ffc6a6f0c0e12ba44046c\", element=\"ad028b74-bad0-441e-9f1a-493835858b0d\")>,\n",
       " <selenium.webdriver.remote.webelement.WebElement (session=\"5ae2e9d2106ffc6a6f0c0e12ba44046c\", element=\"9691592e-2ff1-478c-8ca2-fb6f57e78e38\")>,\n",
       " <selenium.webdriver.remote.webelement.WebElement (session=\"5ae2e9d2106ffc6a6f0c0e12ba44046c\", element=\"7eb5ad23-591c-4954-8ef7-501e880abf0c\")>,\n",
       " <selenium.webdriver.remote.webelement.WebElement (session=\"5ae2e9d2106ffc6a6f0c0e12ba44046c\", element=\"0fcb1519-aae9-440a-8a5f-70846abb3bf6\")>,\n",
       " <selenium.webdriver.remote.webelement.WebElement (session=\"5ae2e9d2106ffc6a6f0c0e12ba44046c\", element=\"044cdc69-b34d-4144-9f6a-01310203fd04\")>,\n",
       " <selenium.webdriver.remote.webelement.WebElement (session=\"5ae2e9d2106ffc6a6f0c0e12ba44046c\", element=\"2b7df18e-22a4-4090-a3ee-f88de4ca5016\")>]"
      ]
     },
     "execution_count": 45,
     "metadata": {},
     "output_type": "execute_result"
    }
   ],
   "source": [
    "#scraping top 10 experience requirement in the companies\n",
    "experience_req=driver.find_elements_by_xpath(\"//li[@class='fleft grey-text br2 placeHolderLi experience']//span\")[:10]\n",
    "experience_req"
   ]
  },
  {
   "cell_type": "code",
   "execution_count": 46,
   "metadata": {},
   "outputs": [
    {
     "data": {
      "text/plain": [
       "['0-0 Yrs',\n",
       " '3-7 Yrs',\n",
       " '2-6 Yrs',\n",
       " '3-5 Yrs',\n",
       " '2-6 Yrs',\n",
       " '2-4 Yrs',\n",
       " '0-5 Yrs',\n",
       " '0-5 Yrs',\n",
       " '5-8 Yrs',\n",
       " '3-7 Yrs']"
      ]
     },
     "execution_count": 46,
     "metadata": {},
     "output_type": "execute_result"
    }
   ],
   "source": [
    "experience_required=[]\n",
    "for i in experience_req:\n",
    "    experience_required.append(i.text)\n",
    "experience_required    "
   ]
  },
  {
   "cell_type": "code",
   "execution_count": 47,
   "metadata": {},
   "outputs": [
    {
     "name": "stdout",
     "output_type": "stream",
     "text": [
      "10 10 10 10\n"
     ]
    }
   ],
   "source": [
    "#cheaking length by using len function\n",
    "print(len(job_titles),len(job_locations),len(company_names),len(experience_required))"
   ]
  },
  {
   "cell_type": "code",
   "execution_count": 48,
   "metadata": {},
   "outputs": [],
   "source": [
    "#creating a dataframe by importing pandas as pd\n",
    "jobs3=pd.DataFrame({})\n",
    "jobs3['title']=job_titles\n",
    "jobs3['location']=job_locations\n",
    "jobs3['company']=company_names\n",
    "jobs3['Full job description']=experience_required"
   ]
  },
  {
   "cell_type": "code",
   "execution_count": 49,
   "metadata": {},
   "outputs": [
    {
     "data": {
      "text/html": [
       "<div>\n",
       "<style scoped>\n",
       "    .dataframe tbody tr th:only-of-type {\n",
       "        vertical-align: middle;\n",
       "    }\n",
       "\n",
       "    .dataframe tbody tr th {\n",
       "        vertical-align: top;\n",
       "    }\n",
       "\n",
       "    .dataframe thead th {\n",
       "        text-align: right;\n",
       "    }\n",
       "</style>\n",
       "<table border=\"1\" class=\"dataframe\">\n",
       "  <thead>\n",
       "    <tr style=\"text-align: right;\">\n",
       "      <th></th>\n",
       "      <th>title</th>\n",
       "      <th>location</th>\n",
       "      <th>company</th>\n",
       "      <th>Full job description</th>\n",
       "    </tr>\n",
       "  </thead>\n",
       "  <tbody>\n",
       "    <tr>\n",
       "      <th>0</th>\n",
       "      <td>Only Fresher / Data Scientist / Data Analyst /...</td>\n",
       "      <td>Noida, Gurgaon/Gurugram, Delhi / NCR</td>\n",
       "      <td>GABA Consultancy services</td>\n",
       "      <td>0-0 Yrs</td>\n",
       "    </tr>\n",
       "    <tr>\n",
       "      <th>1</th>\n",
       "      <td>Advanced Analytics -Data Scientist</td>\n",
       "      <td>New Delhi, Hyderabad/Secunderabad</td>\n",
       "      <td>ERM Placement Services (P) Ltd.</td>\n",
       "      <td>3-7 Yrs</td>\n",
       "    </tr>\n",
       "    <tr>\n",
       "      <th>2</th>\n",
       "      <td>Data Scientist - Machine Learning/ NLP</td>\n",
       "      <td>Gurgaon/Gurugram</td>\n",
       "      <td>TalPro</td>\n",
       "      <td>2-6 Yrs</td>\n",
       "    </tr>\n",
       "    <tr>\n",
       "      <th>3</th>\n",
       "      <td>Data Scientist - Text NLP | Noida</td>\n",
       "      <td>Noida</td>\n",
       "      <td>Acidaes Solutions Pvt. Ltd.</td>\n",
       "      <td>3-5 Yrs</td>\n",
       "    </tr>\n",
       "    <tr>\n",
       "      <th>4</th>\n",
       "      <td>Data Scientist - Machine Learning/NLP</td>\n",
       "      <td>Gurgaon/Gurugram</td>\n",
       "      <td>TalPro</td>\n",
       "      <td>2-6 Yrs</td>\n",
       "    </tr>\n",
       "    <tr>\n",
       "      <th>5</th>\n",
       "      <td>Data Scientist - Machine Learning/NLP</td>\n",
       "      <td>Gurgaon/Gurugram</td>\n",
       "      <td>TalPro</td>\n",
       "      <td>2-4 Yrs</td>\n",
       "    </tr>\n",
       "    <tr>\n",
       "      <th>6</th>\n",
       "      <td>Data analytics / Data scientist intern (work f...</td>\n",
       "      <td>Kolkata, Bangalore/Bengaluru, Delhi / NCR</td>\n",
       "      <td>TalkValley LLC</td>\n",
       "      <td>0-5 Yrs</td>\n",
       "    </tr>\n",
       "    <tr>\n",
       "      <th>7</th>\n",
       "      <td>Chaayos is Looking For Data Scientist</td>\n",
       "      <td>New Delhi</td>\n",
       "      <td>Chaayos (Sunshine Teahouse Pvt. Ltd.)</td>\n",
       "      <td>0-5 Yrs</td>\n",
       "    </tr>\n",
       "    <tr>\n",
       "      <th>8</th>\n",
       "      <td>Data Scientist -Delhi</td>\n",
       "      <td>New Delhi</td>\n",
       "      <td>CHANGE LEADERS CONSULTING</td>\n",
       "      <td>5-8 Yrs</td>\n",
       "    </tr>\n",
       "    <tr>\n",
       "      <th>9</th>\n",
       "      <td>Data Scientist</td>\n",
       "      <td>Mumbai, Gurgaon/Gurugram, Bangalore/Bengaluru</td>\n",
       "      <td>Fractal Analytics</td>\n",
       "      <td>3-7 Yrs</td>\n",
       "    </tr>\n",
       "  </tbody>\n",
       "</table>\n",
       "</div>"
      ],
      "text/plain": [
       "                                               title  \\\n",
       "0  Only Fresher / Data Scientist / Data Analyst /...   \n",
       "1                 Advanced Analytics -Data Scientist   \n",
       "2             Data Scientist - Machine Learning/ NLP   \n",
       "3                  Data Scientist - Text NLP | Noida   \n",
       "4              Data Scientist - Machine Learning/NLP   \n",
       "5              Data Scientist - Machine Learning/NLP   \n",
       "6  Data analytics / Data scientist intern (work f...   \n",
       "7              Chaayos is Looking For Data Scientist   \n",
       "8                              Data Scientist -Delhi   \n",
       "9                                     Data Scientist   \n",
       "\n",
       "                                        location  \\\n",
       "0           Noida, Gurgaon/Gurugram, Delhi / NCR   \n",
       "1              New Delhi, Hyderabad/Secunderabad   \n",
       "2                               Gurgaon/Gurugram   \n",
       "3                                          Noida   \n",
       "4                               Gurgaon/Gurugram   \n",
       "5                               Gurgaon/Gurugram   \n",
       "6      Kolkata, Bangalore/Bengaluru, Delhi / NCR   \n",
       "7                                      New Delhi   \n",
       "8                                      New Delhi   \n",
       "9  Mumbai, Gurgaon/Gurugram, Bangalore/Bengaluru   \n",
       "\n",
       "                                 company Full job description  \n",
       "0              GABA Consultancy services              0-0 Yrs  \n",
       "1        ERM Placement Services (P) Ltd.              3-7 Yrs  \n",
       "2                                 TalPro              2-6 Yrs  \n",
       "3            Acidaes Solutions Pvt. Ltd.              3-5 Yrs  \n",
       "4                                 TalPro              2-6 Yrs  \n",
       "5                                 TalPro              2-4 Yrs  \n",
       "6                         TalkValley LLC              0-5 Yrs  \n",
       "7  Chaayos (Sunshine Teahouse Pvt. Ltd.)              0-5 Yrs  \n",
       "8              CHANGE LEADERS CONSULTING              5-8 Yrs  \n",
       "9                      Fractal Analytics              3-7 Yrs  "
      ]
     },
     "execution_count": 49,
     "metadata": {},
     "output_type": "execute_result"
    }
   ],
   "source": [
    "jobs3"
   ]
  },
  {
   "cell_type": "markdown",
   "metadata": {},
   "source": [
    "### Q4: To scrape data for first 10 job results for Data scientist Designation in Noida location."
   ]
  },
  {
   "cell_type": "code",
   "execution_count": 50,
   "metadata": {},
   "outputs": [],
   "source": [
    "#connecting to the web driver\n",
    "driver = webdriver.Chrome(\"Chromedriver.exe\")"
   ]
  },
  {
   "cell_type": "code",
   "execution_count": 51,
   "metadata": {},
   "outputs": [],
   "source": [
    "#get the url\n",
    "webpage = 'https://www.glassdoor.co.in/index.htm'\n",
    "driver.get(webpage)"
   ]
  },
  {
   "cell_type": "code",
   "execution_count": 52,
   "metadata": {},
   "outputs": [
    {
     "data": {
      "text/plain": [
       "<selenium.webdriver.remote.webelement.WebElement (session=\"87068ec9df2a0bd1d185e517b6ad0410\", element=\"b6691f6e-af73-4555-9443-fe197eba3ed1\")>"
      ]
     },
     "execution_count": 52,
     "metadata": {},
     "output_type": "execute_result"
    }
   ],
   "source": [
    "search_job = driver.find_element_by_class_name('css-1etjok6')\n",
    "search_job"
   ]
  },
  {
   "cell_type": "code",
   "execution_count": 53,
   "metadata": {},
   "outputs": [],
   "source": [
    "#writing Data Scientist in Job Title,Keyword,Company field\n",
    "search_job.send_keys(\"Data Scientist\")"
   ]
  },
  {
   "cell_type": "code",
   "execution_count": 54,
   "metadata": {},
   "outputs": [],
   "source": [
    "#writing Noida in the location field\n",
    "search_loc=driver.find_element_by_xpath(\"//input[@id='sc.location']\")\n",
    "search_loc.send_keys(\"Noida\")"
   ]
  },
  {
   "cell_type": "code",
   "execution_count": 55,
   "metadata": {},
   "outputs": [],
   "source": [
    "#clicking search button using Xpath function \n",
    "search_btn=driver.find_element_by_xpath(\"//button[@class='gd-ui-button ml-std col-auto SearchStyles__newSearchButton css-iixdfr']//span\")\n",
    "search_btn.click()"
   ]
  },
  {
   "cell_type": "code",
   "execution_count": 56,
   "metadata": {},
   "outputs": [
    {
     "data": {
      "text/plain": [
       "[<selenium.webdriver.remote.webelement.WebElement (session=\"87068ec9df2a0bd1d185e517b6ad0410\", element=\"86c58a45-b567-4471-9481-14c0b02629ed\")>,\n",
       " <selenium.webdriver.remote.webelement.WebElement (session=\"87068ec9df2a0bd1d185e517b6ad0410\", element=\"23c8c9ce-25b2-4e14-9bfb-21f43cc074b2\")>,\n",
       " <selenium.webdriver.remote.webelement.WebElement (session=\"87068ec9df2a0bd1d185e517b6ad0410\", element=\"871df786-023e-422e-b1fa-caa4cef85016\")>,\n",
       " <selenium.webdriver.remote.webelement.WebElement (session=\"87068ec9df2a0bd1d185e517b6ad0410\", element=\"f38e34fd-8a8c-4322-9460-d24a20b8c722\")>,\n",
       " <selenium.webdriver.remote.webelement.WebElement (session=\"87068ec9df2a0bd1d185e517b6ad0410\", element=\"e179a1bb-cbb2-4fba-8c59-9c04ec3fcff7\")>,\n",
       " <selenium.webdriver.remote.webelement.WebElement (session=\"87068ec9df2a0bd1d185e517b6ad0410\", element=\"619671ce-0966-4dea-8b51-89ca8a100bcb\")>,\n",
       " <selenium.webdriver.remote.webelement.WebElement (session=\"87068ec9df2a0bd1d185e517b6ad0410\", element=\"f73b1933-55a2-4b0a-bd40-54670ec0d781\")>,\n",
       " <selenium.webdriver.remote.webelement.WebElement (session=\"87068ec9df2a0bd1d185e517b6ad0410\", element=\"12b82469-0ec6-41b2-aa81-7eca022a5fcc\")>,\n",
       " <selenium.webdriver.remote.webelement.WebElement (session=\"87068ec9df2a0bd1d185e517b6ad0410\", element=\"d808a154-b5db-4c9e-b8da-3553b467f9dd\")>,\n",
       " <selenium.webdriver.remote.webelement.WebElement (session=\"87068ec9df2a0bd1d185e517b6ad0410\", element=\"a92137e1-c6dd-4694-b38f-b0375143e2b2\")>]"
      ]
     },
     "execution_count": 56,
     "metadata": {},
     "output_type": "execute_result"
    }
   ],
   "source": [
    "# to scrape top 10 company names\n",
    "company_name=driver.find_elements_by_xpath(\"//a[@class=' css-l2wjgv e1n63ojh0 jobLink']//span\")[:10]\n",
    "company_name"
   ]
  },
  {
   "cell_type": "code",
   "execution_count": 57,
   "metadata": {},
   "outputs": [
    {
     "data": {
      "text/plain": [
       "['Ericsson',\n",
       " 'Ginger Webs Pvt. Ltd.',\n",
       " 'Crowe',\n",
       " 'Data Patterns',\n",
       " 'Algo8 AI Pvt. Ltd.',\n",
       " 'Biz2Credit Inc',\n",
       " 'Innovacer',\n",
       " 'Salasar New Age Technologies',\n",
       " 'UnitedHealth Group',\n",
       " 'Techlive']"
      ]
     },
     "execution_count": 57,
     "metadata": {},
     "output_type": "execute_result"
    }
   ],
   "source": [
    "company_names=[]\n",
    "for i in company_name:\n",
    "    company_names.append(i.text)\n",
    "company_names    "
   ]
  },
  {
   "cell_type": "code",
   "execution_count": 58,
   "metadata": {},
   "outputs": [
    {
     "data": {
      "text/plain": [
       "[<selenium.webdriver.remote.webelement.WebElement (session=\"87068ec9df2a0bd1d185e517b6ad0410\", element=\"1dfb6471-fb41-4a47-8570-ba5d7920f663\")>,\n",
       " <selenium.webdriver.remote.webelement.WebElement (session=\"87068ec9df2a0bd1d185e517b6ad0410\", element=\"aa0e4029-4439-4e94-bc49-53f77f6dfa9c\")>,\n",
       " <selenium.webdriver.remote.webelement.WebElement (session=\"87068ec9df2a0bd1d185e517b6ad0410\", element=\"2d648473-63d6-4a65-8f2b-a74a2c97a3ef\")>,\n",
       " <selenium.webdriver.remote.webelement.WebElement (session=\"87068ec9df2a0bd1d185e517b6ad0410\", element=\"a591de48-7cf3-439e-87b6-24d2ee10ed1e\")>,\n",
       " <selenium.webdriver.remote.webelement.WebElement (session=\"87068ec9df2a0bd1d185e517b6ad0410\", element=\"1f87655c-b180-48f9-b96a-fbd8923a5a79\")>,\n",
       " <selenium.webdriver.remote.webelement.WebElement (session=\"87068ec9df2a0bd1d185e517b6ad0410\", element=\"ed15f5e7-e5d7-4afc-956c-c94a38ed1495\")>,\n",
       " <selenium.webdriver.remote.webelement.WebElement (session=\"87068ec9df2a0bd1d185e517b6ad0410\", element=\"d8277a26-d726-4764-98c4-ea8b676c9c8e\")>,\n",
       " <selenium.webdriver.remote.webelement.WebElement (session=\"87068ec9df2a0bd1d185e517b6ad0410\", element=\"fc82b484-eec5-4cf4-88bd-a0ae30f53d46\")>,\n",
       " <selenium.webdriver.remote.webelement.WebElement (session=\"87068ec9df2a0bd1d185e517b6ad0410\", element=\"66920da5-069c-45ae-9293-b26ca82ccd07\")>,\n",
       " <selenium.webdriver.remote.webelement.WebElement (session=\"87068ec9df2a0bd1d185e517b6ad0410\", element=\"4cd08aba-6c05-4100-a1c7-f02cab641f51\")>]"
      ]
     },
     "execution_count": 58,
     "metadata": {},
     "output_type": "execute_result"
    }
   ],
   "source": [
    "#to scrape top 10 no of days of jobs posted ago\n",
    "days_posted_ago=driver.find_elements_by_xpath(\"//div[@class='d-flex align-items-end pl-std css-mi55ob']\")[:10]\n",
    "days_posted_ago"
   ]
  },
  {
   "cell_type": "code",
   "execution_count": 59,
   "metadata": {},
   "outputs": [
    {
     "data": {
      "text/plain": [
       "['2d', '22d', '30d+', '18d', '15d', '30d+', '4d', '30d+', '4d', '30d+']"
      ]
     },
     "execution_count": 59,
     "metadata": {},
     "output_type": "execute_result"
    }
   ],
   "source": [
    "days_ago=[]\n",
    "for i in days_posted_ago:\n",
    "    days_ago.append(i.text)\n",
    "days_ago    "
   ]
  },
  {
   "cell_type": "code",
   "execution_count": 60,
   "metadata": {},
   "outputs": [
    {
     "data": {
      "text/plain": [
       "[<selenium.webdriver.remote.webelement.WebElement (session=\"87068ec9df2a0bd1d185e517b6ad0410\", element=\"d9029caf-6280-44b7-af88-b635dee09049\")>,\n",
       " <selenium.webdriver.remote.webelement.WebElement (session=\"87068ec9df2a0bd1d185e517b6ad0410\", element=\"473206c3-c034-43f1-b828-3574c3ad88d7\")>,\n",
       " <selenium.webdriver.remote.webelement.WebElement (session=\"87068ec9df2a0bd1d185e517b6ad0410\", element=\"b9b39890-5e4c-4f87-9465-996310a9e40b\")>,\n",
       " <selenium.webdriver.remote.webelement.WebElement (session=\"87068ec9df2a0bd1d185e517b6ad0410\", element=\"2f555b31-063a-41e0-bf80-63c2725e7d38\")>,\n",
       " <selenium.webdriver.remote.webelement.WebElement (session=\"87068ec9df2a0bd1d185e517b6ad0410\", element=\"36b7558b-3b35-4887-8bc6-113ba4567de4\")>,\n",
       " <selenium.webdriver.remote.webelement.WebElement (session=\"87068ec9df2a0bd1d185e517b6ad0410\", element=\"520e4826-77a0-425b-a013-70f7ccf4cbdd\")>,\n",
       " <selenium.webdriver.remote.webelement.WebElement (session=\"87068ec9df2a0bd1d185e517b6ad0410\", element=\"ad60078e-e4c8-4d53-97e8-9caf4b84b182\")>,\n",
       " <selenium.webdriver.remote.webelement.WebElement (session=\"87068ec9df2a0bd1d185e517b6ad0410\", element=\"c8ed7802-8e32-4f4d-a6e5-d90d0c011622\")>,\n",
       " <selenium.webdriver.remote.webelement.WebElement (session=\"87068ec9df2a0bd1d185e517b6ad0410\", element=\"296dd29d-1926-41e6-9c6a-9423a79e913b\")>,\n",
       " <selenium.webdriver.remote.webelement.WebElement (session=\"87068ec9df2a0bd1d185e517b6ad0410\", element=\"f464f4e6-94ff-4f43-af74-c6795460afeb\")>]"
      ]
     },
     "execution_count": 60,
     "metadata": {},
     "output_type": "execute_result"
    }
   ],
   "source": [
    "#to scrape top 10 ratings of the company\n",
    "company_rating=driver.find_elements_by_xpath(\"//span[@class='css-19pjha7 e1cjmv6j1']\")[:10]\n",
    "company_rating"
   ]
  },
  {
   "cell_type": "code",
   "execution_count": 61,
   "metadata": {},
   "outputs": [
    {
     "data": {
      "text/plain": [
       "['4.1', '3.8', '3.0', '3.9', '3.8', '3.7', '5.0', '3.8', '3.8', '3.8']"
      ]
     },
     "execution_count": 61,
     "metadata": {},
     "output_type": "execute_result"
    }
   ],
   "source": [
    "company_ratings=[]\n",
    "for i in company_rating:\n",
    "    company_ratings.append(i.text)\n",
    "company_ratings    "
   ]
  },
  {
   "cell_type": "code",
   "execution_count": 62,
   "metadata": {},
   "outputs": [
    {
     "name": "stdout",
     "output_type": "stream",
     "text": [
      "10 10 10\n"
     ]
    }
   ],
   "source": [
    "#cheaking length by using len function\n",
    "print(len(company_names),len(days_ago),len(company_ratings))"
   ]
  },
  {
   "cell_type": "code",
   "execution_count": 63,
   "metadata": {},
   "outputs": [],
   "source": [
    "#creating a dataframe by importing pandas as pd\n",
    "jobs4=pd.DataFrame({})\n",
    "jobs4['Company']=company_names\n",
    "jobs4['No. of days posted ago']=days_ago\n",
    "jobs4['Ratings']=company_ratings"
   ]
  },
  {
   "cell_type": "code",
   "execution_count": 64,
   "metadata": {},
   "outputs": [
    {
     "data": {
      "text/html": [
       "<div>\n",
       "<style scoped>\n",
       "    .dataframe tbody tr th:only-of-type {\n",
       "        vertical-align: middle;\n",
       "    }\n",
       "\n",
       "    .dataframe tbody tr th {\n",
       "        vertical-align: top;\n",
       "    }\n",
       "\n",
       "    .dataframe thead th {\n",
       "        text-align: right;\n",
       "    }\n",
       "</style>\n",
       "<table border=\"1\" class=\"dataframe\">\n",
       "  <thead>\n",
       "    <tr style=\"text-align: right;\">\n",
       "      <th></th>\n",
       "      <th>Company</th>\n",
       "      <th>No. of days posted ago</th>\n",
       "      <th>Ratings</th>\n",
       "    </tr>\n",
       "  </thead>\n",
       "  <tbody>\n",
       "    <tr>\n",
       "      <th>0</th>\n",
       "      <td>Ericsson</td>\n",
       "      <td>2d</td>\n",
       "      <td>4.1</td>\n",
       "    </tr>\n",
       "    <tr>\n",
       "      <th>1</th>\n",
       "      <td>Ginger Webs Pvt. Ltd.</td>\n",
       "      <td>22d</td>\n",
       "      <td>3.8</td>\n",
       "    </tr>\n",
       "    <tr>\n",
       "      <th>2</th>\n",
       "      <td>Crowe</td>\n",
       "      <td>30d+</td>\n",
       "      <td>3.0</td>\n",
       "    </tr>\n",
       "    <tr>\n",
       "      <th>3</th>\n",
       "      <td>Data Patterns</td>\n",
       "      <td>18d</td>\n",
       "      <td>3.9</td>\n",
       "    </tr>\n",
       "    <tr>\n",
       "      <th>4</th>\n",
       "      <td>Algo8 AI Pvt. Ltd.</td>\n",
       "      <td>15d</td>\n",
       "      <td>3.8</td>\n",
       "    </tr>\n",
       "    <tr>\n",
       "      <th>5</th>\n",
       "      <td>Biz2Credit Inc</td>\n",
       "      <td>30d+</td>\n",
       "      <td>3.7</td>\n",
       "    </tr>\n",
       "    <tr>\n",
       "      <th>6</th>\n",
       "      <td>Innovacer</td>\n",
       "      <td>4d</td>\n",
       "      <td>5.0</td>\n",
       "    </tr>\n",
       "    <tr>\n",
       "      <th>7</th>\n",
       "      <td>Salasar New Age Technologies</td>\n",
       "      <td>30d+</td>\n",
       "      <td>3.8</td>\n",
       "    </tr>\n",
       "    <tr>\n",
       "      <th>8</th>\n",
       "      <td>UnitedHealth Group</td>\n",
       "      <td>4d</td>\n",
       "      <td>3.8</td>\n",
       "    </tr>\n",
       "    <tr>\n",
       "      <th>9</th>\n",
       "      <td>Techlive</td>\n",
       "      <td>30d+</td>\n",
       "      <td>3.8</td>\n",
       "    </tr>\n",
       "  </tbody>\n",
       "</table>\n",
       "</div>"
      ],
      "text/plain": [
       "                        Company No. of days posted ago Ratings\n",
       "0                      Ericsson                     2d     4.1\n",
       "1         Ginger Webs Pvt. Ltd.                    22d     3.8\n",
       "2                         Crowe                   30d+     3.0\n",
       "3                 Data Patterns                    18d     3.9\n",
       "4            Algo8 AI Pvt. Ltd.                    15d     3.8\n",
       "5                Biz2Credit Inc                   30d+     3.7\n",
       "6                     Innovacer                     4d     5.0\n",
       "7  Salasar New Age Technologies                   30d+     3.8\n",
       "8            UnitedHealth Group                     4d     3.8\n",
       "9                      Techlive                   30d+     3.8"
      ]
     },
     "execution_count": 64,
     "metadata": {},
     "output_type": "execute_result"
    }
   ],
   "source": [
    "jobs4"
   ]
  },
  {
   "cell_type": "markdown",
   "metadata": {},
   "source": [
    "### Q5: Write a python program to scrape the salary data for Data Scientist designation in Noida location."
   ]
  },
  {
   "cell_type": "code",
   "execution_count": 65,
   "metadata": {},
   "outputs": [],
   "source": [
    "#connecting to the web driver\n",
    "driver = webdriver.Chrome(\"Chromedriver.exe\")"
   ]
  },
  {
   "cell_type": "code",
   "execution_count": 66,
   "metadata": {},
   "outputs": [],
   "source": [
    "#get the url\n",
    "url = 'https://www.glassdoor.co.in/Salaries/index.htm'\n",
    "driver.get(url)"
   ]
  },
  {
   "cell_type": "code",
   "execution_count": 67,
   "metadata": {},
   "outputs": [],
   "source": [
    "#writing Data Scientist in Job Title or Company field\n",
    "job_title_field = driver.find_element_by_xpath(\"//input[@class='keyword']\")\n",
    "job_title_field.send_keys(\"Data Scientist\")"
   ]
  },
  {
   "cell_type": "code",
   "execution_count": 68,
   "metadata": {},
   "outputs": [],
   "source": [
    "#writing Noida in the location_field\n",
    "location_field = driver.find_element_by_xpath(\"//input[@id='LocationSearch']\")\n",
    "location_field.send_keys(\"Noida\")"
   ]
  },
  {
   "cell_type": "code",
   "execution_count": 69,
   "metadata": {},
   "outputs": [],
   "source": [
    "#clicking the search button by using xpath function\n",
    "search = driver.find_element_by_xpath(\"//button[@class='gd-btn-mkt']\")\n",
    "search.click()"
   ]
  },
  {
   "cell_type": "code",
   "execution_count": 70,
   "metadata": {},
   "outputs": [
    {
     "data": {
      "text/plain": [
       "[<selenium.webdriver.remote.webelement.WebElement (session=\"d5afbe08735e9e04569f8dd9b9b4a2d1\", element=\"89af4338-ea1e-45ef-91df-750bda795c2b\")>,\n",
       " <selenium.webdriver.remote.webelement.WebElement (session=\"d5afbe08735e9e04569f8dd9b9b4a2d1\", element=\"bb316f71-e406-43b1-9413-bcc165e0111b\")>,\n",
       " <selenium.webdriver.remote.webelement.WebElement (session=\"d5afbe08735e9e04569f8dd9b9b4a2d1\", element=\"e9f28cdc-bc80-4fe3-b4dc-84834124e9e7\")>,\n",
       " <selenium.webdriver.remote.webelement.WebElement (session=\"d5afbe08735e9e04569f8dd9b9b4a2d1\", element=\"6e881326-713c-4a2e-9b4d-477195f2b437\")>,\n",
       " <selenium.webdriver.remote.webelement.WebElement (session=\"d5afbe08735e9e04569f8dd9b9b4a2d1\", element=\"e69f4b4a-e3b9-4da3-9d75-bf017226c0f1\")>,\n",
       " <selenium.webdriver.remote.webelement.WebElement (session=\"d5afbe08735e9e04569f8dd9b9b4a2d1\", element=\"cb586c22-6582-4767-b8d7-0893536f7288\")>,\n",
       " <selenium.webdriver.remote.webelement.WebElement (session=\"d5afbe08735e9e04569f8dd9b9b4a2d1\", element=\"e594f6f2-b82a-49d5-8e46-291f76eabcdb\")>,\n",
       " <selenium.webdriver.remote.webelement.WebElement (session=\"d5afbe08735e9e04569f8dd9b9b4a2d1\", element=\"0dc62776-e026-4f65-90e1-2296f1f725c1\")>,\n",
       " <selenium.webdriver.remote.webelement.WebElement (session=\"d5afbe08735e9e04569f8dd9b9b4a2d1\", element=\"8bdc8e2e-31bf-46ef-9667-069a70fbd2e3\")>,\n",
       " <selenium.webdriver.remote.webelement.WebElement (session=\"d5afbe08735e9e04569f8dd9b9b4a2d1\", element=\"9a382176-a1ec-40cc-9cae-782578fc7ad6\")>]"
      ]
     },
     "execution_count": 70,
     "metadata": {},
     "output_type": "execute_result"
    }
   ],
   "source": [
    "#extract top 10 tags having job_titles\n",
    "title_tags= driver.find_elements_by_xpath(\"//a[@class='css-f3vw95 e1aj7ssy3']\")[:10]\n",
    "title_tags"
   ]
  },
  {
   "cell_type": "code",
   "execution_count": 71,
   "metadata": {},
   "outputs": [
    {
     "data": {
      "text/plain": [
       "['IBM',\n",
       " 'Tata Consultancy Services',\n",
       " 'Accenture',\n",
       " 'Delhivery',\n",
       " 'Ericsson-Worldwide',\n",
       " 'UnitedHealth Group',\n",
       " 'Valiance Solutions',\n",
       " 'Optum Global Solutions',\n",
       " 'ZS Associates',\n",
       " 'EXL Service']"
      ]
     },
     "execution_count": 71,
     "metadata": {},
     "output_type": "execute_result"
    }
   ],
   "source": [
    "company_name=[]\n",
    "for i in title_tags:\n",
    "    company_name.append(i.text)\n",
    "company_name    "
   ]
  },
  {
   "cell_type": "code",
   "execution_count": 72,
   "metadata": {},
   "outputs": [
    {
     "data": {
      "text/plain": [
       "[<selenium.webdriver.remote.webelement.WebElement (session=\"d5afbe08735e9e04569f8dd9b9b4a2d1\", element=\"45c4a932-4f04-4088-a7a7-bf1854cf7958\")>,\n",
       " <selenium.webdriver.remote.webelement.WebElement (session=\"d5afbe08735e9e04569f8dd9b9b4a2d1\", element=\"2c7443d6-7f46-4c1f-a9b7-73e01f01c74c\")>,\n",
       " <selenium.webdriver.remote.webelement.WebElement (session=\"d5afbe08735e9e04569f8dd9b9b4a2d1\", element=\"666fc29f-4044-4e48-9b9d-f4c2066b2fbd\")>,\n",
       " <selenium.webdriver.remote.webelement.WebElement (session=\"d5afbe08735e9e04569f8dd9b9b4a2d1\", element=\"56afad04-b664-4241-bb5d-628f514560aa\")>,\n",
       " <selenium.webdriver.remote.webelement.WebElement (session=\"d5afbe08735e9e04569f8dd9b9b4a2d1\", element=\"93aaeecf-00af-4033-95e6-eeb4e37cbde3\")>,\n",
       " <selenium.webdriver.remote.webelement.WebElement (session=\"d5afbe08735e9e04569f8dd9b9b4a2d1\", element=\"96dde64e-34b1-40b0-bc9e-bc7c04135e3b\")>,\n",
       " <selenium.webdriver.remote.webelement.WebElement (session=\"d5afbe08735e9e04569f8dd9b9b4a2d1\", element=\"a3c241fd-9547-465d-acca-1a9d279107e8\")>,\n",
       " <selenium.webdriver.remote.webelement.WebElement (session=\"d5afbe08735e9e04569f8dd9b9b4a2d1\", element=\"32f7af0e-9aa2-4578-b426-98fbefe24baf\")>,\n",
       " <selenium.webdriver.remote.webelement.WebElement (session=\"d5afbe08735e9e04569f8dd9b9b4a2d1\", element=\"294a936a-ae68-4ee4-afcd-3207785a4a85\")>,\n",
       " <selenium.webdriver.remote.webelement.WebElement (session=\"d5afbe08735e9e04569f8dd9b9b4a2d1\", element=\"081acb83-50f9-43e0-ad08-ff46d2d73d25\")>]"
      ]
     },
     "execution_count": 72,
     "metadata": {},
     "output_type": "execute_result"
    }
   ],
   "source": [
    "# to extract top 10 no of salary of the company\n",
    "No_of_Salary= driver.find_elements_by_xpath(\"//div[@class='col-12 col-lg-auto']//span\")[:10]\n",
    "No_of_Salary"
   ]
  },
  {
   "cell_type": "code",
   "execution_count": 73,
   "metadata": {},
   "outputs": [
    {
     "data": {
      "text/plain": [
       "['18 salaries',\n",
       " '17 salaries',\n",
       " '15 salaries',\n",
       " '15 salaries',\n",
       " '14 salaries',\n",
       " '12 salaries',\n",
       " '10 salaries',\n",
       " '9 salaries',\n",
       " '8 salaries',\n",
       " '8 salaries']"
      ]
     },
     "execution_count": 73,
     "metadata": {},
     "output_type": "execute_result"
    }
   ],
   "source": [
    "no_of_salaries=[]\n",
    "for i in No_of_Salary:\n",
    "    no_of_salaries.append(i.text)\n",
    "no_of_salaries   "
   ]
  },
  {
   "cell_type": "code",
   "execution_count": 74,
   "metadata": {},
   "outputs": [
    {
     "data": {
      "text/plain": [
       "[<selenium.webdriver.remote.webelement.WebElement (session=\"d5afbe08735e9e04569f8dd9b9b4a2d1\", element=\"47e8f5e1-407d-454b-9f5d-cea27e90679b\")>,\n",
       " <selenium.webdriver.remote.webelement.WebElement (session=\"d5afbe08735e9e04569f8dd9b9b4a2d1\", element=\"74e3f105-91e8-4299-bdae-1cea4e667915\")>,\n",
       " <selenium.webdriver.remote.webelement.WebElement (session=\"d5afbe08735e9e04569f8dd9b9b4a2d1\", element=\"4e768c90-4316-4e7d-a47f-2920e2a340e4\")>,\n",
       " <selenium.webdriver.remote.webelement.WebElement (session=\"d5afbe08735e9e04569f8dd9b9b4a2d1\", element=\"ea24fa25-70bf-46bd-8da6-7cab0d9c6170\")>,\n",
       " <selenium.webdriver.remote.webelement.WebElement (session=\"d5afbe08735e9e04569f8dd9b9b4a2d1\", element=\"6174b072-1c79-4f00-b90a-65e259473230\")>,\n",
       " <selenium.webdriver.remote.webelement.WebElement (session=\"d5afbe08735e9e04569f8dd9b9b4a2d1\", element=\"93d26f1c-3155-4ef3-8db5-855190763529\")>,\n",
       " <selenium.webdriver.remote.webelement.WebElement (session=\"d5afbe08735e9e04569f8dd9b9b4a2d1\", element=\"c4276ab1-fa8d-4699-932c-02e6e24dc537\")>,\n",
       " <selenium.webdriver.remote.webelement.WebElement (session=\"d5afbe08735e9e04569f8dd9b9b4a2d1\", element=\"53b14b04-c02c-4b5a-b2d1-08789863cfbf\")>,\n",
       " <selenium.webdriver.remote.webelement.WebElement (session=\"d5afbe08735e9e04569f8dd9b9b4a2d1\", element=\"5f8568d1-60bf-4e6d-aa7d-f37cc560b4ce\")>,\n",
       " <selenium.webdriver.remote.webelement.WebElement (session=\"d5afbe08735e9e04569f8dd9b9b4a2d1\", element=\"0f45eb20-dcdd-4684-8ba0-add04559f10b\")>]"
      ]
     },
     "execution_count": 74,
     "metadata": {},
     "output_type": "execute_result"
    }
   ],
   "source": [
    "# to extract top 10 average salary\n",
    "average_salary= driver.find_elements_by_xpath(\"//div[@class='col-12 col-lg-4 px-lg-0 d-flex align-items-baseline']//h3\")[:10]\n",
    "average_salary"
   ]
  },
  {
   "cell_type": "code",
   "execution_count": 75,
   "metadata": {},
   "outputs": [
    {
     "data": {
      "text/plain": [
       "['₹9,00,000',\n",
       " '₹6,15,289',\n",
       " '₹11,63,336',\n",
       " '₹12,18,244',\n",
       " '₹7,39,238',\n",
       " '₹13,19,140',\n",
       " '₹8,63,750',\n",
       " '₹13,28,697',\n",
       " '₹11,42,356',\n",
       " '₹11,46,073']"
      ]
     },
     "execution_count": 75,
     "metadata": {},
     "output_type": "execute_result"
    }
   ],
   "source": [
    "average_salaries=[]\n",
    "for i in average_salary:\n",
    "    average_salaries.append(i.text)\n",
    "average_salaries"
   ]
  },
  {
   "cell_type": "code",
   "execution_count": 76,
   "metadata": {},
   "outputs": [
    {
     "data": {
      "text/plain": [
       "[<selenium.webdriver.remote.webelement.WebElement (session=\"d5afbe08735e9e04569f8dd9b9b4a2d1\", element=\"1089d963-b4b4-4e6a-a71d-79cb7f092327\")>,\n",
       " <selenium.webdriver.remote.webelement.WebElement (session=\"d5afbe08735e9e04569f8dd9b9b4a2d1\", element=\"ca6203a8-1ad3-47a2-93ad-e217441f78c6\")>,\n",
       " <selenium.webdriver.remote.webelement.WebElement (session=\"d5afbe08735e9e04569f8dd9b9b4a2d1\", element=\"977787bc-c62a-4d53-b902-dc9779477676\")>,\n",
       " <selenium.webdriver.remote.webelement.WebElement (session=\"d5afbe08735e9e04569f8dd9b9b4a2d1\", element=\"00d3c698-ced4-4329-a1ec-1aa072daefff\")>,\n",
       " <selenium.webdriver.remote.webelement.WebElement (session=\"d5afbe08735e9e04569f8dd9b9b4a2d1\", element=\"ce80a9d2-3ce7-4c52-8476-218a7c8d60b5\")>,\n",
       " <selenium.webdriver.remote.webelement.WebElement (session=\"d5afbe08735e9e04569f8dd9b9b4a2d1\", element=\"e75ad362-afa4-4eae-b02a-82fb0c1561f3\")>,\n",
       " <selenium.webdriver.remote.webelement.WebElement (session=\"d5afbe08735e9e04569f8dd9b9b4a2d1\", element=\"56c2c1e9-4c97-4a3b-91b3-8ada84850d73\")>,\n",
       " <selenium.webdriver.remote.webelement.WebElement (session=\"d5afbe08735e9e04569f8dd9b9b4a2d1\", element=\"e5f23beb-e6b4-484f-a417-2a791dae4f5d\")>,\n",
       " <selenium.webdriver.remote.webelement.WebElement (session=\"d5afbe08735e9e04569f8dd9b9b4a2d1\", element=\"79dbc1c5-5fed-4e68-8d97-c29600c5438c\")>,\n",
       " <selenium.webdriver.remote.webelement.WebElement (session=\"d5afbe08735e9e04569f8dd9b9b4a2d1\", element=\"e717c326-cb05-4b31-a1df-86db8970c12f\")>,\n",
       " <selenium.webdriver.remote.webelement.WebElement (session=\"d5afbe08735e9e04569f8dd9b9b4a2d1\", element=\"309d3f4b-80e0-4c7e-b7a2-bb477c106a90\")>,\n",
       " <selenium.webdriver.remote.webelement.WebElement (session=\"d5afbe08735e9e04569f8dd9b9b4a2d1\", element=\"64320730-71c5-40dc-84da-c929ab42fec3\")>,\n",
       " <selenium.webdriver.remote.webelement.WebElement (session=\"d5afbe08735e9e04569f8dd9b9b4a2d1\", element=\"d7e7098f-f66e-4075-930d-71a6f3644d1d\")>,\n",
       " <selenium.webdriver.remote.webelement.WebElement (session=\"d5afbe08735e9e04569f8dd9b9b4a2d1\", element=\"f7e25f42-b455-4125-99d8-6c6e2839b691\")>,\n",
       " <selenium.webdriver.remote.webelement.WebElement (session=\"d5afbe08735e9e04569f8dd9b9b4a2d1\", element=\"3189f7f6-c1ca-450e-9430-0e11692e543b\")>,\n",
       " <selenium.webdriver.remote.webelement.WebElement (session=\"d5afbe08735e9e04569f8dd9b9b4a2d1\", element=\"80ea2d31-8dfd-4548-97b6-c55fa542c573\")>,\n",
       " <selenium.webdriver.remote.webelement.WebElement (session=\"d5afbe08735e9e04569f8dd9b9b4a2d1\", element=\"21234aa2-9a2a-447b-8c8b-5f30023881f6\")>,\n",
       " <selenium.webdriver.remote.webelement.WebElement (session=\"d5afbe08735e9e04569f8dd9b9b4a2d1\", element=\"6a0962c6-b5b8-4b96-8c76-206883ba9e69\")>,\n",
       " <selenium.webdriver.remote.webelement.WebElement (session=\"d5afbe08735e9e04569f8dd9b9b4a2d1\", element=\"00ba1e4b-15c8-48f5-bfeb-6067d7f00855\")>,\n",
       " <selenium.webdriver.remote.webelement.WebElement (session=\"d5afbe08735e9e04569f8dd9b9b4a2d1\", element=\"3a60904d-f29d-4569-9650-5ac29628b9c4\")>]"
      ]
     },
     "execution_count": 76,
     "metadata": {},
     "output_type": "execute_result"
    }
   ],
   "source": [
    "# to extract min and max salary by using xpath function\n",
    "full_salary=driver.find_elements_by_xpath(\"//div[@class='d-flex mt-xxsm css-79elbk epuxyqn0']//p\")[:20]\n",
    "full_salary"
   ]
  },
  {
   "cell_type": "code",
   "execution_count": 77,
   "metadata": {},
   "outputs": [
    {
     "data": {
      "text/plain": [
       "['₹6L',\n",
       " '₹27L',\n",
       " '₹3L',\n",
       " '₹13L',\n",
       " '₹6L',\n",
       " '₹22L',\n",
       " '₹5L',\n",
       " '₹1Cr',\n",
       " '₹4L',\n",
       " '₹16L',\n",
       " '₹11L',\n",
       " '₹15L',\n",
       " '₹5L',\n",
       " '₹15L',\n",
       " '₹4L',\n",
       " '₹22L',\n",
       " '₹2L',\n",
       " '₹18L',\n",
       " '₹6L',\n",
       " '₹15L']"
      ]
     },
     "execution_count": 77,
     "metadata": {},
     "output_type": "execute_result"
    }
   ],
   "source": [
    "full_salaries=[]\n",
    "for i in full_salary:\n",
    "    full_salaries.append(i.text.replace('\\n',''))\n",
    "full_salaries    "
   ]
  },
  {
   "cell_type": "code",
   "execution_count": 78,
   "metadata": {},
   "outputs": [
    {
     "data": {
      "text/plain": [
       "['₹6L', '₹3L', '₹6L', '₹5L', '₹4L', '₹11L', '₹5L', '₹4L', '₹2L', '₹6L']"
      ]
     },
     "execution_count": 78,
     "metadata": {},
     "output_type": "execute_result"
    }
   ],
   "source": [
    "#to extract min salary\n",
    "min_salaries=[]\n",
    "for i in range(0,len(full_salaries),2):\n",
    "    min_salaries.append(full_salaries[i])\n",
    "min_salaries    "
   ]
  },
  {
   "cell_type": "code",
   "execution_count": 79,
   "metadata": {},
   "outputs": [
    {
     "data": {
      "text/plain": [
       "['₹27L',\n",
       " '₹13L',\n",
       " '₹22L',\n",
       " '₹1Cr',\n",
       " '₹16L',\n",
       " '₹15L',\n",
       " '₹15L',\n",
       " '₹22L',\n",
       " '₹18L',\n",
       " '₹15L']"
      ]
     },
     "execution_count": 79,
     "metadata": {},
     "output_type": "execute_result"
    }
   ],
   "source": [
    "#to extract max salary \n",
    "max_salaries=[]\n",
    "for i in range(1,len(full_salaries),2):\n",
    "    max_salaries.append(full_salaries[i])\n",
    "max_salaries    "
   ]
  },
  {
   "cell_type": "code",
   "execution_count": 80,
   "metadata": {},
   "outputs": [
    {
     "name": "stdout",
     "output_type": "stream",
     "text": [
      "10 10 10 10 10\n"
     ]
    }
   ],
   "source": [
    "#cheaking length by using len function\n",
    "print(len(company_name),len(no_of_salaries),len(average_salaries),len(min_salaries),len(max_salaries))"
   ]
  },
  {
   "cell_type": "code",
   "execution_count": 81,
   "metadata": {},
   "outputs": [],
   "source": [
    "#creating a dataframe by importing pandas as pd\n",
    "jobs5=pd.DataFrame({})\n",
    "jobs5['Company']=company_name\n",
    "jobs5['No. of Salary']=no_of_salaries\n",
    "jobs5['Average Salary']=average_salaries\n",
    "jobs5['Min Salary']=min_salaries\n",
    "jobs5['Max Salary']=max_salaries"
   ]
  },
  {
   "cell_type": "code",
   "execution_count": 82,
   "metadata": {},
   "outputs": [
    {
     "data": {
      "text/html": [
       "<div>\n",
       "<style scoped>\n",
       "    .dataframe tbody tr th:only-of-type {\n",
       "        vertical-align: middle;\n",
       "    }\n",
       "\n",
       "    .dataframe tbody tr th {\n",
       "        vertical-align: top;\n",
       "    }\n",
       "\n",
       "    .dataframe thead th {\n",
       "        text-align: right;\n",
       "    }\n",
       "</style>\n",
       "<table border=\"1\" class=\"dataframe\">\n",
       "  <thead>\n",
       "    <tr style=\"text-align: right;\">\n",
       "      <th></th>\n",
       "      <th>Company</th>\n",
       "      <th>No. of Salary</th>\n",
       "      <th>Average Salary</th>\n",
       "      <th>Min Salary</th>\n",
       "      <th>Max Salary</th>\n",
       "    </tr>\n",
       "  </thead>\n",
       "  <tbody>\n",
       "    <tr>\n",
       "      <th>0</th>\n",
       "      <td>IBM</td>\n",
       "      <td>18 salaries</td>\n",
       "      <td>₹9,00,000</td>\n",
       "      <td>₹6L</td>\n",
       "      <td>₹27L</td>\n",
       "    </tr>\n",
       "    <tr>\n",
       "      <th>1</th>\n",
       "      <td>Tata Consultancy Services</td>\n",
       "      <td>17 salaries</td>\n",
       "      <td>₹6,15,289</td>\n",
       "      <td>₹3L</td>\n",
       "      <td>₹13L</td>\n",
       "    </tr>\n",
       "    <tr>\n",
       "      <th>2</th>\n",
       "      <td>Accenture</td>\n",
       "      <td>15 salaries</td>\n",
       "      <td>₹11,63,336</td>\n",
       "      <td>₹6L</td>\n",
       "      <td>₹22L</td>\n",
       "    </tr>\n",
       "    <tr>\n",
       "      <th>3</th>\n",
       "      <td>Delhivery</td>\n",
       "      <td>15 salaries</td>\n",
       "      <td>₹12,18,244</td>\n",
       "      <td>₹5L</td>\n",
       "      <td>₹1Cr</td>\n",
       "    </tr>\n",
       "    <tr>\n",
       "      <th>4</th>\n",
       "      <td>Ericsson-Worldwide</td>\n",
       "      <td>14 salaries</td>\n",
       "      <td>₹7,39,238</td>\n",
       "      <td>₹4L</td>\n",
       "      <td>₹16L</td>\n",
       "    </tr>\n",
       "    <tr>\n",
       "      <th>5</th>\n",
       "      <td>UnitedHealth Group</td>\n",
       "      <td>12 salaries</td>\n",
       "      <td>₹13,19,140</td>\n",
       "      <td>₹11L</td>\n",
       "      <td>₹15L</td>\n",
       "    </tr>\n",
       "    <tr>\n",
       "      <th>6</th>\n",
       "      <td>Valiance Solutions</td>\n",
       "      <td>10 salaries</td>\n",
       "      <td>₹8,63,750</td>\n",
       "      <td>₹5L</td>\n",
       "      <td>₹15L</td>\n",
       "    </tr>\n",
       "    <tr>\n",
       "      <th>7</th>\n",
       "      <td>Optum Global Solutions</td>\n",
       "      <td>9 salaries</td>\n",
       "      <td>₹13,28,697</td>\n",
       "      <td>₹4L</td>\n",
       "      <td>₹22L</td>\n",
       "    </tr>\n",
       "    <tr>\n",
       "      <th>8</th>\n",
       "      <td>ZS Associates</td>\n",
       "      <td>8 salaries</td>\n",
       "      <td>₹11,42,356</td>\n",
       "      <td>₹2L</td>\n",
       "      <td>₹18L</td>\n",
       "    </tr>\n",
       "    <tr>\n",
       "      <th>9</th>\n",
       "      <td>EXL Service</td>\n",
       "      <td>8 salaries</td>\n",
       "      <td>₹11,46,073</td>\n",
       "      <td>₹6L</td>\n",
       "      <td>₹15L</td>\n",
       "    </tr>\n",
       "  </tbody>\n",
       "</table>\n",
       "</div>"
      ],
      "text/plain": [
       "                     Company No. of Salary Average Salary Min Salary  \\\n",
       "0                        IBM   18 salaries      ₹9,00,000        ₹6L   \n",
       "1  Tata Consultancy Services   17 salaries      ₹6,15,289        ₹3L   \n",
       "2                  Accenture   15 salaries     ₹11,63,336        ₹6L   \n",
       "3                  Delhivery   15 salaries     ₹12,18,244        ₹5L   \n",
       "4         Ericsson-Worldwide   14 salaries      ₹7,39,238        ₹4L   \n",
       "5         UnitedHealth Group   12 salaries     ₹13,19,140       ₹11L   \n",
       "6         Valiance Solutions   10 salaries      ₹8,63,750        ₹5L   \n",
       "7     Optum Global Solutions    9 salaries     ₹13,28,697        ₹4L   \n",
       "8              ZS Associates    8 salaries     ₹11,42,356        ₹2L   \n",
       "9                EXL Service    8 salaries     ₹11,46,073        ₹6L   \n",
       "\n",
       "  Max Salary  \n",
       "0       ₹27L  \n",
       "1       ₹13L  \n",
       "2       ₹22L  \n",
       "3       ₹1Cr  \n",
       "4       ₹16L  \n",
       "5       ₹15L  \n",
       "6       ₹15L  \n",
       "7       ₹22L  \n",
       "8       ₹18L  \n",
       "9       ₹15L  "
      ]
     },
     "execution_count": 82,
     "metadata": {},
     "output_type": "execute_result"
    }
   ],
   "source": [
    "jobs5"
   ]
  },
  {
   "cell_type": "markdown",
   "metadata": {},
   "source": [
    "### Q6 : Scrape data of first 100 sunglasses listings on flipkart.com. You have to scrape four attributes:"
   ]
  },
  {
   "cell_type": "code",
   "execution_count": 83,
   "metadata": {},
   "outputs": [],
   "source": [
    "#connecting to the web driver\n",
    "driver = webdriver.Chrome(\"Chromedriver.exe\")"
   ]
  },
  {
   "cell_type": "code",
   "execution_count": 84,
   "metadata": {},
   "outputs": [],
   "source": [
    "#get the url\n",
    "url = 'https://www.flipkart.com/'\n",
    "driver.get(url)"
   ]
  },
  {
   "cell_type": "code",
   "execution_count": 85,
   "metadata": {},
   "outputs": [],
   "source": [
    "#entering sunglasses in search field\n",
    "search=driver.find_element_by_xpath(\"//div[@class='_3OO5Xc']//input\")\n",
    "search.send_keys(\"Sunglasses\")"
   ]
  },
  {
   "cell_type": "code",
   "execution_count": 86,
   "metadata": {},
   "outputs": [],
   "source": [
    "#to click search button \n",
    "search_btn=driver.find_element_by_xpath(\"//button[@class='L0Z3Pu']\")\n",
    "search_btn.click()"
   ]
  },
  {
   "cell_type": "code",
   "execution_count": 87,
   "metadata": {},
   "outputs": [
    {
     "data": {
      "text/plain": [
       "['https://www.flipkart.com/search?q=Sunglasses&otracker=search&otracker1=search&marketplace=FLIPKART&as-show=on&as=off&page=1',\n",
       " 'https://www.flipkart.com/search?q=Sunglasses&otracker=search&otracker1=search&marketplace=FLIPKART&as-show=on&as=off&page=2',\n",
       " 'https://www.flipkart.com/search?q=Sunglasses&otracker=search&otracker1=search&marketplace=FLIPKART&as-show=on&as=off&page=3']"
      ]
     },
     "execution_count": 87,
     "metadata": {},
     "output_type": "execute_result"
    }
   ],
   "source": [
    "#getting all urls of the next pages\n",
    "page_url=[]\n",
    "url = driver.find_elements_by_xpath(\"//nav[@class='yFHi8N']//a\")[:3]\n",
    "for i in url:\n",
    "    page_url.append(i.get_attribute('href'))\n",
    "page_url"
   ]
  },
  {
   "cell_type": "code",
   "execution_count": 88,
   "metadata": {},
   "outputs": [
    {
     "data": {
      "text/plain": [
       "['LIZA ANGEL',\n",
       " 'NuVew',\n",
       " 'kingsunglasses',\n",
       " 'Fastrack',\n",
       " 'Fastrack',\n",
       " 'Fastrack',\n",
       " 'kingsunglasses',\n",
       " 'ROYAL SON',\n",
       " 'Fastrack',\n",
       " 'Fastrack',\n",
       " 'Fastrack',\n",
       " 'Tag Eye',\n",
       " 'PIRASO',\n",
       " 'Fastrack',\n",
       " 'kingsunglasses',\n",
       " 'AISLIN',\n",
       " 'BEQUBE',\n",
       " 'Fastrack',\n",
       " 'Fastrack',\n",
       " 'AISLIN',\n",
       " 'NuVew',\n",
       " 'PHENOMENAL',\n",
       " 'Fastrack',\n",
       " 'povty',\n",
       " 'Singco India',\n",
       " 'PIRASO',\n",
       " 'ROZZETTA CRAFT',\n",
       " 'AISLIN',\n",
       " 'Fastrack',\n",
       " 'DEIXELS',\n",
       " 'IRUS by IDEE',\n",
       " 'ROYAL SON',\n",
       " 'HIPPON',\n",
       " 'Fastrack',\n",
       " 'IRUS by IDEE',\n",
       " 'LIZA ANGEL',\n",
       " 'United Colors of Benetton',\n",
       " 'kingsunglasses',\n",
       " 'ROZZETTA CRAFT',\n",
       " 'ROZZETTA CRAFT',\n",
       " 'PIRASO',\n",
       " 'PIRASO',\n",
       " 'kingsunglasses',\n",
       " 'LIZA ANGEL',\n",
       " 'Fastrack',\n",
       " 'Fastrack',\n",
       " 'PHENOMENAL',\n",
       " 'NuVew',\n",
       " 'Fastrack',\n",
       " 'elegante',\n",
       " 'ROYAL SON',\n",
       " 'ROYAL SON',\n",
       " 'ROYAL SON',\n",
       " 'kingsunglasses',\n",
       " 'Fastrack',\n",
       " 'Tag Eye',\n",
       " 'hipe',\n",
       " 'hipe',\n",
       " 'Poland',\n",
       " 'AISLIN',\n",
       " 'Silver Kartz',\n",
       " 'PIRASO',\n",
       " 'PHENOMENAL',\n",
       " 'AISLIN',\n",
       " 'kingsunglasses',\n",
       " 'Fastrack',\n",
       " 'ROYAL SON',\n",
       " 'povty',\n",
       " 'Fastrack',\n",
       " 'IDEE',\n",
       " 'kingsunglasses',\n",
       " 'ROYAL SON',\n",
       " 'Fastrack',\n",
       " 'Fastrack',\n",
       " 'Fastrack',\n",
       " 'ROZZETTA CRAFT',\n",
       " 'ROZZETTA CRAFT',\n",
       " 'ROYAL SON',\n",
       " 'Singco India',\n",
       " 'LIZA ANGEL',\n",
       " 'Singco',\n",
       " 'GANSTA',\n",
       " 'NuVew',\n",
       " 'LIZA ANGEL',\n",
       " 'Fastrack',\n",
       " 'PHENOMENAL',\n",
       " 'ROYAL SON',\n",
       " 'NuVew',\n",
       " 'DEIXELS',\n",
       " 'GANSTA',\n",
       " 'DEIXELS',\n",
       " 'ROYAL SON',\n",
       " 'hipe',\n",
       " 'Fastrack',\n",
       " 'kingsunglasses',\n",
       " 'Tag Eye',\n",
       " 'Fastrack',\n",
       " 'Wrogn',\n",
       " 'GANSTA',\n",
       " 'AISLIN',\n",
       " 'PHENOMENAL',\n",
       " 'Fastrack',\n",
       " 'GANSTA',\n",
       " 'AISLIN',\n",
       " 'elegante',\n",
       " 'Singco India',\n",
       " 'Singco India',\n",
       " 'povty',\n",
       " 'AISLIN',\n",
       " 'GANSTA',\n",
       " 'Fastrack',\n",
       " 'ROYAL SON',\n",
       " 'Fravy',\n",
       " 'kingsunglasses',\n",
       " 'Badfella',\n",
       " 'ROZZETTA CRAFT',\n",
       " 'AISLIN',\n",
       " 'Fastrack',\n",
       " 'GANSTA',\n",
       " 'LIZA ANGEL']"
      ]
     },
     "execution_count": 88,
     "metadata": {},
     "output_type": "execute_result"
    }
   ],
   "source": [
    "#to extract top 100 brands of sunglasses by using xpath function\n",
    "brands=[]\n",
    "for i in page_url:\n",
    "    driver.get(i)\n",
    "    brand=driver.find_elements_by_xpath(\"//div[@class='_2WkVRV']\")[:100]\n",
    "    for i in brand:\n",
    "        brands.append(i.text)\n",
    "brands"
   ]
  },
  {
   "cell_type": "code",
   "execution_count": 90,
   "metadata": {},
   "outputs": [
    {
     "data": {
      "text/plain": [
       "['Mirrored, UV Protection Wayfarer Sunglasses (Free Size)',\n",
       " 'UV Protection Wrap-around Sunglasses (Free Size)',\n",
       " 'Gradient, UV Protection Wayfarer Sunglasses (Free Size)',\n",
       " 'UV Protection Sports Sunglasses (Free Size)',\n",
       " 'UV Protection Round Sunglasses (Free Size)',\n",
       " 'Polarized, UV Protection Round Sunglasses (49)',\n",
       " 'UV Protection Wayfarer Sunglasses (56)',\n",
       " 'UV Protection Rectangular Sunglasses (Free Size)',\n",
       " 'UV Protection Aviator Sunglasses (Free Size)',\n",
       " 'UV Protection Rectangular Sunglasses (60)',\n",
       " 'UV Protection Aviator Sunglasses (54)',\n",
       " 'UV Protection Wayfarer Sunglasses (Free Size)',\n",
       " 'Mirrored, UV Protection Wayfarer Sunglasses (Free Size)',\n",
       " 'UV Protection, Gradient Butterfly, Retro Square Sunglas...',\n",
       " 'UV Protection Wayfarer Sunglasses (Free Size)',\n",
       " 'UV Protection Wayfarer Sunglasses (Free Size)',\n",
       " 'UV Protection Wayfarer Sunglasses (Free Size)',\n",
       " 'UV Protection Wayfarer Sunglasses (58)',\n",
       " 'UV Protection Aviator Sunglasses (58)',\n",
       " 'UV Protection Retro Square Sunglasses (Free Size)',\n",
       " 'UV Protection Wayfarer Sunglasses (Free Size)',\n",
       " 'UV Protection Wayfarer Sunglasses (Free Size)',\n",
       " 'Mirrored, Riding Glasses, Others Sports Sunglasses (50)',\n",
       " 'UV Protection Aviator Sunglasses (Free Size)',\n",
       " 'UV Protection, Gradient Rectangular Sunglasses (Free Si...',\n",
       " 'Polarized, UV Protection Rectangular Sunglasses (59)',\n",
       " 'UV Protection Aviator Sunglasses (58)',\n",
       " 'UV Protection Aviator, Wayfarer Sunglasses (Free Size)',\n",
       " 'Gradient Rectangular Sunglasses (56)',\n",
       " 'Gradient, UV Protection, Night Vision Retro Square, Spe...',\n",
       " 'UV Protection Wayfarer Sunglasses (55)',\n",
       " 'UV Protection, Polarized Wayfarer Sunglasses (56)',\n",
       " 'Others Rectangular Sunglasses (56)',\n",
       " 'UV Protection Retro Square Sunglasses (Free Size)',\n",
       " 'Mirrored, UV Protection Rectangular Sunglasses (56)',\n",
       " 'UV Protection Round Sunglasses (54)',\n",
       " 'UV Protection Retro Square Sunglasses (Free Size)',\n",
       " 'UV Protection Aviator Sunglasses (54)',\n",
       " 'UV Protection Aviator Sunglasses (54)',\n",
       " 'Mirrored, UV Protection Wayfarer, Wayfarer, Wayfarer, W...',\n",
       " 'UV Protection Aviator Sunglasses (58)',\n",
       " 'UV Protection Aviator Sunglasses (58)',\n",
       " 'UV Protection Round Sunglasses (53)',\n",
       " 'Gradient, UV Protection Wayfarer Sunglasses (Free Size)',\n",
       " 'UV Protection Round Sunglasses (Free Size)',\n",
       " 'UV Protection Wayfarer Sunglasses (55)',\n",
       " 'Polarized, UV Protection Round Sunglasses (49)',\n",
       " 'Mirrored Aviator Sunglasses (55)',\n",
       " 'UV Protection Round Sunglasses (Free Size)',\n",
       " 'Mirrored, UV Protection Wayfarer Sunglasses (Free Size)',\n",
       " 'UV Protection Rectangular Sunglasses (60)',\n",
       " 'UV Protection Sports Sunglasses (Free Size)',\n",
       " 'UV Protection, Gradient, Mirrored, Riding Glasses Recta...',\n",
       " 'UV Protection Wayfarer Sunglasses (Free Size)',\n",
       " 'UV Protection Wayfarer Sunglasses (58)',\n",
       " 'UV Protection Wayfarer Sunglasses (Free Size)',\n",
       " 'UV Protection Aviator Sunglasses (58)',\n",
       " 'UV Protection Clubmaster Sunglasses (Free Size)',\n",
       " 'UV Protection, Gradient Butterfly, Retro Square Sunglas...',\n",
       " 'Mirrored, UV Protection Wayfarer Sunglasses (Free Size)',\n",
       " 'UV Protection Wayfarer Sunglasses (57)',\n",
       " 'Polarized Rectangular Sunglasses (65)',\n",
       " 'UV Protection Wayfarer Sunglasses (Free Size)',\n",
       " 'UV Protection Aviator Sunglasses (Free Size)',\n",
       " 'Polarized Rectangular Sunglasses (55)',\n",
       " 'UV Protection, Mirrored Round Sunglasses (54)',\n",
       " 'UV Protection, Gradient Wayfarer Sunglasses (57)',\n",
       " 'UV Protection Rectangular Sunglasses (59)',\n",
       " 'UV Protection Aviator Sunglasses (61)',\n",
       " 'UV Protection Wrap-around Sunglasses (Free Size)',\n",
       " 'Polarized, UV Protection Rectangular Sunglasses (59)',\n",
       " 'UV Protection, Gradient Rectangular Sunglasses (Free Si...',\n",
       " 'UV Protection Retro Square Sunglasses (58)',\n",
       " 'UV Protection Aviator Sunglasses (Free Size)',\n",
       " 'UV Protection Retro Square Sunglasses (Free Size)',\n",
       " 'UV Protection, Others Aviator Sunglasses (32)',\n",
       " 'UV Protection Aviator Sunglasses (57)',\n",
       " 'UV Protection, Gradient, Night Vision, Mirrored Aviator...',\n",
       " 'UV Protection Wayfarer Sunglasses (55)',\n",
       " 'UV Protection, Mirrored Retro Square Sunglasses (53)',\n",
       " 'UV Protection Retro Square Sunglasses (58)',\n",
       " 'Polarized, UV Protection, Riding Glasses Wayfarer Sungl...',\n",
       " 'UV Protection Aviator Sunglasses (57)',\n",
       " 'UV Protection Round Sunglasses (Free Size)',\n",
       " 'Polarized, UV Protection Round Sunglasses (49)',\n",
       " 'UV Protection, Night Vision, Gradient, Mirrored Round, ...',\n",
       " 'UV Protection Wayfarer Sunglasses (Free Size)',\n",
       " 'UV Protection Rectangular Sunglasses (55)',\n",
       " 'UV Protection Rectangular Sunglasses (60)',\n",
       " 'UV Protection Round Sunglasses (52)',\n",
       " 'Mirrored Wayfarer Sunglasses (56)',\n",
       " 'UV Protection, Night Vision, Riding Glasses Aviator Sun...',\n",
       " 'UV Protection, Gradient Butterfly, Retro Square Sunglas...',\n",
       " 'UV Protection, Mirrored Retro Square Sunglasses (Free S...',\n",
       " 'UV Protection Wayfarer Sunglasses (Free Size)',\n",
       " 'UV Protection, Riding Glasses Wayfarer Sunglasses (53)',\n",
       " 'UV Protection Wayfarer Sunglasses (58)',\n",
       " 'UV Protection Round Sunglasses (Free Size)',\n",
       " 'UV Protection, Riding Glasses, Others Aviator, Wayfarer...',\n",
       " 'Mirrored, UV Protection, Riding Glasses, Others Wrap-ar...',\n",
       " 'UV Protection Wayfarer Sunglasses (Free Size)',\n",
       " 'UV Protection, Gradient Butterfly, Retro Square Sunglas...',\n",
       " 'UV Protection, Gradient Wayfarer Sunglasses (53)',\n",
       " 'UV Protection Wayfarer Sunglasses (Free Size)',\n",
       " 'Polarized, UV Protection Rectangular Sunglasses (59)',\n",
       " 'UV Protection, Gradient, Night Vision Retro Square Sung...',\n",
       " 'UV Protection Rectangular Sunglasses (Free Size)',\n",
       " 'Polarized, UV Protection Retro Square Sunglasses (53)',\n",
       " 'UV Protection Retro Square Sunglasses (Free Size)',\n",
       " 'UV Protection, Gradient Wayfarer, Retro Square Sunglass...',\n",
       " 'Gradient Wayfarer Sunglasses (Free Size)',\n",
       " 'Night Vision, Riding Glasses Wayfarer Sunglasses (53)',\n",
       " 'Gradient, UV Protection, Night Vision Retro Square, Spe...']"
      ]
     },
     "execution_count": 90,
     "metadata": {},
     "output_type": "execute_result"
    }
   ],
   "source": [
    "#to extract top 100 product description of sunglasses by using xpath function\n",
    "product_description=[]\n",
    "for i in page_url:\n",
    "    driver.get(i)\n",
    "    product_discrip=driver.find_elements_by_xpath(\"//a[@class='IRpwTa']\")[:100]\n",
    "    for i in product_discrip:\n",
    "        product_description.append(i.text)\n",
    "product_description      "
   ]
  },
  {
   "cell_type": "code",
   "execution_count": 89,
   "metadata": {},
   "outputs": [
    {
     "data": {
      "text/plain": [
       "['₹279',\n",
       " '₹375',\n",
       " '₹299',\n",
       " '₹497',\n",
       " '₹652',\n",
       " '₹2,899',\n",
       " '₹349',\n",
       " '₹664',\n",
       " '₹627',\n",
       " '₹695',\n",
       " '₹799',\n",
       " '₹850',\n",
       " '₹237',\n",
       " '₹460',\n",
       " '₹299',\n",
       " '₹500',\n",
       " '₹305',\n",
       " '₹899',\n",
       " '₹879',\n",
       " '₹498',\n",
       " '₹215',\n",
       " '₹399',\n",
       " '₹899',\n",
       " '₹349',\n",
       " '₹252',\n",
       " '₹331',\n",
       " '₹404',\n",
       " '₹625',\n",
       " '₹1,289',\n",
       " '₹202',\n",
       " '₹1,041',\n",
       " '₹664',\n",
       " '₹251',\n",
       " '₹506',\n",
       " '₹358',\n",
       " '₹312',\n",
       " '₹971',\n",
       " '₹225',\n",
       " '₹499',\n",
       " '₹499',\n",
       " '₹237',\n",
       " '₹237',\n",
       " '₹299',\n",
       " '₹279',\n",
       " '₹1,299',\n",
       " '₹1,299',\n",
       " '₹297',\n",
       " '₹375',\n",
       " '₹749',\n",
       " '₹199',\n",
       " '₹265',\n",
       " '₹664',\n",
       " '₹379',\n",
       " '₹349',\n",
       " '₹951',\n",
       " '₹850',\n",
       " '₹319',\n",
       " '₹299',\n",
       " '₹162',\n",
       " '₹498',\n",
       " '₹246',\n",
       " '₹331',\n",
       " '₹319',\n",
       " '₹500',\n",
       " '₹299',\n",
       " '₹689',\n",
       " '₹699',\n",
       " '₹625',\n",
       " '₹1,305',\n",
       " '₹840',\n",
       " '₹249',\n",
       " '₹349',\n",
       " '₹1,023',\n",
       " '₹554',\n",
       " '₹805',\n",
       " '₹664',\n",
       " '₹474',\n",
       " '₹499',\n",
       " '₹352',\n",
       " '₹499',\n",
       " '₹331',\n",
       " '₹233',\n",
       " '₹335',\n",
       " '₹279',\n",
       " '₹612',\n",
       " '₹399',\n",
       " '₹499',\n",
       " '₹375',\n",
       " '₹236',\n",
       " '₹323',\n",
       " '₹198',\n",
       " '₹664',\n",
       " '₹210',\n",
       " '₹899',\n",
       " '₹199',\n",
       " '₹850',\n",
       " '₹1,134',\n",
       " '₹670',\n",
       " '₹295',\n",
       " '₹498',\n",
       " '₹399',\n",
       " '₹614',\n",
       " '₹263',\n",
       " '₹500',\n",
       " '₹199',\n",
       " '₹214',\n",
       " '₹314',\n",
       " '₹349',\n",
       " '₹545',\n",
       " '₹314',\n",
       " '₹899',\n",
       " '₹625',\n",
       " '₹339',\n",
       " '₹210',\n",
       " '₹269',\n",
       " '₹664',\n",
       " '₹420',\n",
       " '₹1,329',\n",
       " '₹209',\n",
       " '₹499']"
      ]
     },
     "execution_count": 89,
     "metadata": {},
     "output_type": "execute_result"
    }
   ],
   "source": [
    "# to extract top 100 price of sunglasses by using xpath function\n",
    "price=[]\n",
    "for i in page_url:\n",
    "    driver.get(i)\n",
    "    pri=driver.find_elements_by_xpath(\"//div[@class='_30jeq3']\")[:100]\n",
    "    for i in pri:\n",
    "        price.append(i.text)\n",
    "price      "
   ]
  },
  {
   "cell_type": "code",
   "execution_count": 91,
   "metadata": {},
   "outputs": [
    {
     "data": {
      "text/plain": [
       "['₹520 off',\n",
       " '₹670 off',\n",
       " '₹2300 off',\n",
       " '₹402 off',\n",
       " '₹147 off',\n",
       " '₹1250 off',\n",
       " '₹1335 off',\n",
       " '₹272 off',\n",
       " '₹104 off',\n",
       " '₹100 off',\n",
       " '₹1150 off',\n",
       " '₹1362 off',\n",
       " '₹339 off',\n",
       " '₹2300 off',\n",
       " '₹1650 off',\n",
       " '₹1894 off',\n",
       " '₹20 off',\n",
       " '₹1027 off',\n",
       " '₹570 off',\n",
       " '₹1600 off',\n",
       " '₹650 off',\n",
       " '₹1247 off',\n",
       " '₹1268 off',\n",
       " '₹1595 off',\n",
       " '₹1525 off',\n",
       " '₹10 off',\n",
       " '₹997 off',\n",
       " '₹244 off',\n",
       " '₹835 off',\n",
       " '₹948 off',\n",
       " '₹393 off',\n",
       " '₹927 off',\n",
       " '₹387 off',\n",
       " '₹3129 off',\n",
       " '₹874 off',\n",
       " '₹1726 off',\n",
       " '₹1753 off',\n",
       " '₹1362 off',\n",
       " '₹1362 off',\n",
       " '₹1200 off',\n",
       " '₹520 off',\n",
       " '₹2001 off',\n",
       " '₹670 off',\n",
       " '₹250 off',\n",
       " '₹800 off',\n",
       " '₹1034 off',\n",
       " '₹1335 off',\n",
       " '₹1120 off',\n",
       " '₹1250 off',\n",
       " '₹48 off',\n",
       " '₹1150 off',\n",
       " '₹1580 off',\n",
       " '₹1000 off',\n",
       " '₹337 off',\n",
       " '₹1650 off',\n",
       " '₹1253 off',\n",
       " '₹2268 off',\n",
       " '₹1679 off',\n",
       " '₹1027 off',\n",
       " '₹2300 off',\n",
       " '₹110 off',\n",
       " '₹1300 off',\n",
       " '₹1525 off',\n",
       " '₹794 off',\n",
       " '₹1840 off',\n",
       " '₹950 off',\n",
       " '₹650 off',\n",
       " '₹276 off',\n",
       " '₹345 off',\n",
       " '₹694 off',\n",
       " '₹835 off',\n",
       " '₹1782 off',\n",
       " '₹1000 off',\n",
       " '₹847 off',\n",
       " '₹1726 off',\n",
       " '₹1668 off',\n",
       " '₹1066 off',\n",
       " '₹810 off',\n",
       " '₹520 off',\n",
       " '₹287 off',\n",
       " '₹1600 off',\n",
       " '₹1000 off',\n",
       " '₹670 off',\n",
       " '₹363 off',\n",
       " '₹1676 off',\n",
       " '₹601 off',\n",
       " '₹1335 off',\n",
       " '₹789 off',\n",
       " '₹1100 off',\n",
       " '₹1150 off',\n",
       " '₹165 off',\n",
       " '₹1879 off',\n",
       " '₹1704 off',\n",
       " '₹1027 off',\n",
       " '₹1600 off',\n",
       " '₹785 off',\n",
       " '₹1732 off',\n",
       " '₹1650 off',\n",
       " '₹800 off',\n",
       " '₹485 off',\n",
       " '₹1685 off',\n",
       " '₹650 off',\n",
       " '₹980 off',\n",
       " '₹1685 off',\n",
       " '₹1525 off',\n",
       " '₹1660 off',\n",
       " '₹989 off',\n",
       " '₹730 off',\n",
       " '₹835 off',\n",
       " '₹1280 off',\n",
       " '₹170 off',\n",
       " '₹1590 off',\n",
       " '₹1726 off']"
      ]
     },
     "execution_count": 91,
     "metadata": {},
     "output_type": "execute_result"
    }
   ],
   "source": [
    "#to extract the discount of top 100 sunglasses by using xpath function\n",
    "discount=[]\n",
    "for i in page_url:\n",
    "    driver.get(i)\n",
    "    disc=driver.find_elements_by_xpath(\"//div[@class='_3Ay6Sb']//span\")[:100]\n",
    "    for i in disc:\n",
    "        discount.append(i.text)\n",
    "discount     "
   ]
  },
  {
   "cell_type": "markdown",
   "metadata": {},
   "source": [
    "### Q7: Scrape 100 reviews data from flipkart.com for iphone11 phone. You have to go the link:"
   ]
  },
  {
   "cell_type": "code",
   "execution_count": 92,
   "metadata": {},
   "outputs": [],
   "source": [
    "#connecting to the web driver\n",
    "driver = webdriver.Chrome(\"Chromedriver.exe\")"
   ]
  },
  {
   "cell_type": "code",
   "execution_count": 93,
   "metadata": {},
   "outputs": [],
   "source": [
    "#get the url\n",
    "url ='https://www.flipkart.com/apple-iphone-11-black-64-gb-includes-earpods-power-adapter/p/itm0f37c2240b217?pid=MOBFKCTSVZAXUHGR&lid=LSTMOBFKCTSVZAXUHGREPBFGI&marketplace'\n",
    "driver.get(url)"
   ]
  },
  {
   "cell_type": "code",
   "execution_count": 94,
   "metadata": {},
   "outputs": [],
   "source": [
    "#clicking all reviews to scrape top 100 reviews\n",
    "All_reviews=driver.find_element_by_xpath(\"//div[@class='_3UAT2v _16PBlm']//span\")\n",
    "All_reviews.click()"
   ]
  },
  {
   "cell_type": "code",
   "execution_count": 95,
   "metadata": {},
   "outputs": [
    {
     "data": {
      "text/plain": [
       "['https://www.flipkart.com/apple-iphone-11-black-64-gb-includes-earpods-power-adapter/product-reviews/itm0f37c2240b217?pid=MOBFKCTSVZAXUHGR&lid=LSTMOBFKCTSVZAXUHGREPBFGI&marketplace=FLIPKART&page=1',\n",
       " 'https://www.flipkart.com/apple-iphone-11-black-64-gb-includes-earpods-power-adapter/product-reviews/itm0f37c2240b217?pid=MOBFKCTSVZAXUHGR&lid=LSTMOBFKCTSVZAXUHGREPBFGI&marketplace=FLIPKART&page=2',\n",
       " 'https://www.flipkart.com/apple-iphone-11-black-64-gb-includes-earpods-power-adapter/product-reviews/itm0f37c2240b217?pid=MOBFKCTSVZAXUHGR&lid=LSTMOBFKCTSVZAXUHGREPBFGI&marketplace=FLIPKART&page=3',\n",
       " 'https://www.flipkart.com/apple-iphone-11-black-64-gb-includes-earpods-power-adapter/product-reviews/itm0f37c2240b217?pid=MOBFKCTSVZAXUHGR&lid=LSTMOBFKCTSVZAXUHGREPBFGI&marketplace=FLIPKART&page=4',\n",
       " 'https://www.flipkart.com/apple-iphone-11-black-64-gb-includes-earpods-power-adapter/product-reviews/itm0f37c2240b217?pid=MOBFKCTSVZAXUHGR&lid=LSTMOBFKCTSVZAXUHGREPBFGI&marketplace=FLIPKART&page=5',\n",
       " 'https://www.flipkart.com/apple-iphone-11-black-64-gb-includes-earpods-power-adapter/product-reviews/itm0f37c2240b217?pid=MOBFKCTSVZAXUHGR&lid=LSTMOBFKCTSVZAXUHGREPBFGI&marketplace=FLIPKART&page=6',\n",
       " 'https://www.flipkart.com/apple-iphone-11-black-64-gb-includes-earpods-power-adapter/product-reviews/itm0f37c2240b217?pid=MOBFKCTSVZAXUHGR&lid=LSTMOBFKCTSVZAXUHGREPBFGI&marketplace=FLIPKART&page=7',\n",
       " 'https://www.flipkart.com/apple-iphone-11-black-64-gb-includes-earpods-power-adapter/product-reviews/itm0f37c2240b217?pid=MOBFKCTSVZAXUHGR&lid=LSTMOBFKCTSVZAXUHGREPBFGI&marketplace=FLIPKART&page=8',\n",
       " 'https://www.flipkart.com/apple-iphone-11-black-64-gb-includes-earpods-power-adapter/product-reviews/itm0f37c2240b217?pid=MOBFKCTSVZAXUHGR&lid=LSTMOBFKCTSVZAXUHGREPBFGI&marketplace=FLIPKART&page=9',\n",
       " 'https://www.flipkart.com/apple-iphone-11-black-64-gb-includes-earpods-power-adapter/product-reviews/itm0f37c2240b217?pid=MOBFKCTSVZAXUHGR&lid=LSTMOBFKCTSVZAXUHGREPBFGI&marketplace=FLIPKART&page=10']"
      ]
     },
     "execution_count": 95,
     "metadata": {},
     "output_type": "execute_result"
    }
   ],
   "source": [
    "#getting all the urls of next pages\n",
    "page_url=[]\n",
    "url = driver.find_elements_by_xpath(\"//nav[@class='yFHi8N']//a\")[:10]\n",
    "for i in url:\n",
    "    page_url.append(i.get_attribute('href'))\n",
    "page_url"
   ]
  },
  {
   "cell_type": "code",
   "execution_count": 96,
   "metadata": {
    "scrolled": true
   },
   "outputs": [
    {
     "data": {
      "text/plain": [
       "['5',\n",
       " '5',\n",
       " '5',\n",
       " '5',\n",
       " '5',\n",
       " '4',\n",
       " '5',\n",
       " '5',\n",
       " '5',\n",
       " '5',\n",
       " '5',\n",
       " '5',\n",
       " '5',\n",
       " '5',\n",
       " '5',\n",
       " '5',\n",
       " '5',\n",
       " '4',\n",
       " '5',\n",
       " '5',\n",
       " '5',\n",
       " '5',\n",
       " '5',\n",
       " '4',\n",
       " '5',\n",
       " '5',\n",
       " '5',\n",
       " '5',\n",
       " '5',\n",
       " '5',\n",
       " '5',\n",
       " '5',\n",
       " '4',\n",
       " '5',\n",
       " '5',\n",
       " '5',\n",
       " '5',\n",
       " '5',\n",
       " '5',\n",
       " '5',\n",
       " '5',\n",
       " '5',\n",
       " '5',\n",
       " '4',\n",
       " '5',\n",
       " '5',\n",
       " '5',\n",
       " '5',\n",
       " '5',\n",
       " '5',\n",
       " '5',\n",
       " '5',\n",
       " '5',\n",
       " '5',\n",
       " '5',\n",
       " '5',\n",
       " '5',\n",
       " '5',\n",
       " '5',\n",
       " '5',\n",
       " '5',\n",
       " '5',\n",
       " '5',\n",
       " '4',\n",
       " '5',\n",
       " '5',\n",
       " '4',\n",
       " '5',\n",
       " '4',\n",
       " '5',\n",
       " '5',\n",
       " '5',\n",
       " '5',\n",
       " '5',\n",
       " '5',\n",
       " '4',\n",
       " '5',\n",
       " '5',\n",
       " '5',\n",
       " '4',\n",
       " '5',\n",
       " '5',\n",
       " '5',\n",
       " '5',\n",
       " '5',\n",
       " '3',\n",
       " '3',\n",
       " '5',\n",
       " '4',\n",
       " '5',\n",
       " '5',\n",
       " '5',\n",
       " '5',\n",
       " '5',\n",
       " '4',\n",
       " '4',\n",
       " '4',\n",
       " '5']"
      ]
     },
     "execution_count": 96,
     "metadata": {},
     "output_type": "execute_result"
    }
   ],
   "source": [
    "# to scrape top 100 ratings using xpath \n",
    "ratings=[]\n",
    "for i in page_url:\n",
    "    driver.get(i)\n",
    "    rate=driver.find_elements_by_xpath(\"//div[@class='_3LWZlK _1BLPMq']\")[:100]\n",
    "    for i in rate:\n",
    "        ratings.append(i.text)\n",
    "ratings   "
   ]
  },
  {
   "cell_type": "code",
   "execution_count": 97,
   "metadata": {},
   "outputs": [
    {
     "data": {
      "text/plain": [
       "['Brilliant',\n",
       " 'Perfect product!',\n",
       " 'Fabulous!',\n",
       " 'Worth every penny',\n",
       " 'Great product',\n",
       " 'Good choice',\n",
       " 'Simply awesome',\n",
       " 'Worth every penny',\n",
       " 'Highly recommended',\n",
       " 'Perfect product!',\n",
       " 'Perfect product!',\n",
       " 'Worth every penny',\n",
       " 'Perfect product!',\n",
       " 'Highly recommended',\n",
       " 'Worth every penny',\n",
       " 'Simply awesome',\n",
       " 'Terrific',\n",
       " 'Nice product',\n",
       " 'Highly recommended',\n",
       " 'Classy product',\n",
       " 'Wonderful',\n",
       " 'Brilliant',\n",
       " 'Must buy!',\n",
       " 'Good choice',\n",
       " 'Perfect product!',\n",
       " 'Wonderful',\n",
       " 'Terrific purchase',\n",
       " 'Simply awesome',\n",
       " 'Great product',\n",
       " 'Mind-blowing purchase',\n",
       " 'Terrific purchase',\n",
       " 'Simply awesome',\n",
       " 'Good quality product',\n",
       " 'Very poor',\n",
       " 'Best in the market!',\n",
       " 'Perfect product!',\n",
       " 'Must buy!',\n",
       " 'Fabulous!',\n",
       " 'Mind-blowing purchase',\n",
       " 'Mind-blowing purchase',\n",
       " 'Wonderful',\n",
       " 'Worth every penny',\n",
       " 'Great product',\n",
       " 'Just wow!',\n",
       " 'Very Good',\n",
       " 'Super!',\n",
       " 'Perfect product!',\n",
       " 'Classy product',\n",
       " 'Perfect product!',\n",
       " 'Just wow!',\n",
       " 'Awesome',\n",
       " 'Terrific',\n",
       " 'Terrific purchase',\n",
       " 'Awesome',\n",
       " 'Perfect product!',\n",
       " 'Brilliant',\n",
       " 'Perfect product!',\n",
       " 'Classy product',\n",
       " 'Awesome',\n",
       " 'Perfect product!',\n",
       " 'Excellent',\n",
       " 'Not recommended at all',\n",
       " 'Fabulous!',\n",
       " 'Excellent',\n",
       " 'Must buy!',\n",
       " 'Value-for-money',\n",
       " 'Brilliant',\n",
       " 'Terrific purchase',\n",
       " 'Good quality product',\n",
       " 'Perfect product!',\n",
       " 'Value-for-money',\n",
       " 'Just wow!',\n",
       " 'Super!',\n",
       " 'Best in the market!',\n",
       " 'Mind-blowing purchase',\n",
       " 'Excellent',\n",
       " 'Excellent',\n",
       " 'Pretty good',\n",
       " 'Must buy!',\n",
       " 'Worth every penny',\n",
       " 'Mind-blowing purchase',\n",
       " 'Good quality product',\n",
       " 'Fabulous!',\n",
       " 'Awesome',\n",
       " 'Awesome',\n",
       " 'Terrific purchase',\n",
       " 'Awesome',\n",
       " 'Decent product',\n",
       " 'Does the job',\n",
       " 'Wonderful',\n",
       " 'Pretty good',\n",
       " 'Super!',\n",
       " 'Fabulous!',\n",
       " 'Excellent',\n",
       " 'Classy product',\n",
       " 'Best in the market!',\n",
       " 'Wonderful',\n",
       " 'Nice product',\n",
       " 'Good quality product',\n",
       " 'Highly recommended']"
      ]
     },
     "execution_count": 97,
     "metadata": {},
     "output_type": "execute_result"
    }
   ],
   "source": [
    "# to scrape top 100 review summary by using xpath\n",
    "review_summary=[]\n",
    "for i in page_url:\n",
    "    driver.get(i)\n",
    "    review_summ=driver.find_elements_by_xpath(\"//p[@class='_2-N8zT']\")[:100]\n",
    "    for i in review_summ:\n",
    "        review_summary.append(i.text)\n",
    "review_summary    "
   ]
  },
  {
   "cell_type": "code",
   "execution_count": 98,
   "metadata": {},
   "outputs": [
    {
     "data": {
      "text/plain": [
       "['The Best Phone for the Money\\n\\nThe iPhone 11 offers superb cameras, a more durable design and excellent battery life for an affordable price.\\n\\nCompelling ultra-wide camera\\nNew Night mode is excellent\\nLong battery life',\n",
       " 'Amazing phone with great cameras and better battery which gives you the best performance. I just love the camera .',\n",
       " 'This is my first iOS phone. I am very happy with this product. Very much satisfied with this. I love this phone.',\n",
       " 'Previously I was using one plus 3t it was a great phone\\nAnd then I decided to upgrade I am stuck between Samsung s10 plus or iPhone 11\\nI have seen the specs and everything were good except the display it’s somewhere between 720-1080 and it’s not even an amoled it’s an LCD display\\nBut I decided to go with iPhone because I have never used an IOS device I have Been an android user from the past 9 years I ordered IPhone 11 (128gb) product red\\nMy experience after using 3 weeks\\n1. The delivery ...\\nREAD MORE',\n",
       " 'Amazing Powerful and Durable Gadget.\\n\\nI’m am very happy with the camera picture quality, Amazing face id unlocked in dark room, Strong battery with perfect screen size as you can carry easily in pocket. This is my third iPhone.\\n\\nI shifted from android Samsung Note series to iPhone because of the strong build quality and peace of mind for next 3-4 years.\\n\\nDon’t think to much just go for it and I suggest you to go for minimum 128gb variant or more 256gb.\\n\\nI’ve attached my puppy pics and no fi...\\nREAD MORE',\n",
       " 'So far it’s been an AMAZING experience coming back to iOS after nearly a decade but it’s not as versatile as android though phone is sturdy dropped it accidentally a couple of times and nothing happened fortunately camera is awesome',\n",
       " 'Really satisfied with the Product I received... It’s totally genuine and the packaging was also really good so if ur planning to buy just go for it.',\n",
       " 'i11 is worthy to buy, too much happy with the product. Thank u flipkart I received the item on time..loved it..',\n",
       " 'iphone 11 is a very good phone to buy only if you can compromise for the display. The display on this is device is pretty good but you can get other options with better displays in this price segment.\\nIf you can survive with an HD+ LCD panel with thicker bezels and a notch up top then this is a very good phone for you.\\nCameras are awesome, battery backup excellent, great performance and a decent premium look. Good job Apple !',\n",
       " 'It’s a must buy who is looking for an upgrade from previous generation of iPhones. If you are using XR then still you can hold on for sometime and upgrade to 2020 model else this phone is a must buy . Camera quality is amazing and wide angle is something to count upon. Performance wise it’s amazing and feels premium while holding in hand. So a big YES for this device. Go for 128 GB variant as the 4K videos will occupy lots of space and the storage can get over very quickly. Try to buy it with...\\nREAD MORE',\n",
       " 'Value for money❤️❤️\\nIts awesome mobile phone in the world ...\\nDisplay was very good and bright ..\\nTrust me freinds you r never regret after Buying..\\nJust go for it....\\nI love this phone and i switch to iphone x to 11',\n",
       " 'Best budget Iphone till date ❤️ go for it guys without second thought. Let me explain you guys about Camera, Display, battery, and performance.\\n\\nCamera: at this price range there is no comparison of camera, you’ll love the picture quality as well as video quality. I am a Vlogger I wanted an iPhone with 4k video by front camera and I got this phone and I am more than happy 😃\\n\\nBattery: I use this phone roughly as I am active social media person and I have a youtube channel. so the battery ba...\\nREAD MORE',\n",
       " \"Iphone is just awesome.. battery backup is very very nice.. continuously for 10 hours we can use it.camera is just awesome.. display is just fab.i love it alot..i had to wait 15 days for it as i pre ordered it..overalll it's worth the price..these all images are clicked by my iPhone..and i love it.\",\n",
       " 'What a camera .....just awesome ..you can feel this iPhone just awesome . Good for gaming also ...try pubg in hd it’s just wow',\n",
       " 'It’s been almost a month since I have been using this phone. I upgraded from an iPhone 8. The main issue with my 8 was battery and this phone is just awesome when it comes to battery. It lasts a day and a half for me with my regular use , internet connected always with 4g\\nCan’t move forward without saying this. Battery of this phone is a life saver when I am traveling or at work when I don’t get the option to charge\\nCamera is superb. Front cam selfies and back cam photos are just awesome.\\n...\\nREAD MORE',\n",
       " 'Excellent camera, good performance, no lag. The lcd display is also good.. but difference come when we watch movie in prime and Netflix, the colours are not vibrant.. as we see in amoled display.. and the charger in box is of 5 watts.. takes more than 3 hours to charge from 0 to 100.. so guys be prepare to buy 18 watts charger . Finally I am an android user, it was my first Iapple phone, I promise u guys the iOS is so smooth.. overall the phone is damn good.... close eyes to buy it.. thanks t...\\nREAD MORE',\n",
       " 'Really worth of money. i just love it. It is the best phone ever.',\n",
       " 'Awesome Phone. Slightly high price but worth. Better than iPhone XR.\\nCamera is superb and wide angle camera is very clear.\\n12MP selfie camera is also very good.\\nA13 Chip gives a very good and smooth performance.',\n",
       " \"It's my first time to use iOS phone and I am loving my upgradation 😍😍 I love the color, I love the assebility of the phone....I need to learn more about its functionality, but as far as I have seen, it's quite easy and it has a lot of functions to work on, specially if you are a content writer or a blogger you get a lot of content creation platforms and they are really amazing.\\n\\nThis phone not only for good quality photography but a lot of other task too.😍💯\",\n",
       " 'Superb Product !!!\\nA big and worthy upgrade from mi 3S to iphone 11 .\\nTotally loved it !',\n",
       " 'This is my first ever I phone. Before this I was using my google nexus 5. But moving from android to iOS is a great experience. It’s worth at this price. I will highly recommend it if you want to move to iOS. The best part of this phone is it’s camera and it’s battery life. This two things have won my heart. I loved it. Happy to have it in my hand. Still exploring its features. And can’t forget to mention Flipkart service. Very prompt service and fast delivery.',\n",
       " 'I have migrated from OP 7pro... and trust me, iPhone 11 is totally worth it.. following are the reasons:-\\n1)there is ABSOLUTELY NO ISSUE WITH THE DISPLAY... its crisp, sharp and I found it to be much much better than OP7 pro. Netflix, Prime video all run crisply... you won’t miss a thing. True Tone works flawlessly...the display brightness is perfect. OP have not calibrated their screens properly.\\n2) iPhone 11 series have really good cameras... others have spoken in depth about them.\\n3) bat...\\nREAD MORE',\n",
       " 'It’s an amazing product from apple and the camera is simply superb. Phone is faster.Night shot is simply superb and detailing and colour differentiation from camera is an added advantage\\n\\nThis review I have written from iPhone 11 only and I am glad to say outside.\\n\\nCons wise if we see HD+ display only, no battery percentage indicator as in older iPhone 8.\\nNo assistive touch control button in it\\nNo oleophobic coating on back panel glass and finger prints are visible but since I bought mint gr...\\nREAD MORE',\n",
       " 'Looking so good 👍 😍 super 👌 stylish 😎 phone\\nClean box 📦 good 👍 delivery 👌 fast delivery\\nOriginal box Original iphone 📱 👌 😍😍😍',\n",
       " 'After 1 month use I found camera quality best compared to my previous Samsung note 10+.Display not good as note 10 also charging too slow.Apple should add fast charger like 11 plus and pro.Best phone for daily use',\n",
       " 'I just directly switch from iphone 6s to iphone 11 .The best premium smartphone I recommend to everyone. Excellent quality and colors the iphone have in 11 series.\\nCamera quality is just awesome and the major feel when we hold in our hands. The sound quality and volume is also higher then the previous models.\\nI will recommend to buy iphone 11 instead of pro models , there is nothing much difference as this model contains everything which fulfill our needs.\\n\\nOnly one thing that I dislike abo...\\nREAD MORE',\n",
       " 'Upgraded from iphone 6 to 11 best phone for iphone users battery is much better than other iphones camera is awesome love to use it.camera is so clear in night.',\n",
       " \"It's very high performances devise i am like the service of flipkart delevary very fast and packing very nice perfect phone\",\n",
       " 'Well you all know the specifications . One of a kind. Best iPhone till date. Many enhancements to the camera app with many options. Love the glass body with matte finish in the lens area on the back. Lovely colours to choose from. Best battery in an iPhone till date, enough to last more than a day in normal usage. I tested my iPhone 11 battery and lasted for than 24 hours after full charge still with 30% battery charge left. Watched movies for some time. Normal usage on calls, browsing, musi...\\nREAD MORE',\n",
       " 'This will help you more. See if you are planning to buy iPhone 11. I will say. Yes. But there are some plans I just want to disclose before you buy. 1) If you are an existing iPhone X/XS/XS Max/ XR user, better you guys do not think it to buy. You guys have more or less better gadget. 2) If you are an android user and planning to buy premium phone. I will suggest them to please buy iPhone instead of buying an Android. I bet you will never go back to android after using IOS. Now I want to shar...\\nREAD MORE',\n",
       " 'The built quality is not very premium.\\nThe battery back is great .\\nThe LCD panel is not so sharp but the brightness level is very High .\\nCamera is super duper awesome.\\nThe red colour which people think is bright is actually very soothing and excellent colour to choose from .\\nThe A13 Bionic chip is really a flagship processor and can beat any phone which even has 12 gb ram .\\nCamera module is very great and looks very stylish.',\n",
       " 'Really good actually this is my first apple product am using its really awesome performance wise excellent. Am really happy with this iphone11',\n",
       " 'it is very good at performance. Camera is best like before and very smooth response even in water. Don’t buy 12 mini buy iPhone 11 , it is far better than 12 mini believe me ! Have a nice day \\uf8ff ☺️',\n",
       " 'Reviewing again after 5 months. At the beginning the battery and performance was good but it degraded soon. Also I was facing heating issues. The mobile will heat up like a stove sometimes. You cannot even play Pubg even in low settings properly, performance is not a problem but heating is. Also if you play that game for 10 mins the brightness will be automatically down due to over heating even when the auto brightness is set to off. This will not be solved even if u manually increase the bri...\\nREAD MORE',\n",
       " 'Great iPhone very snappy experience as apple kind. Upgraded from iPhone 7.\\nPros\\n-Camera top class\\n- Battery top performed\\n-Chipset no need to say as apple kind\\n-Security as you expect from apple\\n- Display super bright industry leading colour\\naccuracy and super responsive\\n-Build quality as expect from apple sturdy\\npremium durable beautiful stylish.\\n-Os most stable os in smartphone industry\\n\\nCons\\n-No 5G\\n-Display is not based on OLED technology\\n-Charger headphones and 1 apple stic...\\nREAD MORE',\n",
       " 'It is just awesome mobile for this price from Apple,\\n\\nAfter 10 days review\\n\\nBattery enough for 1 day even 24*7 Internet will be on and mostly internet usage\\n\\nCamera is just awesome cool , android 64 MP is equal to this just 12 MP\\n\\nA13 Bionic chip will give more high performance without hanging\\n\\nAudio stereo speakers will give Dolby atoms sound with crystal clear\\n\\nVideo recording is like cinematic shots of every sec can be a 4K 60fps. Just awesome this phone\\niPhone 11 loved one',\n",
       " 'Best Apple iPhone that i have bought at a very reasonable price, camera quality is next level just awesome n of superior quality android phones not even close(RIP) to that and also battery is really good but packaging by Flipkart of iPhone was very poor of such a expensive product, firstly im bit worried about the quality of product if i purchased it through online how was the product but i think now this was mine best decision to bought it through Flipkart online because i got genuine Apple...\\nREAD MORE',\n",
       " \"I can say I'm damn impressed with iPhone 11. As they says iPhone 11 have the toughest glass ever in the smartphone which you'll find on the front and back and it's totally smooth. The fit and finish is full apple quality - there's no sense that any cheaping out has happened in the construction. Without saying it's camera features this review won't complete. The iPhone 11 has a dual camera system, consisting of a wide angle len's that's pretty much same as found on the iPhone XR last year, but...\\nREAD MORE\",\n",
       " 'Best Quality Product OF iPhone Series , Sound Quality & Camera quality is very awesome, Battery Life is very Sufficient for 24 hr Backup With Full Internet Access , I love this this Product too much , It is very fast & making me Very fast in all my daily Routine\\nHighlights;\\n1.Camera: 5 STAR\\n2.Video Recording: 5 star\\n3.Night mODE sHOOTING & Camera:4 star\\n4. Audio Quality: Awesome\\n5. Battery : 5 Star\\n6. Touch:5 Star\\n7. Processor: Very Fast\\nThe M...\\nREAD MORE',\n",
       " 'First thanks to Flipkart for this amazing deal and phone is outstanding. I upgraded from iPhone 7 and this is like very big upgrade. But the packaging was very basic I expected a good packaging as they only wrapped one layer of bubble wrap which I don’t think is enough to protect this expensive phone. And I recommend this phone and seller as well.\\n\\nAnd I’m posting this review after using it for 4 days.',\n",
       " 'Superfast delivery by Flipkart. Thanks.\\n\\n1. iPhone 11 is a pretty solid phone for the money you are paying.\\n2. All the bad reviews about the display is confusing. It’s not that bad.\\n3. I switched from a Oneplus 7t. I have no complaints about the display quality of iPhone. Yes, it’s not OLED, so, we are missing on the deep blacks. But that’s it. It is a very colour accurate display. Gets adequately bright and I could not find any pixelation.\\n4. Performance is one of the best, if not best, in ...\\nREAD MORE',\n",
       " 'Smooth like butter, camera like fantabulous, sound is crystal clear & its red color is damn attractive, i am just loving it. Must buy if you love photography.\\n\\nLucky to get it in sale, thank you Flipkart.',\n",
       " \"Again back to apple iphone after a gap of 2-3 years. It's pleasure to use iOS and the quality product by Apple. Iphone 11 still works like a beast in 2021 also. It really capable of doing day to day usage as well as hard core gaming. Battery is awesome. I'm really too much satisfied with it. Apart fto the very gorgious IPS LCD (AMOLED will be better) everything is mind boggling. Iphone💕.\",\n",
       " 'The ultimate performance\\nCamera is superb\\nThe battery backup also very good i never saw iphone gives this much of battery backup\\nIf any one wana buy iphone 11 definitely i will recommend this mobile\\nIt has the better battery and powerfull processer peak performance glorious camera and the display also 100% high quality lcd display if u had money for for 12 if u dont wana invest much money on that then go for iphone 11 it has maximum same specs only main difference between the 12 and 11 is...\\nREAD MORE',\n",
       " 'impressive super phone and best in class camera ,sound and face unlock is super fast just see and phone is unlock and fast in daily apps use',\n",
       " \"It's a great phone. From camera to display everything is best for the price.\\nBest camera , best performance. I think everyone should buy it . This phone has best battery life so far in iphone series which I had used earlier. Happy to have it. Thanks Flipkart\",\n",
       " 'Battery backup is extraordinary, camera is decent & performance offered by A13 bionic is awsome. The display is good in practical usage like the visibility of display is very good in direct sun light compare to pro models. Iam extremely satisfied for the money I spent.',\n",
       " 'Well while switching from android to iOS the first thing you need to be careful about is that you will loose all your whatsapp chat backups as both are different operating systems. Camera clarity is awesome and though being an lcd screen clarity and resolution is good. Battery backup is also good unlike previous gen iPhone. So far the experience is good will Padre after a few months of usage.\\n\\nP.S the black is more of a dark grey shade and not jet black',\n",
       " 'In love with this iphone great performance,camera ,battery everything. Go for it have a uncompareble battery backup, no doubts in iPhone camera here You can see the picture which is shot on my iPhone In love with this iphone great performance,camera ,battery everything. Go for it have a uncompareble battery backup, no doubts in iPhone camera here You can see the picture which is shot on my iPhone In love with this iphone great performance,camera ,battery everything. Go for it have a uncompare...\\nREAD MORE',\n",
       " 'Best in class. Battery backup is good especially when you play games like Pubg COD. But it is sort of heavy when you hold in hands. Portrait mode is best to click pictures. Stage light effect is awesome. Try to click photos outside in nature because photos inside home or room will not give you the quality in any phone even in DSLR.',\n",
       " 'Very excited to have this phone. This phone has the real power unlike the android phones having SD 855 . The battery life is very good and the camera quality is excellent as comapred to redmi and other phones except google pixel. I M enjoying every single bit of it. Would recommed only if you have the budget.',\n",
       " \"I upgraded (downgraded?) from my iPhone X since the phone fell down and I didn't want to repair the screen. The box that the phone came in was super slim and I was worried that there'd be no 5W charger with it and my fears were confirmed. However, thankfully I had the 18W USB-C PD charger from Apple which I bought for my iPhone X and it worked perfectly. The charging time is as lethargic as ever though and it takes about 1:30 mins or even 2 hours depending on charge remaining. I'll list some ...\\nREAD MORE\",\n",
       " 'Its Very awesome product working and good camera quality and all about best product and also flipkart is very great deal and offer nice price',\n",
       " 'I am using this phone for 5 days and its one of the best camera out there ❤️ the screen is not oled and i am coming from iphone xs so its little bit not up to the mark i would say\\nBut overall value for money💕😍the battery back up is far better than my iphone xs and its worth in my apple ecosystem💫❤️if u are an apple User and have the eco system then go for it❤️though i will be getting the new iphone but its pretty good💫',\n",
       " 'Best and amazing product.....phone looks so premium.... battary is also good as expected .... Wide angle camera is so addictive ...if you are a IOS lover....then this phone will be the best choice for you all!!💯🔥',\n",
       " 'Excellent camera and display touching very nice and smooth very improvement against iPhone XR and new processor is very fast',\n",
       " 'Awesome purchase. Amazing phone with good battery backup. It’s a top notch device. White colour looks amazing. Phone has a few extra feature than iPhone XR. Overall, this is value for money',\n",
       " 'Totally in love with this ❤ the camera quality is amazing just love it 😘😘😘 itsss dammnnnnnn amazing... Must buy iPhone 11 this is my best experience ever ☀👌👌🧡🧡🧡🧡🧡 thanku apple ❤',\n",
       " 'Always love the apple products, upgraded from old iPhone 6S plus to this after having my first baby. I just love to click baby’s photos with it. Overall I just love this phone. Battery back up is okay, sound quality is good. Haven’t tested yet waterproof yet. Only one thing I hate is apple could have given charger & headphones in box.',\n",
       " 'Value for money\\n5 star rating\\nExcellent camera\\nBattery backup full day in single charge.\\n\\nTougher and water resistant design, glossy back.\\nThe screen has excellent brightness and contrast.\\nApple A13 Bionic is the fastest smartphone chip on the planet.\\nExcellent battery life, fast charging support.\\nStereo speakers with great quality.',\n",
       " 'Amazing camera and feel super machine I am not describe my feeling but this is amazing Phone I am so lucky I have this',\n",
       " 'They are selling cheep quality items. There is a black line on the edge of the display. Waiting for the replacement..\\n\\nUpdate:today I got the replacement from flipkart.. The second one is nice and the display and camera quality is much better than the previous one.. Thanks for the support',\n",
       " 'awesome phone to have. it has got many smart features apart from mind blowing looks, camera, display, battery and sound. have fallen in love with this phone. must buy phone if you have got enough money. thanks to flipkart and apple of course..',\n",
       " 'Its a fabulous mobile look awesome performance unbeaten camera like dslr battery good i think this is a beast of mobile',\n",
       " 'Dear friends... I want to share my experience with you about this amazing I phone 11....this is my first iPhone and special things about this mobile is it has great camera, battery backup and awesome display.... I mean everything is perfect.loved it 👍👍👍',\n",
       " \"Just got this iphone 11\\nAnd it is most powerful mobile phone I have used ever\\n\\nSo,go for it if you want a phone with best specification like camera,battery backup,display, A13 bionic chip\\n\\nThat's my review about this phone but yours can be differ from me....\",\n",
       " 'Amazing phone and on great deal I received with super fast delivery by Flipkart...',\n",
       " 'finally an iPhone with very nice battery backup. update from iPhone 7 and happy to have it. camera is not up to the mark in low light but overall a recommended phone if your budget allows 😀',\n",
       " \"I'm switching this phone to oppo reno 10x zoom\\nIt's really impressive\\nRarely I'm missing smooth display touch response like oppo reno but\\nI really loved it.\\nCamera really impressive\",\n",
       " 'Worth the money’ starting first from its performance it beats out all phones , second the smoothness of camera is awesome, contrast ratio is much than expected. Price will not matter if u r a quality person, if not other phones are available with better discount',\n",
       " \"I'm Really happy with the product\\nDelivery was fast as well\\n..it was a gift for my sister and she loved it so much.\",\n",
       " 'Great iphone.\\nI am writing this review after 2 months of usage.\\nCamera is excellent, especially the nightmode\\nDisplay perfect\\nBattery backup awesome\\nSound quality very good\\nOverall Apple gives you a perfect iphone in this range.\\nReally in love with iPhone 11',\n",
       " 'Did an upgrade from 6s plus to iphone 11.\\nAo far the experience is well and good. Felt smoother than 6s plus. The camera quality is superb. Battery backup is descent. Not a heavy user, and gets power more than a day. Go for it if you need an alrounder iphone in a competitve price.',\n",
       " 'Damn this phone is a blast . Upgraded from android to ios and is a duperb experience. Battery backup is top notch and display also pretty good',\n",
       " 'awesome Phone Smooth Touch Too good Sexyy looks one word Awesome',\n",
       " \"Just go for it.\\nThis phone is really amazing. I ordered it for my wife and we click photos on this thing which are better than dslr. I own OnePlus 6t but it's camera sucks. iPhone is really amazing when it comes to camera. It's worth spending 50k on this. Cons- only display is lcd. While using u don't feel it but if u compare with other phone then u can see difference quite easily.\\nChanging from Android to iphone is bit difficult coz most of things u don't know but I liked it. Some of the a...\\nREAD MORE\",\n",
       " \"It was amazing experience for me. Honestly i am using iPhone first time so I don't have that much past experience about that. But after using 7 days this mobile i want to give some honest feedback.\\n1- Display 9 out of 10\\n2- Camera 9.5 out of 10\\n3- Battery 7 out of 10\\n4- Performance 9.5 out of 10\\n5- Features & Functions 10 out of 10\\n6- Outer looks and colour 10 out of 10\\nRest i think i will understand after using this for few months.\\nI will highly recommend you guys if you have budget then you...\\nREAD MORE\",\n",
       " \"I've used this phone for over a month now and here are my takeaways.\\nI would like to first talk about the best things about this phone and then the cons of it.\\n\\nPros:\\nThis phone is a performance beast. It handles large games and applications effortlessly and you won't find any stutters or lags while playing graphic intensive games like pubg, cod , mortal kombat and asphalt.\\n\\nThis phone has only 4gb ram and yet the ram management is amazing, it can keep 3 heavy games in memory without reload...\\nREAD MORE\",\n",
       " 'I rate this product 5* as it has got amazing user experience with the best performing A13 bionic processor. The screen responds and graphics rendering is top notch. With casual gaming and internet browsing, the battery lasts for approx. 1 day. Camera is very good. You will fall in love with the portrait mode. You can call me a loyal Apple customer or whatever but I won’t stop praising the products and overall experience. That user experience matters and is worth every penny you pay.\\n\\nBelow ar...\\nREAD MORE',\n",
       " 'Undoubtedly Iphone 11 is the most successful model till now and its performance is extraordinary and the security features are very impressive, display is more vibrant sound quality Camera Quality 5*****, but Iphone should add accessories too and act like scrooge.',\n",
       " 'Absolutely powerful gadget. Loved it’s look! Soo glassy and classy. I would definitely recommend this model of Apple. Only disappointed with the 5W charger, one should purchase an 18W adapter for fast charging. Though battery backup is great. Bought it in September 2020, reviewing after so long so I’m gonna put the genuine review here.✅',\n",
       " 'I was torn between the oneplus 8 pro and the iphone 11. I had to shell out extra money for this, but I say if you can afford it, this truely is the best package.\\nMind blowing camera, battery and overall performance. Face Id works like magic even in complete darkness without firing up the screen brightness. The phones with in display fingerprint scanners do this at night time and it really burns your eyes.\\nI wanted the oneplus for its display but tbh the OLEDs on oneplus is really bad. Flick...\\nREAD MORE',\n",
       " 'I purchased the iPhone 11 a month back. I must say Apple has impressed me yet again . I have been an Apple user for past 5 years . The phone is power packed with amazing features . What impressed me the most was the battery backup the phone offers . Battery can easily run upto 1.5 days in single charge with moderate to\\nHeavy usage . If you’re looking for a value for money device , I don’t see any other phone in the price range which can match the iPhone 11 .\\nOne thing I didn’t like was that ...\\nREAD MORE',\n",
       " 'Can’t beat the software and hardware integration of apple.\\nPerforms like a beast. Great quality camera\\n6-7 hours screen on time which is good. Nothing much to complaint about the screen. Good connectivity speeds.\\nGreat buy and Flipkart’s delivery top notch as usual',\n",
       " 'I dreamt about this day from a long time.... Getting an iPhone with my own money.... Super happy and worth spending every penny',\n",
       " 'I use a Note10+ and have been using both iOS and Android devices.\\n\\nCamera has really good features and portraits are super good, better than Samsung flagship. Overall camera setup can still be enhanced and hopeful for better upgrades on software in next release\\n\\nOperating system is quite a breeze and user experience of daily usage is very high as compared to Android. I moved to iOS very swiftly in 2 days for all my office work from Note10+\\n\\nBattery holds up quite well with 4 hrs of call and ...\\nREAD MORE',\n",
       " 'The phone is completely good\\nAs far as camera Apple is king of it\\nAnd its a beast in performance\\nAnd the battery is pretty good too',\n",
       " 'Everything u ll like it when u use this iPhone. Simple changes only not many to lower models but it’s nice to use. Little heavy compared to previous models like 7,8',\n",
       " \"phone is good but in display is 720p lcd in this price range we can get full hd OLED displays with higher refresh rate processor is very good camera is nice but looks kind of oldish in front of todays phone also there's no charging in box had to buy it seperately\",\n",
       " 'Nice value for money good and best price I phone mind blowing camera processor very fast other android mobile I am happy India top selling phone 2020',\n",
       " 'I was using Iphone 6s and also Oneplus 6t. Both mobiles were perfectly alright in Photos, gaming, and smooth interface . My 6s mobile getting battery issue. thought upgrade to 11. Really like this mobile of its Internal storage (compare to 6s) , camera and its touch feeling. Its a worth buying mobile for me.',\n",
       " 'This is my first ever iPhone.\\nAnd I truly don’t regret switching to IOS from my Android.\\n\\nIt is easily an alternative to a DSLR camera.\\nIf you’re obsessed with photos and videos, just don’t think twice or don’t compare to other androids(Samsung S10 lite or OnePlus 8/8T), as it’s far better from them in every field.\\nComparing will only make you confused.\\n\\nI am getting an average Screen on Time of around 10 hours with 30 percent left. I haven’t let my device discharged below 30 % as it aff...\\nREAD MORE',\n",
       " 'Everything is perfect pictures come out so clearly and at first I wasn’t sure when I got it then when I started to use it and get the hang of it it was amazing!! I can’t wait to see what the next future phones will be like. The screen display on this bad boy are unbelievable they are so clear and never fail me. The performance is super cool there is a lot of cool features as well I like this phone because I feel that it is easy to use and one of my favorite things about this phone is the Face...\\nREAD MORE',\n",
       " 'Value for money product. This iphone 11 is really amazing. Again nice release by apple. Great camera, battery backup is excellent. I just love this phone',\n",
       " 'We are on apple ecosystem for almost eight years now with couple of iPads and iPhones, including Xr.\\n\\nBought iPhone 11 as a gift to my daughter who loves it. We chose for a purple coloured one. Believe me it is gorgeous and towards the lighter shade. Dazzling and brilliant!\\n\\nThe phone is great and does excellent RAM management like any other Apple device.\\n\\nThe screen, though a LCD and lesser ppi as compared to other flagship phones of competitor brands, is a delight to watch with perfect re...\\nREAD MORE',\n",
       " \"The best all rounder iphone. Flipkart is doing a great job. They're delivery services are blazing fast. I got delivery on the same day. Genuine Apple Product. Working great. Talking about review There's no need of review for iphones. They're simply the best.\",\n",
       " \"I genuinely liked it. One of the best mobile phones I have used. It's sho smooth and it's security is very astonishing. Plus it has a very good camera quality. so overall it's a win win.\",\n",
       " \"If you are looking for a premium phone under 55k, this is the one for you.Got the iPhone 11 during the Republic day sale. Performance is top notch in this price range. Camera's do a perfect job in taking good quality photos and videos. Battery backup too is satisfactory. Writing this review after using for a week. Any further observations would be updated.\",\n",
       " 'Awesome camera, smooth and fast UI, display is great (though not LED) but the black area at the top could have been reduced. Battery remains a day even if used heavily. Charger in the box is ok, but 12 or 18W could have been nothing like anything. Overall an excellent product and comfortable to use. I have got it almost a month back and so far so good.',\n",
       " 'Thanks Flipkart For this amazing deal! I had a dream of owning a iphone since i had known about.\\nIm very happy with my purchase & it is totally worth it.\\nAmazing experience all over !!\\n\\nAnyone who’s thinking of buying it in 2021, i would simply say go for it without any second thoughts ❤️']"
      ]
     },
     "execution_count": 98,
     "metadata": {},
     "output_type": "execute_result"
    }
   ],
   "source": [
    "#to scrape top 100 full reviews by using xpath \n",
    "full_review=[]\n",
    "for i in page_url:\n",
    "    driver.get(i)\n",
    "    full_summ=driver.find_elements_by_xpath(\"//div[@class='t-ZTKy']\")[:100]\n",
    "    for i in full_summ:\n",
    "        full_review.append(i.text)\n",
    "full_review"
   ]
  },
  {
   "cell_type": "code",
   "execution_count": 99,
   "metadata": {},
   "outputs": [
    {
     "name": "stdout",
     "output_type": "stream",
     "text": [
      "100 100\n"
     ]
    }
   ],
   "source": [
    "#cheaking length by using length function\n",
    "print(len(review_summary), len(full_review))"
   ]
  },
  {
   "cell_type": "markdown",
   "metadata": {},
   "source": [
    "### Q8: Scrape data for first 100 sneakers you find when you visit flipkart.com and search for “sneakers” in the search field."
   ]
  },
  {
   "cell_type": "code",
   "execution_count": 100,
   "metadata": {},
   "outputs": [],
   "source": [
    "#connecting to the web driver\n",
    "driver = webdriver.Chrome(\"Chromedriver.exe\")"
   ]
  },
  {
   "cell_type": "code",
   "execution_count": 101,
   "metadata": {},
   "outputs": [],
   "source": [
    "#get the url\n",
    "url = 'https://www.flipkart.com/'\n",
    "driver.get(url)"
   ]
  },
  {
   "cell_type": "code",
   "execution_count": 102,
   "metadata": {},
   "outputs": [],
   "source": [
    "# to write sneakers in search field\n",
    "search=driver.find_element_by_xpath(\"//div[@class='_3OO5Xc']//input\")\n",
    "search.send_keys(\"sneakers\")"
   ]
  },
  {
   "cell_type": "code",
   "execution_count": 103,
   "metadata": {},
   "outputs": [],
   "source": [
    "#to click on search button by using xpath function\n",
    "search_btn=driver.find_element_by_xpath(\"//button[@class='L0Z3Pu']\")\n",
    "search_btn.click()"
   ]
  },
  {
   "cell_type": "code",
   "execution_count": 104,
   "metadata": {},
   "outputs": [
    {
     "data": {
      "text/plain": [
       "['https://www.flipkart.com/search?q=sneakers&otracker=search&otracker1=search&marketplace=FLIPKART&as-show=on&as=off&page=1',\n",
       " 'https://www.flipkart.com/search?q=sneakers&otracker=search&otracker1=search&marketplace=FLIPKART&as-show=on&as=off&page=2',\n",
       " 'https://www.flipkart.com/search?q=sneakers&otracker=search&otracker1=search&marketplace=FLIPKART&as-show=on&as=off&page=3']"
      ]
     },
     "execution_count": 104,
     "metadata": {},
     "output_type": "execute_result"
    }
   ],
   "source": [
    "#getting urls of the next pages to scrape data for top 100 products\n",
    "page_url2=[]\n",
    "url = driver.find_elements_by_xpath(\"//nav[@class='yFHi8N']//a\")[:3]\n",
    "for i in url:\n",
    "    page_url2.append(i.get_attribute('href'))\n",
    "page_url2"
   ]
  },
  {
   "cell_type": "code",
   "execution_count": 105,
   "metadata": {},
   "outputs": [
    {
     "data": {
      "text/plain": [
       "['India hub',\n",
       " 'kardam&sons',\n",
       " 'Robbie jones',\n",
       " 'CALCADOS',\n",
       " 'KULP',\n",
       " 'Shoes Bank',\n",
       " 'PEHANOSA',\n",
       " 'Extoes',\n",
       " 'Kraasa',\n",
       " 'World Wear Footwear',\n",
       " 'Robbie jones',\n",
       " 'BRUTON',\n",
       " 'Birde',\n",
       " 'Chevit',\n",
       " 'Stefano Rads',\n",
       " 'TR',\n",
       " 'Robbie jones',\n",
       " 'ASTEROID',\n",
       " 'BRUTON',\n",
       " 'PEHANOSA',\n",
       " 'ESSENCE',\n",
       " 'SPARX',\n",
       " 'Chevit',\n",
       " 'Echor',\n",
       " 'Numenzo',\n",
       " 'Chevit',\n",
       " 'SCATCHITE',\n",
       " 'Extoes',\n",
       " 'bluemaker',\n",
       " 'Alfiya',\n",
       " 'World Wear Footwear',\n",
       " 'Numenzo',\n",
       " 'believe',\n",
       " 'D-SNEAKERZ',\n",
       " 'Jokatoo',\n",
       " 'ZMLOOK',\n",
       " 'Arohi',\n",
       " 'SPARX',\n",
       " 'Magnolia',\n",
       " 'Echor',\n",
       " 'kardam&sons',\n",
       " 'SPARX',\n",
       " 'restinfoot',\n",
       " 'India hub',\n",
       " 'REEBOK',\n",
       " 'Robbie jones',\n",
       " 'Bonexy',\n",
       " 'Extoes',\n",
       " 'WRIZT',\n",
       " 'STRANGER BROTHERS',\n",
       " 'Zsyto',\n",
       " 'BRUTON',\n",
       " 'NIKE',\n",
       " 'World Wear Footwear',\n",
       " 'SPARX',\n",
       " 'TR',\n",
       " 'Fzzirok',\n",
       " 'bluemaker',\n",
       " 'Chevit',\n",
       " 'PEHANOSA',\n",
       " 'Robbie jones',\n",
       " 'ESSENCE',\n",
       " 'FILA',\n",
       " 'Echor',\n",
       " 'NIKE',\n",
       " 'Zsyto',\n",
       " 'Chevit',\n",
       " 'Numenzo',\n",
       " 'World Wear Footwear',\n",
       " 'BRUTON',\n",
       " 'ADIDAS',\n",
       " 'Echor',\n",
       " 'KULP',\n",
       " 'Robbie jones',\n",
       " 'SPARX',\n",
       " 'Echor',\n",
       " 'PEXLO',\n",
       " 'India hub',\n",
       " 'ESSENCE',\n",
       " 'Extoes',\n",
       " 'Magnolia',\n",
       " 'PUMA',\n",
       " 'Englewood',\n",
       " 'India hub',\n",
       " 'Absolute comfort',\n",
       " 'Robbie jones',\n",
       " 'Absolute comfort',\n",
       " 'Extoes',\n",
       " 'SPARX',\n",
       " 'HOCKWOOD',\n",
       " 'PUMA',\n",
       " 'BRUTON',\n",
       " 'BRUTON',\n",
       " 'PUMA',\n",
       " 'Chevit',\n",
       " 'TR',\n",
       " 'PUMA',\n",
       " 'PUMA',\n",
       " 'BRUTON',\n",
       " 'PEHANOSA',\n",
       " 'STRANGER BROTHERS',\n",
       " 'DUCATI',\n",
       " 'Numenzo',\n",
       " 'Echor',\n",
       " 'Ktiz',\n",
       " 'Chevit',\n",
       " 'SPARX',\n",
       " 'Numenzo',\n",
       " 'Jack Diamond',\n",
       " 'Svpanther',\n",
       " 'DUCATI',\n",
       " 'Echor',\n",
       " \"LEVI'S\",\n",
       " 'BRUTON',\n",
       " 'Ktiz',\n",
       " 'Echor',\n",
       " 'Chevit',\n",
       " 'RED TAPE',\n",
       " 'PUMA',\n",
       " 'Extoes']"
      ]
     },
     "execution_count": 105,
     "metadata": {},
     "output_type": "execute_result"
    }
   ],
   "source": [
    "# to scrape top 100 brands of sneakers using xpath function\n",
    "brands=[]\n",
    "for i in page_url2:\n",
    "    driver.get(i)\n",
    "    brand=driver.find_elements_by_xpath(\"//div[@class='_2WkVRV']\")[:100]\n",
    "    for i in brand:\n",
    "        brands.append(i.text)\n",
    "brands     "
   ]
  },
  {
   "cell_type": "code",
   "execution_count": 106,
   "metadata": {},
   "outputs": [
    {
     "data": {
      "text/plain": [
       "['Sneakers For Men',\n",
       " 'Casual Sneakers Shoes For Men Sneakers For Men',\n",
       " '310 Sneakers For Men',\n",
       " \"White Sneaker For Men's/Boy's Sneakers For Men\",\n",
       " 'Sneakers For Men',\n",
       " 'Combo Pack Of 4 Casual Shoes Loafer Shoes Sneakers For ...',\n",
       " 'Series 7 Sneakers For Men',\n",
       " '5011-Latest Collection Stylish Casual Loafer Sneakers S...',\n",
       " 'Sneakers For Men',\n",
       " 'Sneakers For Men',\n",
       " 'Combo Pack of 4 Casual Shoes Sneakers For Men',\n",
       " 'Speed Set of 5 Pairs Sneakers Outdoors Casuals for Men ...',\n",
       " 'Sneakers For Men',\n",
       " 'Sneakers For Men',\n",
       " \"Original Luxury Branded Fashionable Men's Casual Walkin...\",\n",
       " 'Combo Pack Of 4 Casual Sneakers For Men',\n",
       " 'Raptor Sneakers For Men',\n",
       " 'Casuals Sneakers For Men',\n",
       " 'SM-322 Sneakers For Men',\n",
       " 'Unique & Perfect Collection Combo Pack of 02 Shoes for ...',\n",
       " 'Sneakers For Men',\n",
       " 'Super Stylish & Trendy Combo Pack of 02 Pairs Sneakers ...',\n",
       " 'Sneakers Sneakers For Men',\n",
       " 'Casual Sneaker Sneakers For Men',\n",
       " 'casual for men (blue 06) Sneakers For Men',\n",
       " 'Shoes in Black Color Party wear/Outdoor/Casual Shoes Fo...',\n",
       " 'Combo Pack of 4 Latest Collection Stylish Casual Loafer...',\n",
       " 'Sneakers For Men',\n",
       " 'Sneakers for men(black_6) Sneakers For Men',\n",
       " \"Casual , Partywear Sneakers Shoes For Men's And Boys Wh...\",\n",
       " 'HHM Sneakers For Men',\n",
       " 'Sneakers For Men',\n",
       " 'Sneakers For Men',\n",
       " 'shoes for boys Sneakers For Men',\n",
       " 'Fashionable casual sneaker shoes Sneakers For Men',\n",
       " 'SD-323 Sneakers For Men',\n",
       " \"Casual shoes,Sneakers for men's,shoes for men's Sneaker...\",\n",
       " 'TREAD LITE LUX Sneakers For Men',\n",
       " 'Casual Sneakers White Shoes For Men Sneakers For Men',\n",
       " 'Sneakers For Men',\n",
       " 'Sneakers For Men',\n",
       " 'Sneakers For Men',\n",
       " 'Sneakers For Men',\n",
       " 'Combo Pack Of 4 Casual Shoes Loafer Shoes Sneakers For ...',\n",
       " 'Court Royale AC Sneakers For Men',\n",
       " 'Men 5014 Latest Collection Stylish Casual Sports Loafer...',\n",
       " 'SM-162 Sneakers For Men',\n",
       " 'Sneakers For Men',\n",
       " 'casual for men (beige 06) Sneakers For Men',\n",
       " \"Super & Trendy Men's Pack of 02 Pair Shoes for Boys Cas...\",\n",
       " 'Sneakers For Men',\n",
       " 'Casual Sneakers Shoes For Men And Boys Sneakers For Men',\n",
       " 'Trendy Sneakers For Men',\n",
       " 'DERICO Sneakers For Men',\n",
       " 'Raptor Sneakers For Men',\n",
       " 'SB Heritage Vulc Skate Sneakers For Men',\n",
       " 'Perfect & Affordable Combo Pack of 02 Pairs Sneakers Ou...',\n",
       " 'Casual Sneaker Sneakers For Men',\n",
       " 'Sneakers For Men',\n",
       " 'Combo Pack of 2 Casual Shoes Sneakers For Men',\n",
       " 'Adiset M Sneakers For Men',\n",
       " 'HHM Sneakers For Men',\n",
       " 'Casual Sneakers White Shoes For Men And Boys Sneakers F...',\n",
       " 'Casual Sneakers White Shoes For Men And Boys Sneakers F...',\n",
       " 'Canvas Casual Partywear Outdoor Sneakers Shoes For Mens...',\n",
       " 'shoes for boys Sneakers For Men',\n",
       " 'Combo Pack of 3 Casual Sneakers Shoes Sneakers For Men',\n",
       " 'Trendy Sneakers For Men',\n",
       " 'White Sneakers Sneakers For Men',\n",
       " 'Puma Rebound LayUp SL Sneakers For Men',\n",
       " 'Casual Sneakers Shoes For Men Sneakers For Men',\n",
       " 'Sneakers For Men',\n",
       " 'Sneakers For Men',\n",
       " 'Poise Perf IDP Sneakers For Men',\n",
       " 'Combo Pack Of 4 Casual Shoes Loafer Shoes Sneakers For ...',\n",
       " 'Combo Pack of 5 Casual Sneakers With Sneakers For Men',\n",
       " 'Simha IDP Sneakers For Men',\n",
       " 'Combo Pack of 4 Casual Sneakers With Sneakers For Men',\n",
       " 'Sneakers For Men',\n",
       " 'Poise Perf V1 IDP Sneakers For Men',\n",
       " 'Flex Generation V1 IDP Sneakers For Men',\n",
       " 'Combo Pack Of 4 Casual Sneakers For Men',\n",
       " 'Raptor Sneakers For Men',\n",
       " 'Sneakers For Men',\n",
       " 'Sneakers For Men',\n",
       " 'Sneakers For Men',\n",
       " 'Rockstyle Trending Multicolor Ultralight canvas Sport/ ...',\n",
       " '168 Smart Red Lace-Ups Casuals for Men Sneakers For Men',\n",
       " 'SM-439 Sneakers For Men',\n",
       " 'Casual Sneaker Sneakers For Men',\n",
       " 'Sneakers For Men',\n",
       " 'HHM Sneakers For Men',\n",
       " 'INDI EXCLUSIVE Sneakers For Men',\n",
       " 'Men Combo Pack of 2 Casual & Sneaker Shoes (Loafer Shoe...',\n",
       " 'Sneakers For Men',\n",
       " 'shoes for boys Sneakers For Men',\n",
       " 'Super 445 Fashion Sneakers For Men',\n",
       " 'Sneakers For Men',\n",
       " 'Simha IDP Sneakers For Men']"
      ]
     },
     "execution_count": 106,
     "metadata": {},
     "output_type": "execute_result"
    }
   ],
   "source": [
    "# to scrape top 100 product_description of sneakers using xpath function\n",
    "product_description=[]\n",
    "for i in page_url2:\n",
    "    driver.get(i)\n",
    "    product_discrip=driver.find_elements_by_xpath(\"//a[@class='IRpwTa']\")[:100]\n",
    "    for i in product_discrip:\n",
    "        product_description.append(i.text)\n",
    "product_description      "
   ]
  },
  {
   "cell_type": "code",
   "execution_count": 107,
   "metadata": {},
   "outputs": [
    {
     "data": {
      "text/plain": [
       "['₹424',\n",
       " '₹298',\n",
       " '₹379',\n",
       " '₹748',\n",
       " '₹399',\n",
       " '₹349',\n",
       " '₹499',\n",
       " '₹474',\n",
       " '₹471',\n",
       " '₹240',\n",
       " '₹449',\n",
       " '₹599',\n",
       " '₹698',\n",
       " '₹759',\n",
       " '₹217',\n",
       " '₹499',\n",
       " '₹474',\n",
       " '₹499',\n",
       " '₹474',\n",
       " '₹539',\n",
       " '₹399',\n",
       " '₹769',\n",
       " '₹470',\n",
       " '₹499',\n",
       " '₹378',\n",
       " '₹599',\n",
       " '₹377',\n",
       " '₹569',\n",
       " '₹449',\n",
       " '₹377',\n",
       " '₹499',\n",
       " '₹440',\n",
       " '₹399',\n",
       " '₹365',\n",
       " '₹418',\n",
       " '₹539',\n",
       " '₹439',\n",
       " '₹695',\n",
       " '₹356',\n",
       " '₹539',\n",
       " '₹410',\n",
       " '₹576',\n",
       " '₹379',\n",
       " '₹424',\n",
       " '₹1,047',\n",
       " '₹474',\n",
       " '₹383',\n",
       " '₹298',\n",
       " '₹279',\n",
       " '₹451',\n",
       " '₹398',\n",
       " '₹474',\n",
       " '₹2,472',\n",
       " '₹240',\n",
       " '₹730',\n",
       " '₹599',\n",
       " '₹399',\n",
       " '₹449',\n",
       " '₹470',\n",
       " '₹499',\n",
       " '₹474',\n",
       " '₹442',\n",
       " '₹1,260',\n",
       " '₹539',\n",
       " '₹3,297',\n",
       " '₹398',\n",
       " '₹499',\n",
       " '₹569',\n",
       " '₹240',\n",
       " '₹299',\n",
       " '₹2,087',\n",
       " '₹539',\n",
       " '₹449',\n",
       " '₹499',\n",
       " '₹666',\n",
       " '₹539',\n",
       " '₹661',\n",
       " '₹424',\n",
       " '₹442',\n",
       " '₹499',\n",
       " '₹311',\n",
       " '₹2,649',\n",
       " '₹474',\n",
       " '₹424',\n",
       " '₹189',\n",
       " '₹474',\n",
       " '₹199',\n",
       " '₹298',\n",
       " '₹799',\n",
       " '₹656',\n",
       " '₹1,518',\n",
       " '₹474',\n",
       " '₹719',\n",
       " '₹1,500',\n",
       " '₹474',\n",
       " '₹599',\n",
       " '₹1,592',\n",
       " '₹1,671',\n",
       " '₹499',\n",
       " '₹539',\n",
       " '₹407',\n",
       " '₹1,572',\n",
       " '₹449',\n",
       " '₹499',\n",
       " '₹474',\n",
       " '₹236',\n",
       " '₹699',\n",
       " '₹569',\n",
       " '₹635',\n",
       " '₹499',\n",
       " '₹1,259',\n",
       " '₹539',\n",
       " '₹1,048',\n",
       " '₹359',\n",
       " '₹399',\n",
       " '₹539',\n",
       " '₹389',\n",
       " '₹899',\n",
       " '₹1,410',\n",
       " '₹499']"
      ]
     },
     "execution_count": 107,
     "metadata": {},
     "output_type": "execute_result"
    }
   ],
   "source": [
    "# to scrape top 100 price of sneakers using xpath function\n",
    "price=[]\n",
    "for i in page_url2:\n",
    "    driver.get(i)\n",
    "    pri=driver.find_elements_by_xpath(\"//div[@class='_30jeq3']\")[:100]\n",
    "    for i in pri:\n",
    "        price.append(i.text)\n",
    "price      "
   ]
  },
  {
   "cell_type": "code",
   "execution_count": 108,
   "metadata": {},
   "outputs": [
    {
     "data": {
      "text/plain": [
       "['85% off',\n",
       " '75% off',\n",
       " '62% off',\n",
       " '62% off',\n",
       " '60% off',\n",
       " '65% off',\n",
       " '50% off',\n",
       " '40% off',\n",
       " '52% off',\n",
       " '51% off',\n",
       " '55% off',\n",
       " '86% off',\n",
       " '65% off',\n",
       " '69% off',\n",
       " '68% off',\n",
       " '70% off',\n",
       " '52% off',\n",
       " '75% off',\n",
       " '88% off',\n",
       " '50% off',\n",
       " '60% off',\n",
       " '23% off',\n",
       " '68% off',\n",
       " '46% off',\n",
       " '62% off',\n",
       " '62% off',\n",
       " '62% off',\n",
       " '50% off',\n",
       " '55% off',\n",
       " '62% off',\n",
       " '81% off',\n",
       " '43% off',\n",
       " '60% off',\n",
       " '44% off',\n",
       " '71% off',\n",
       " '61% off',\n",
       " '56% off',\n",
       " '64% off',\n",
       " '46% off',\n",
       " '79% off',\n",
       " '23% off',\n",
       " '62% off',\n",
       " '85% off',\n",
       " '54% off',\n",
       " '52% off',\n",
       " '61% off',\n",
       " '40% off',\n",
       " '72% off',\n",
       " '54% off',\n",
       " '60% off',\n",
       " '86% off',\n",
       " '45% off',\n",
       " '51% off',\n",
       " '23% off',\n",
       " '70% off',\n",
       " '60% off',\n",
       " '55% off',\n",
       " '76% off',\n",
       " '50% off',\n",
       " '52% off',\n",
       " '55% off',\n",
       " '63% off',\n",
       " '46% off',\n",
       " '40% off',\n",
       " '69% off',\n",
       " '72% off',\n",
       " '43% off',\n",
       " '51% off',\n",
       " '88% off',\n",
       " '42% off',\n",
       " '46% off',\n",
       " '55% off',\n",
       " '50% off',\n",
       " '11% off',\n",
       " '46% off',\n",
       " '72% off',\n",
       " '85% off',\n",
       " '55% off',\n",
       " '50% off',\n",
       " '68% off',\n",
       " '47% off',\n",
       " '75% off',\n",
       " '85% off',\n",
       " '62% off',\n",
       " '52% off',\n",
       " '60% off',\n",
       " '40% off',\n",
       " '15% off',\n",
       " '34% off',\n",
       " '53% off',\n",
       " '86% off',\n",
       " '82% off',\n",
       " '49% off',\n",
       " '76% off',\n",
       " '70% off',\n",
       " '60% off',\n",
       " '58% off',\n",
       " '87% off',\n",
       " '50% off',\n",
       " '59% off',\n",
       " '56% off',\n",
       " '77% off',\n",
       " '46% off',\n",
       " '63% off',\n",
       " '52% off',\n",
       " '43% off',\n",
       " '36% off',\n",
       " '50% off',\n",
       " '65% off',\n",
       " '46% off',\n",
       " '62% off',\n",
       " '85% off',\n",
       " '60% off',\n",
       " '46% off',\n",
       " '22% off',\n",
       " '84% off',\n",
       " '52% off',\n",
       " '50% off']"
      ]
     },
     "execution_count": 108,
     "metadata": {},
     "output_type": "execute_result"
    }
   ],
   "source": [
    "# to scrape top 100 discount% of sneakers using xpath function\n",
    "discount=[]\n",
    "for i in page_url2:\n",
    "    driver.get(i)\n",
    "    disc=driver.find_elements_by_xpath(\"//div[@class='_3Ay6Sb']//span\")[:100]\n",
    "    for i in disc:\n",
    "        discount.append(i.text)\n",
    "discount    "
   ]
  },
  {
   "cell_type": "markdown",
   "metadata": {},
   "source": [
    "### Q9: Go to the link - https://www.myntra.com/shoes"
   ]
  },
  {
   "cell_type": "code",
   "execution_count": 109,
   "metadata": {},
   "outputs": [],
   "source": [
    "#connecting to the web driver\n",
    "driver = webdriver.Chrome(\"Chromedriver.exe\")"
   ]
  },
  {
   "cell_type": "code",
   "execution_count": 110,
   "metadata": {},
   "outputs": [],
   "source": [
    "#get the url\n",
    "url = ' https://www.myntra.com/shoes'\n",
    "driver.get(url)"
   ]
  },
  {
   "cell_type": "code",
   "execution_count": 113,
   "metadata": {},
   "outputs": [],
   "source": [
    "#clicking price filter by coping full xpath\n",
    "price_filter = driver.find_element_by_xpath('/html/body/div[2]/div/div[1]/main/div[3]/div[1]/section/div/div[5]/ul/li[2]')\n",
    "price_filter.click()"
   ]
  },
  {
   "cell_type": "code",
   "execution_count": 112,
   "metadata": {},
   "outputs": [],
   "source": [
    "#clicking colour filter by coping full xpath\n",
    "colour_filter=driver.find_element_by_xpath('/html/body/div[2]/div/div[1]/main/div[3]/div[1]/section/div/div[6]/ul/li[1]/label')\n",
    "colour_filter.click()"
   ]
  },
  {
   "cell_type": "code",
   "execution_count": 114,
   "metadata": {},
   "outputs": [
    {
     "data": {
      "text/plain": [
       "['https://www.myntra.com/shoes?f=Color%3ABlack_36454f&plaEnabled=false&rf=Price%3A6612.0_13075.0_6612.0%20TO%2013075.0%2C6649.0_13099.0_6649.0%20TO%2013099.0&p=2',\n",
       " 'https://www.myntra.com/shoes?f=Color%3ABlack_36454f&plaEnabled=false&rf=Price%3A6612.0_13075.0_6612.0%20TO%2013075.0%2C6649.0_13099.0_6649.0%20TO%2013099.0&p=3']"
      ]
     },
     "execution_count": 114,
     "metadata": {},
     "output_type": "execute_result"
    }
   ],
   "source": [
    "#getting urls of next poges to scrape data for top 100 products\n",
    "page_url3=[]\n",
    "url = driver.find_elements_by_xpath(\"//li[@class='pagination-number']//a\")[:2]\n",
    "for i in url:\n",
    "    page_url3.append(i.get_attribute('href'))\n",
    "page_url3"
   ]
  },
  {
   "cell_type": "code",
   "execution_count": 115,
   "metadata": {},
   "outputs": [
    {
     "data": {
      "text/plain": [
       "['DAVINCHI',\n",
       " 'Geox',\n",
       " 'Heel & Buckle London',\n",
       " 'UNDER ARMOUR',\n",
       " 'Geox',\n",
       " 'Saint G',\n",
       " 'Saint G',\n",
       " 'Cole Haan',\n",
       " 'Geox',\n",
       " 'Geox',\n",
       " 'Geox',\n",
       " 'Skechers',\n",
       " 'Skechers',\n",
       " 'Puma',\n",
       " 'Geox',\n",
       " 'Cole Haan',\n",
       " 'Cole Haan',\n",
       " 'Geox',\n",
       " 'RARE RABBIT',\n",
       " 'FILA',\n",
       " 'Ruosh',\n",
       " 'J.FONTINI',\n",
       " 'Puma',\n",
       " 'VIONIC',\n",
       " 'J.FONTINI',\n",
       " 'Nike',\n",
       " 'UNDER ARMOUR',\n",
       " 'ADIDAS',\n",
       " 'ADIDAS',\n",
       " 'KLEAT',\n",
       " 'Cole Haan',\n",
       " 'Nike',\n",
       " 'Heel & Buckle London',\n",
       " 'Saint G',\n",
       " 'Nike',\n",
       " 'Geox',\n",
       " 'Kenneth Cole',\n",
       " 'Cole Haan',\n",
       " 'Geox',\n",
       " 'Heel & Buckle London',\n",
       " 'Geox',\n",
       " 'Cole Haan',\n",
       " 'FILA',\n",
       " 'Geox',\n",
       " 'Cole Haan',\n",
       " 'Cole Haan',\n",
       " 'UNDER ARMOUR',\n",
       " 'Heel & Buckle London',\n",
       " 'Lacoste',\n",
       " 'Heel & Buckle London',\n",
       " 'KLEAT',\n",
       " 'ALDO',\n",
       " 'Puma',\n",
       " 'Kenneth Cole',\n",
       " 'Nike',\n",
       " 'Hush Puppies',\n",
       " 'Florsheim',\n",
       " 'Florsheim',\n",
       " 'Saint G',\n",
       " 'ADIDAS',\n",
       " 'Kenneth Cole',\n",
       " 'UNDER ARMOUR',\n",
       " 'ADIDAS',\n",
       " 'Nike',\n",
       " 'Kenneth Cole',\n",
       " 'J.FONTINI',\n",
       " 'J.FONTINI',\n",
       " 'Heel & Buckle London',\n",
       " 'ALDO',\n",
       " 'Skechers',\n",
       " 'Ruosh',\n",
       " 'ASICS',\n",
       " 'DAVINCHI',\n",
       " 'DAVINCHI',\n",
       " 'UNDER ARMOUR',\n",
       " 'DAVINCHI',\n",
       " 'DAVINCHI',\n",
       " 'Nike',\n",
       " 'UNDER ARMOUR',\n",
       " 'Skechers',\n",
       " 'Geox',\n",
       " 'ALDO',\n",
       " 'Nike',\n",
       " 'ASICS',\n",
       " 'Clarks',\n",
       " 'Nike',\n",
       " 'Nike',\n",
       " 'ALDO',\n",
       " 'UNDER ARMOUR',\n",
       " 'Saint G',\n",
       " 'ALDO',\n",
       " 'Clarks',\n",
       " 'Birkenstock',\n",
       " 'Kenneth Cole',\n",
       " 'Cole Haan',\n",
       " 'Kenneth Cole',\n",
       " 'Birkenstock',\n",
       " 'ALDO',\n",
       " 'Nike',\n",
       " 'ADIDAS']"
      ]
     },
     "execution_count": 115,
     "metadata": {},
     "output_type": "execute_result"
    }
   ],
   "source": [
    "# to scrape data for top 100 brands of shoes by usking xpath\n",
    "product_brands=[]\n",
    "for i in page_url3:\n",
    "    driver.get(i)\n",
    "    brand=driver.find_elements_by_xpath(\"//h3[@class='product-brand']\")[:100]\n",
    "    for i in brand:\n",
    "        product_brands.append(i.text)\n",
    "product_brands"
   ]
  },
  {
   "cell_type": "code",
   "execution_count": 116,
   "metadata": {},
   "outputs": [
    {
     "data": {
      "text/plain": [
       "['Men Leather Formal Slip Ons',\n",
       " 'Men Textured Formal Leather Loafers',\n",
       " 'Women AIR ELEMENT 2 Sneakers',\n",
       " 'Men Leather Formal Slip-Ons',\n",
       " 'Women Solid Leather Gladiators',\n",
       " 'GS SC 3Zero IV Basketball',\n",
       " 'Men Leather Formal Derbyacs',\n",
       " 'Women Leather Heeled Boots',\n",
       " 'Women Solid Leather Pumps',\n",
       " 'Women Leather Sneakers',\n",
       " 'Women Leather Ballerinas',\n",
       " 'Women Solid Leather Loafers',\n",
       " 'Men Flex Advantage 4.0Upstream',\n",
       " 'Men Football Shoes',\n",
       " 'Men Leather Driving Shoes',\n",
       " 'Men Perforations Leather Brogues',\n",
       " 'Men Wingtip Oxford Sneakers',\n",
       " 'Men Leather Slip-On Sneakers',\n",
       " 'Men GENERATION ZEROGRAND STITCHLITE',\n",
       " 'Men Textured Leather Loafers',\n",
       " 'Men Leather Sneakers',\n",
       " 'Men Leather Formal Brogues',\n",
       " 'Men IGNITE Dual Running Shoes',\n",
       " 'Men Textured Sneakers',\n",
       " 'Men Textured Leather Loafers',\n",
       " 'Men AIR ZOOM PEGASUS 38 Run',\n",
       " 'Project Rock 3 Training Shoes',\n",
       " 'Men Ultraboost DNA CC_1 Shoes',\n",
       " 'Men Running Shoes',\n",
       " 'Men Woven Design Loafers',\n",
       " 'Men RENEW FUSION Running Shoes',\n",
       " 'Women Open Toe Flats',\n",
       " 'Women Solid Leather Heels',\n",
       " 'Women Heeled Boots',\n",
       " 'Men JORDAN ONE TAKE II Shoes',\n",
       " 'Men Leather Formal Monks',\n",
       " 'Women Leather Heels',\n",
       " 'Women Leather Pumps',\n",
       " 'Women Solid Leather Pumps',\n",
       " 'Women Leather Solid Pumps',\n",
       " 'Women Peep Toe Heels',\n",
       " 'Women Solid Leather Ballerinas',\n",
       " 'Women Sneakers',\n",
       " 'Women Woven Design Slip-On Sneakers',\n",
       " 'Women Woven Design Sneakers',\n",
       " 'Women Woven Design Slip-On Sneakers',\n",
       " 'Men HOVR Rise 2 Training Shoes',\n",
       " 'Men Leather Formal Oxfords',\n",
       " 'Woven Design Casual Sneakers',\n",
       " 'Women Leather Pumps',\n",
       " 'Men Woven Design Sneakers',\n",
       " 'Women Woven Design Sneakers',\n",
       " 'Men Duplex Evo Rise Sneakers',\n",
       " 'Women Solid Flat Boots',\n",
       " 'Women AIR MAX VIVA Sneakers',\n",
       " 'Men Solid Leather Formal Loafers',\n",
       " 'Men Leather Formal Derbys',\n",
       " 'Men Solid Leather Formal Derbys',\n",
       " 'Women Embellished Sandals',\n",
       " 'Women Edge Lux 4 Running',\n",
       " 'Men Solid Leather Formal Oxfords',\n",
       " 'Charged Pursuit 2 Running',\n",
       " 'Ultraboost DNA Running Shoes',\n",
       " 'Men REACT MILER 2 Running',\n",
       " 'Men Leather Driving Shoes',\n",
       " 'Men Leather Formal Loafers',\n",
       " 'Men Solid Leather Formal Derbys',\n",
       " 'Men Solid Leather Formal Penny Loafers',\n",
       " 'Women Open Toe Flats',\n",
       " 'Men MAX ROAD 4 Running Shoes',\n",
       " 'Men Formal Leather Brogues',\n",
       " 'Men Running Shoes',\n",
       " 'Ustraa black',\n",
       " 'Men Formal Leather Slip-Ons',\n",
       " 'Men HOVR Guardian 2 Running',\n",
       " 'Men Textured Formal Leather Loafers',\n",
       " 'Men Solid Leather Formal Derbys',\n",
       " 'Men AIR MAX INFINITY Sneakers',\n",
       " 'HOVR Infinite 2 Running Shoes',\n",
       " \"Women D'LITES 3.0 AIR Sneakers\",\n",
       " 'Men Leather Loafers',\n",
       " 'Men Solid Leather Formal Derbys',\n",
       " 'Men Casual Shoes',\n",
       " 'Men EvoRide TOKYO Shoes',\n",
       " 'Men Leather Sneakers',\n",
       " 'Men REACT MILER 2 Running',\n",
       " 'Men PG 5 EP Basketball Shoes',\n",
       " 'Women Sneakers',\n",
       " 'Women HOVR Infinite 2 Running',\n",
       " 'Men Leather Chelsea Boots',\n",
       " 'Men Solid Leather Formal Oxfords',\n",
       " 'Men Solid Leather Formal Derbys',\n",
       " 'Women Arizona Oiled Leather Flats',\n",
       " 'Men Solid Leather Formal Derbys',\n",
       " 'Women Leather Wedges',\n",
       " 'Men Solid Leather Formal Brogues',\n",
       " 'Women Derbys Casual Shoes',\n",
       " 'Men Sneakers',\n",
       " 'KD TREY 5 Basketball Shoes',\n",
       " 'Men Leather COPA 21.3 FG Shoes']"
      ]
     },
     "execution_count": 116,
     "metadata": {},
     "output_type": "execute_result"
    }
   ],
   "source": [
    "#to scrape data for top 100 shoe description of shoes by usking xpath\n",
    "shoe_description=[]\n",
    "for i in page_url3:\n",
    "    driver.get(i)\n",
    "    shoe_descrip=driver.find_elements_by_xpath(\"//h4[@class='product-product']\")[:100]\n",
    "    for i in shoe_descrip:\n",
    "        shoe_description.append(i.text)\n",
    "shoe_description"
   ]
  },
  {
   "cell_type": "code",
   "execution_count": 117,
   "metadata": {},
   "outputs": [
    {
     "data": {
      "text/plain": [
       "['Rs. 8990',\n",
       " 'Rs. 7495Rs. 14990(50% OFF)',\n",
       " 'Rs. 6993Rs. 9990(30% OFF)',\n",
       " 'Rs. 7499',\n",
       " 'Rs. 7495Rs. 14990(50% OFF)',\n",
       " 'Rs. 6675Rs. 8900(25% OFF)',\n",
       " 'Rs. 6622Rs. 8600(23% OFF)',\n",
       " 'Rs. 7699Rs. 10999(30% OFF)',\n",
       " 'Rs. 8999',\n",
       " 'Rs. 9490',\n",
       " 'Rs. 7999',\n",
       " 'Rs. 6999',\n",
       " 'Rs. 7999',\n",
       " 'Rs. 8499Rs. 16999(50% OFF)',\n",
       " 'Rs. 9999',\n",
       " 'Rs. 12999',\n",
       " 'Rs. 11999',\n",
       " 'Rs. 9490',\n",
       " 'Rs. 6999',\n",
       " 'Rs. 7999',\n",
       " 'Rs. 6990',\n",
       " 'Rs. 6990',\n",
       " 'Rs. 6999',\n",
       " 'Rs. 7039Rs. 10999(36% OFF)',\n",
       " 'Rs. 7690',\n",
       " 'Rs. 9995',\n",
       " 'Rs. 12599Rs. 13999(10% OFF)',\n",
       " 'Rs. 8499Rs. 16999(50% OFF)',\n",
       " 'Rs. 10449Rs. 18999( 45 % OFF)',\n",
       " 'Rs. 7999',\n",
       " 'Rs. 8399Rs. 11999(30% OFF)',\n",
       " 'Rs. 6995',\n",
       " 'Rs. 6993Rs. 9990(30% OFF)',\n",
       " 'Rs. 7440Rs. 8000(7% OFF)',\n",
       " 'Rs. 8295',\n",
       " 'Rs. 7999Rs. 15999(50% OFF)',\n",
       " 'Rs. 10493Rs. 14990(30% OFF)',\n",
       " 'Rs. 6749Rs. 14999(55% OFF)',\n",
       " 'Rs. 10990',\n",
       " 'Rs. 7192Rs. 8990(20% OFF)',\n",
       " 'Rs. 11990',\n",
       " 'Rs. 9799Rs. 13999(30% OFF)',\n",
       " 'Rs. 8999',\n",
       " 'Rs. 11990',\n",
       " 'Rs. 6749Rs. 14999(55% OFF)',\n",
       " 'Rs. 6749Rs. 14999(55% OFF)',\n",
       " 'Rs. 7999Rs. 9999(20% OFF)',\n",
       " 'Rs. 7693Rs. 10990(30% OFF)',\n",
       " 'Rs. 7595Rs. 10850(30% OFF)',\n",
       " 'Rs. 7192Rs. 8990(20% OFF)',\n",
       " 'Rs. 7999',\n",
       " 'Rs. 8999',\n",
       " 'Rs. 7999',\n",
       " 'Rs. 9513Rs. 13590(30% OFF)',\n",
       " 'Rs. 12495',\n",
       " 'Rs. 6995',\n",
       " 'Rs. 6999',\n",
       " 'Rs. 6995',\n",
       " 'Rs. 7000',\n",
       " 'Rs. 7999',\n",
       " 'Rs. 8154Rs. 13590(40% OFF)',\n",
       " 'Rs. 6999',\n",
       " 'Rs. 11899Rs. 16999(30% OFF)',\n",
       " 'Rs. 11495',\n",
       " 'Rs. 8953Rs. 12790(30% OFF)',\n",
       " 'Rs. 6990',\n",
       " 'Rs. 6990',\n",
       " 'Rs. 8792Rs. 10990(20% OFF)',\n",
       " 'Rs. 8999',\n",
       " 'Rs. 10999',\n",
       " 'Rs. 7490',\n",
       " 'Rs. 11999',\n",
       " 'Rs. 8990',\n",
       " 'Rs. 8990',\n",
       " 'Rs. 8999Rs. 11999(25% OFF)',\n",
       " 'Rs. 8990',\n",
       " 'Rs. 7990',\n",
       " 'Rs. 8295',\n",
       " 'Rs. 9599Rs. 11999(20% OFF)',\n",
       " 'Rs. 6999',\n",
       " 'Rs. 10990',\n",
       " 'Rs. 7799Rs. 12999(40% OFF)',\n",
       " 'Rs. 8295',\n",
       " 'Rs. 7999Rs. 9999(20% OFF)',\n",
       " 'Rs. 7499',\n",
       " 'Rs. 11495',\n",
       " 'Rs. 9295',\n",
       " 'Rs. 11999',\n",
       " 'Rs. 8999Rs. 11999(25% OFF)',\n",
       " 'Rs. 11305Rs. 11900(5% OFF)',\n",
       " 'Rs. 9599Rs. 15999(40% OFF)',\n",
       " 'Rs. 7999',\n",
       " 'Rs. 11990',\n",
       " 'Rs. 8154Rs. 13590(40% OFF)',\n",
       " 'Rs. 7199Rs. 15999(55% OFF)',\n",
       " 'Rs. 9093Rs. 12990(30% OFF)',\n",
       " 'Rs. 11990',\n",
       " 'Rs. 9999',\n",
       " 'Rs. 7995',\n",
       " 'Rs. 6999']"
      ]
     },
     "execution_count": 117,
     "metadata": {},
     "output_type": "execute_result"
    }
   ],
   "source": [
    "# to scrape data for top 100 prices of shoes by using xpath\n",
    "price=[]\n",
    "for i in page_url3:\n",
    "    driver.get(i)\n",
    "    pri=driver.find_elements_by_xpath(\"//div[@class='product-price']\")[:100]\n",
    "    for i in pri:\n",
    "        price.append(i.text)\n",
    "price"
   ]
  },
  {
   "cell_type": "code",
   "execution_count": 118,
   "metadata": {},
   "outputs": [
    {
     "name": "stdout",
     "output_type": "stream",
     "text": [
      "100 100 100\n"
     ]
    }
   ],
   "source": [
    "#checking length using len function\n",
    "print(len(product_brands), len(shoe_description), len(price))"
   ]
  },
  {
   "cell_type": "code",
   "execution_count": 119,
   "metadata": {},
   "outputs": [
    {
     "data": {
      "text/html": [
       "<div>\n",
       "<style scoped>\n",
       "    .dataframe tbody tr th:only-of-type {\n",
       "        vertical-align: middle;\n",
       "    }\n",
       "\n",
       "    .dataframe tbody tr th {\n",
       "        vertical-align: top;\n",
       "    }\n",
       "\n",
       "    .dataframe thead th {\n",
       "        text-align: right;\n",
       "    }\n",
       "</style>\n",
       "<table border=\"1\" class=\"dataframe\">\n",
       "  <thead>\n",
       "    <tr style=\"text-align: right;\">\n",
       "      <th></th>\n",
       "      <th>Brands</th>\n",
       "      <th>Shoe Description</th>\n",
       "      <th>Price</th>\n",
       "    </tr>\n",
       "  </thead>\n",
       "  <tbody>\n",
       "    <tr>\n",
       "      <th>0</th>\n",
       "      <td>DAVINCHI</td>\n",
       "      <td>Men Leather Formal Slip Ons</td>\n",
       "      <td>Rs. 8990</td>\n",
       "    </tr>\n",
       "    <tr>\n",
       "      <th>1</th>\n",
       "      <td>Geox</td>\n",
       "      <td>Men Textured Formal Leather Loafers</td>\n",
       "      <td>Rs. 7495Rs. 14990(50% OFF)</td>\n",
       "    </tr>\n",
       "    <tr>\n",
       "      <th>2</th>\n",
       "      <td>Heel &amp; Buckle London</td>\n",
       "      <td>Women AIR ELEMENT 2 Sneakers</td>\n",
       "      <td>Rs. 6993Rs. 9990(30% OFF)</td>\n",
       "    </tr>\n",
       "    <tr>\n",
       "      <th>3</th>\n",
       "      <td>UNDER ARMOUR</td>\n",
       "      <td>Men Leather Formal Slip-Ons</td>\n",
       "      <td>Rs. 7499</td>\n",
       "    </tr>\n",
       "    <tr>\n",
       "      <th>4</th>\n",
       "      <td>Geox</td>\n",
       "      <td>Women Solid Leather Gladiators</td>\n",
       "      <td>Rs. 7495Rs. 14990(50% OFF)</td>\n",
       "    </tr>\n",
       "    <tr>\n",
       "      <th>...</th>\n",
       "      <td>...</td>\n",
       "      <td>...</td>\n",
       "      <td>...</td>\n",
       "    </tr>\n",
       "    <tr>\n",
       "      <th>95</th>\n",
       "      <td>Kenneth Cole</td>\n",
       "      <td>Men Solid Leather Formal Brogues</td>\n",
       "      <td>Rs. 9093Rs. 12990(30% OFF)</td>\n",
       "    </tr>\n",
       "    <tr>\n",
       "      <th>96</th>\n",
       "      <td>Birkenstock</td>\n",
       "      <td>Women Derbys Casual Shoes</td>\n",
       "      <td>Rs. 11990</td>\n",
       "    </tr>\n",
       "    <tr>\n",
       "      <th>97</th>\n",
       "      <td>ALDO</td>\n",
       "      <td>Men Sneakers</td>\n",
       "      <td>Rs. 9999</td>\n",
       "    </tr>\n",
       "    <tr>\n",
       "      <th>98</th>\n",
       "      <td>Nike</td>\n",
       "      <td>KD TREY 5 Basketball Shoes</td>\n",
       "      <td>Rs. 7995</td>\n",
       "    </tr>\n",
       "    <tr>\n",
       "      <th>99</th>\n",
       "      <td>ADIDAS</td>\n",
       "      <td>Men Leather COPA 21.3 FG Shoes</td>\n",
       "      <td>Rs. 6999</td>\n",
       "    </tr>\n",
       "  </tbody>\n",
       "</table>\n",
       "<p>100 rows × 3 columns</p>\n",
       "</div>"
      ],
      "text/plain": [
       "                  Brands                     Shoe Description  \\\n",
       "0               DAVINCHI          Men Leather Formal Slip Ons   \n",
       "1                   Geox  Men Textured Formal Leather Loafers   \n",
       "2   Heel & Buckle London         Women AIR ELEMENT 2 Sneakers   \n",
       "3           UNDER ARMOUR          Men Leather Formal Slip-Ons   \n",
       "4                   Geox       Women Solid Leather Gladiators   \n",
       "..                   ...                                  ...   \n",
       "95          Kenneth Cole     Men Solid Leather Formal Brogues   \n",
       "96           Birkenstock            Women Derbys Casual Shoes   \n",
       "97                  ALDO                         Men Sneakers   \n",
       "98                  Nike           KD TREY 5 Basketball Shoes   \n",
       "99                ADIDAS       Men Leather COPA 21.3 FG Shoes   \n",
       "\n",
       "                         Price  \n",
       "0                     Rs. 8990  \n",
       "1   Rs. 7495Rs. 14990(50% OFF)  \n",
       "2    Rs. 6993Rs. 9990(30% OFF)  \n",
       "3                     Rs. 7499  \n",
       "4   Rs. 7495Rs. 14990(50% OFF)  \n",
       "..                         ...  \n",
       "95  Rs. 9093Rs. 12990(30% OFF)  \n",
       "96                   Rs. 11990  \n",
       "97                    Rs. 9999  \n",
       "98                    Rs. 7995  \n",
       "99                    Rs. 6999  \n",
       "\n",
       "[100 rows x 3 columns]"
      ]
     },
     "execution_count": 119,
     "metadata": {},
     "output_type": "execute_result"
    }
   ],
   "source": [
    "#creating a dataframe by importing pandas as pd\n",
    "shoes=pd.DataFrame({})\n",
    "shoes['Brands']=product_brands\n",
    "shoes['Shoe Description']=shoe_description\n",
    "shoes['Price']=price\n",
    "shoes"
   ]
  },
  {
   "cell_type": "markdown",
   "metadata": {},
   "source": [
    "### Q10: Go to webpage https://www.amazon.in/"
   ]
  },
  {
   "cell_type": "code",
   "execution_count": 120,
   "metadata": {},
   "outputs": [],
   "source": [
    "#connecting to the web driver\n",
    "driver = webdriver.Chrome(\"Chromedriver.exe\")"
   ]
  },
  {
   "cell_type": "code",
   "execution_count": 121,
   "metadata": {},
   "outputs": [],
   "source": [
    "#get the url\n",
    "url = 'https://www.amazon.in/'\n",
    "driver.get(url)"
   ]
  },
  {
   "cell_type": "code",
   "execution_count": 122,
   "metadata": {},
   "outputs": [],
   "source": [
    "#to write Laptop in the search box by using id\n",
    "search = driver.find_element_by_id('twotabsearchtextbox')\n",
    "search.send_keys('Laptop')"
   ]
  },
  {
   "cell_type": "code",
   "execution_count": 123,
   "metadata": {},
   "outputs": [],
   "source": [
    "#clicking search button by using xpath\n",
    "search_button=driver.find_element_by_xpath(\"//input[@id='nav-search-submit-button']\")\n",
    "search_button.click()"
   ]
  },
  {
   "cell_type": "code",
   "execution_count": 124,
   "metadata": {},
   "outputs": [],
   "source": [
    "#clicking the cpu filter by xpath\n",
    "cpu_filter=driver.find_element_by_xpath('/html/body/div[1]/div[2]/div[1]/div/div[2]/div/div[3]/span/div[1]/span/div/div/div[6]/ul[1]/li[26]/span/a/span')\n",
    "cpu_filter.click()"
   ]
  },
  {
   "cell_type": "code",
   "execution_count": 127,
   "metadata": {},
   "outputs": [],
   "source": [
    "#clicking the another cpu filter by xpath\n",
    "cpu_filter2=driver.find_element_by_xpath('/html/body/div[1]/div[2]/div[1]/div/div[2]/div/div[3]/span/div[1]/span/div/div/div[5]/ul[1]/li[28]/span/a/div')\n",
    "cpu_filter2.click()"
   ]
  },
  {
   "cell_type": "code",
   "execution_count": 128,
   "metadata": {},
   "outputs": [
    {
     "data": {
      "text/plain": [
       "[<selenium.webdriver.remote.webelement.WebElement (session=\"c45ca13b534288221df0e6ab5cf5400c\", element=\"f68e274a-3397-4cdb-ba6a-9284a0863dfe\")>,\n",
       " <selenium.webdriver.remote.webelement.WebElement (session=\"c45ca13b534288221df0e6ab5cf5400c\", element=\"b684de2d-816e-4c3a-bbf5-d91535caa792\")>,\n",
       " <selenium.webdriver.remote.webelement.WebElement (session=\"c45ca13b534288221df0e6ab5cf5400c\", element=\"5f99d7c6-70c0-4c28-a10d-ff3f6e02c517\")>,\n",
       " <selenium.webdriver.remote.webelement.WebElement (session=\"c45ca13b534288221df0e6ab5cf5400c\", element=\"559b6ff2-0e57-4959-8069-7bac3826ab60\")>,\n",
       " <selenium.webdriver.remote.webelement.WebElement (session=\"c45ca13b534288221df0e6ab5cf5400c\", element=\"00834835-406f-4f0e-883e-6f8e0f758a1b\")>,\n",
       " <selenium.webdriver.remote.webelement.WebElement (session=\"c45ca13b534288221df0e6ab5cf5400c\", element=\"befab673-b4db-4610-86b8-554f73980151\")>,\n",
       " <selenium.webdriver.remote.webelement.WebElement (session=\"c45ca13b534288221df0e6ab5cf5400c\", element=\"a831fea6-0625-47e1-95c2-e2be8e078d3a\")>,\n",
       " <selenium.webdriver.remote.webelement.WebElement (session=\"c45ca13b534288221df0e6ab5cf5400c\", element=\"1b22027e-653d-46e9-91a9-70c489d579b7\")>,\n",
       " <selenium.webdriver.remote.webelement.WebElement (session=\"c45ca13b534288221df0e6ab5cf5400c\", element=\"13598848-d500-4e2b-8ad5-eeffd1e1dfd8\")>,\n",
       " <selenium.webdriver.remote.webelement.WebElement (session=\"c45ca13b534288221df0e6ab5cf5400c\", element=\"34e2ca84-6724-416d-8fc0-063f0a9582ac\")>]"
      ]
     },
     "execution_count": 128,
     "metadata": {},
     "output_type": "execute_result"
    }
   ],
   "source": [
    "# to scrape top 10 amazon laptops by using xpath function\n",
    "product_title=driver.find_elements_by_xpath(\"//h2[@class='a-size-mini a-spacing-none a-color-base s-line-clamp-2']\")[:10]\n",
    "product_title"
   ]
  },
  {
   "cell_type": "code",
   "execution_count": 129,
   "metadata": {},
   "outputs": [
    {
     "data": {
      "text/plain": [
       "['HP Pavilion (2021) Thin & Light 11th Gen Core i7 Laptop, 16 GB RAM, 1TB SSD, Iris Xe Graphics, 14\" (35.56cms) FHD Screen, Windows 10, MS Office, Backlit Keyboard (14-dv0058TU)',\n",
       " 'Dell Inspiron 5410 14\" FHD Touch Display 2in1 Laptop (i7-1165G7 / 16GB / 512GB SSD / Integrated Graphics / Win 10 + MSO / Backlit KB + FPR + Active Pen / Silver Metal Color) D560469WIN9S',\n",
       " 'HP Pavilion Gaming 10th Gen Intel Core i7 Processor 15.6-inch FHD Gaming Laptop (16GB/512GB SSD + 32GB Intel Optane/Windows 10/NVIDIA 1650Ti 4GB/Shadow Black), 15-dk1509TX',\n",
       " 'HP Pavilion Gaming(2021) 10th Gen Intel Core i7 15.6-inch(39.6 cm) FHD IPS 144Hz Gaming Laptop (16GB/512GB SSD + 32GB Intel Optane/NVIDIA GTX 1650Ti 4GB/Win 10/MS Office/Shadow Black), 15-DK1511TX',\n",
       " 'ASUS TUF Gaming F15 (2021), 15.6-inch (39.62 cms) FHD 144Hz, Intel Core i9-11900H 11th Gen, RTX 3060 6GB Graphics Gaming Laptop (16GB RAM/1TB SSD/Office 2019/Windows 10/Gray/2.3 kg), FX566HM-HN097TS',\n",
       " 'HP Pavilion x360 (2021) 14\" (35.56cms) FHD Touchscreen Laptop, 11th Gen Core i7, 8 GB RAM, 512GB SSD, 2-in-1 Convertible, Windows 10, MS Office, Finger Print Reader (14-dw1040TU)',\n",
       " 'MSI GF63 Thin Core i7 9th Gen - (8 GB/512 GB SSD/Windows 10 Home/4 GB Graphics/NVIDIA Geforce GTX 1650 Max-Q) GF63 Thin 9SCXR-417IN Gaming Laptop (15.6 inch, Black, 1.86 kg)',\n",
       " 'Lenovo Yoga 7 11th Gen Intel Core i7 14\" (35.56cms) Full HD IPS 2-in-1 Touchscreen Laptop (16GB/512GB SSD/Windows 10/MS Office 2019/Fingerprint Reader/Slate Grey/Aluminium Surface/1.43Kg), 82BH004HIN',\n",
       " 'Mi Notebook Horizon Edition 14 Intel Core i7-10510U 10th Gen 14-inch (35.56 cms) Thin and Light Laptop(8GB/512GB SSD/Windows 10/Nvidia MX350 2GB Graphics/Grey/1.35Kg), XMA1904-AF+Webcam',\n",
       " 'DELL Inspiron 5593 15.6\" (39.62cms) Laptop (10th Gen Core i7-1065G7/8GB/1TB HDD + 512GB SSD/Windows 10 Home Plus/4GB NVIDIA MX230 GDDR5 Graphics), Platinum Silver']"
      ]
     },
     "execution_count": 129,
     "metadata": {},
     "output_type": "execute_result"
    }
   ],
   "source": [
    "title=[]\n",
    "for i in product_title:\n",
    "    title.append(i.text)\n",
    "title    "
   ]
  },
  {
   "cell_type": "code",
   "execution_count": 130,
   "metadata": {},
   "outputs": [
    {
     "data": {
      "text/plain": [
       "[<selenium.webdriver.remote.webelement.WebElement (session=\"c45ca13b534288221df0e6ab5cf5400c\", element=\"16cca8ac-1ddd-4e87-8236-9d362345fb04\")>,\n",
       " <selenium.webdriver.remote.webelement.WebElement (session=\"c45ca13b534288221df0e6ab5cf5400c\", element=\"d0b32771-a6ae-40a5-9d2c-ee31f32b356e\")>,\n",
       " <selenium.webdriver.remote.webelement.WebElement (session=\"c45ca13b534288221df0e6ab5cf5400c\", element=\"a69ae6ec-ce95-4e7f-880a-1b9af669c719\")>,\n",
       " <selenium.webdriver.remote.webelement.WebElement (session=\"c45ca13b534288221df0e6ab5cf5400c\", element=\"e371e775-6c11-45a8-a37a-784f1b55e353\")>,\n",
       " <selenium.webdriver.remote.webelement.WebElement (session=\"c45ca13b534288221df0e6ab5cf5400c\", element=\"70a93c7d-83b3-4cd8-88c7-638e6a620631\")>,\n",
       " <selenium.webdriver.remote.webelement.WebElement (session=\"c45ca13b534288221df0e6ab5cf5400c\", element=\"0dd6a5af-468d-4bd0-af4f-b0932e9c41f6\")>,\n",
       " <selenium.webdriver.remote.webelement.WebElement (session=\"c45ca13b534288221df0e6ab5cf5400c\", element=\"6952745f-353b-47dd-bf15-ca23a96a726e\")>,\n",
       " <selenium.webdriver.remote.webelement.WebElement (session=\"c45ca13b534288221df0e6ab5cf5400c\", element=\"cbb609db-c130-45f6-887c-67811055551c\")>,\n",
       " <selenium.webdriver.remote.webelement.WebElement (session=\"c45ca13b534288221df0e6ab5cf5400c\", element=\"16ebb67e-5c68-48ff-a1b5-88298e110154\")>,\n",
       " <selenium.webdriver.remote.webelement.WebElement (session=\"c45ca13b534288221df0e6ab5cf5400c\", element=\"a86cdca7-c606-4987-9131-c753c8b08f4d\")>]"
      ]
     },
     "execution_count": 130,
     "metadata": {},
     "output_type": "execute_result"
    }
   ],
   "source": [
    "#to scrape top 10 ratings of laptops by using xpath\n",
    "rate=driver.find_elements_by_xpath(\"//span[@class='a-size-base']\")[:10]\n",
    "rate"
   ]
  },
  {
   "cell_type": "code",
   "execution_count": 131,
   "metadata": {},
   "outputs": [
    {
     "data": {
      "text/plain": [
       "['130', '1', '39', '1', '43', '1', '20', '919', '40', '11']"
      ]
     },
     "execution_count": 131,
     "metadata": {},
     "output_type": "execute_result"
    }
   ],
   "source": [
    "ratings=[]\n",
    "for i in rate:\n",
    "    ratings.append(i.text)\n",
    "ratings    "
   ]
  },
  {
   "cell_type": "code",
   "execution_count": 132,
   "metadata": {},
   "outputs": [
    {
     "data": {
      "text/plain": [
       "[<selenium.webdriver.remote.webelement.WebElement (session=\"c45ca13b534288221df0e6ab5cf5400c\", element=\"182d6dcf-1c39-4579-8c50-e7583d22f0ba\")>,\n",
       " <selenium.webdriver.remote.webelement.WebElement (session=\"c45ca13b534288221df0e6ab5cf5400c\", element=\"f286707e-8b56-497a-a90f-1c2e1de20ff8\")>,\n",
       " <selenium.webdriver.remote.webelement.WebElement (session=\"c45ca13b534288221df0e6ab5cf5400c\", element=\"ed6747ad-2a94-4e29-93d1-bc578db4152d\")>,\n",
       " <selenium.webdriver.remote.webelement.WebElement (session=\"c45ca13b534288221df0e6ab5cf5400c\", element=\"1f18b247-4c68-47d8-a4c5-91e3e7f442f7\")>,\n",
       " <selenium.webdriver.remote.webelement.WebElement (session=\"c45ca13b534288221df0e6ab5cf5400c\", element=\"e4fba96a-3a82-4dc3-84cb-dc457a469dc5\")>,\n",
       " <selenium.webdriver.remote.webelement.WebElement (session=\"c45ca13b534288221df0e6ab5cf5400c\", element=\"0c9c133c-1783-4270-92c0-3e8c74a5a1c7\")>,\n",
       " <selenium.webdriver.remote.webelement.WebElement (session=\"c45ca13b534288221df0e6ab5cf5400c\", element=\"4e40f318-6e22-443c-bed4-e0aaeb6d7f18\")>,\n",
       " <selenium.webdriver.remote.webelement.WebElement (session=\"c45ca13b534288221df0e6ab5cf5400c\", element=\"b10f423c-01a5-480f-a044-b1ea11b868b7\")>,\n",
       " <selenium.webdriver.remote.webelement.WebElement (session=\"c45ca13b534288221df0e6ab5cf5400c\", element=\"b34d6dae-e55c-48cb-b16d-b10134e842d3\")>,\n",
       " <selenium.webdriver.remote.webelement.WebElement (session=\"c45ca13b534288221df0e6ab5cf5400c\", element=\"8355d0b3-b9aa-4476-8fca-e3a5f27d1030\")>]"
      ]
     },
     "execution_count": 132,
     "metadata": {},
     "output_type": "execute_result"
    }
   ],
   "source": [
    "#to scrape top 10 laptop prices by using xpath\n",
    "cost=driver.find_elements_by_xpath(\"//span[@class='a-price-whole']\")[:10]\n",
    "cost"
   ]
  },
  {
   "cell_type": "code",
   "execution_count": 133,
   "metadata": {},
   "outputs": [
    {
     "data": {
      "text/plain": [
       "['84,990',\n",
       " '91,399',\n",
       " '86,990',\n",
       " '91,990',\n",
       " '1,39,990',\n",
       " '78,993',\n",
       " '66,990',\n",
       " '97,051',\n",
       " '59,999',\n",
       " '82,990']"
      ]
     },
     "execution_count": 133,
     "metadata": {},
     "output_type": "execute_result"
    }
   ],
   "source": [
    "price=[]\n",
    "for i in cost:\n",
    "    price.append(i.text)\n",
    "price    "
   ]
  },
  {
   "cell_type": "code",
   "execution_count": 134,
   "metadata": {},
   "outputs": [
    {
     "name": "stdout",
     "output_type": "stream",
     "text": [
      "10 10 10\n"
     ]
    }
   ],
   "source": [
    "#checking length by using len function\n",
    "print(len(title), len(ratings), len(price))"
   ]
  },
  {
   "cell_type": "code",
   "execution_count": 135,
   "metadata": {},
   "outputs": [
    {
     "data": {
      "text/html": [
       "<div>\n",
       "<style scoped>\n",
       "    .dataframe tbody tr th:only-of-type {\n",
       "        vertical-align: middle;\n",
       "    }\n",
       "\n",
       "    .dataframe tbody tr th {\n",
       "        vertical-align: top;\n",
       "    }\n",
       "\n",
       "    .dataframe thead th {\n",
       "        text-align: right;\n",
       "    }\n",
       "</style>\n",
       "<table border=\"1\" class=\"dataframe\">\n",
       "  <thead>\n",
       "    <tr style=\"text-align: right;\">\n",
       "      <th></th>\n",
       "      <th>Title</th>\n",
       "      <th>Ratings</th>\n",
       "      <th>Price</th>\n",
       "    </tr>\n",
       "  </thead>\n",
       "  <tbody>\n",
       "    <tr>\n",
       "      <th>0</th>\n",
       "      <td>HP Pavilion (2021) Thin &amp; Light 11th Gen Core ...</td>\n",
       "      <td>130</td>\n",
       "      <td>84,990</td>\n",
       "    </tr>\n",
       "    <tr>\n",
       "      <th>1</th>\n",
       "      <td>Dell Inspiron 5410 14\" FHD Touch Display 2in1 ...</td>\n",
       "      <td>1</td>\n",
       "      <td>91,399</td>\n",
       "    </tr>\n",
       "    <tr>\n",
       "      <th>2</th>\n",
       "      <td>HP Pavilion Gaming 10th Gen Intel Core i7 Proc...</td>\n",
       "      <td>39</td>\n",
       "      <td>86,990</td>\n",
       "    </tr>\n",
       "    <tr>\n",
       "      <th>3</th>\n",
       "      <td>HP Pavilion Gaming(2021) 10th Gen Intel Core i...</td>\n",
       "      <td>1</td>\n",
       "      <td>91,990</td>\n",
       "    </tr>\n",
       "    <tr>\n",
       "      <th>4</th>\n",
       "      <td>ASUS TUF Gaming F15 (2021), 15.6-inch (39.62 c...</td>\n",
       "      <td>43</td>\n",
       "      <td>1,39,990</td>\n",
       "    </tr>\n",
       "    <tr>\n",
       "      <th>5</th>\n",
       "      <td>HP Pavilion x360 (2021) 14\" (35.56cms) FHD Tou...</td>\n",
       "      <td>1</td>\n",
       "      <td>78,993</td>\n",
       "    </tr>\n",
       "    <tr>\n",
       "      <th>6</th>\n",
       "      <td>MSI GF63 Thin Core i7 9th Gen - (8 GB/512 GB S...</td>\n",
       "      <td>20</td>\n",
       "      <td>66,990</td>\n",
       "    </tr>\n",
       "    <tr>\n",
       "      <th>7</th>\n",
       "      <td>Lenovo Yoga 7 11th Gen Intel Core i7 14\" (35.5...</td>\n",
       "      <td>919</td>\n",
       "      <td>97,051</td>\n",
       "    </tr>\n",
       "    <tr>\n",
       "      <th>8</th>\n",
       "      <td>Mi Notebook Horizon Edition 14 Intel Core i7-1...</td>\n",
       "      <td>40</td>\n",
       "      <td>59,999</td>\n",
       "    </tr>\n",
       "    <tr>\n",
       "      <th>9</th>\n",
       "      <td>DELL Inspiron 5593 15.6\" (39.62cms) Laptop (10...</td>\n",
       "      <td>11</td>\n",
       "      <td>82,990</td>\n",
       "    </tr>\n",
       "  </tbody>\n",
       "</table>\n",
       "</div>"
      ],
      "text/plain": [
       "                                               Title Ratings     Price\n",
       "0  HP Pavilion (2021) Thin & Light 11th Gen Core ...     130    84,990\n",
       "1  Dell Inspiron 5410 14\" FHD Touch Display 2in1 ...       1    91,399\n",
       "2  HP Pavilion Gaming 10th Gen Intel Core i7 Proc...      39    86,990\n",
       "3  HP Pavilion Gaming(2021) 10th Gen Intel Core i...       1    91,990\n",
       "4  ASUS TUF Gaming F15 (2021), 15.6-inch (39.62 c...      43  1,39,990\n",
       "5  HP Pavilion x360 (2021) 14\" (35.56cms) FHD Tou...       1    78,993\n",
       "6  MSI GF63 Thin Core i7 9th Gen - (8 GB/512 GB S...      20    66,990\n",
       "7  Lenovo Yoga 7 11th Gen Intel Core i7 14\" (35.5...     919    97,051\n",
       "8  Mi Notebook Horizon Edition 14 Intel Core i7-1...      40    59,999\n",
       "9  DELL Inspiron 5593 15.6\" (39.62cms) Laptop (10...      11    82,990"
      ]
     },
     "execution_count": 135,
     "metadata": {},
     "output_type": "execute_result"
    }
   ],
   "source": [
    "#creating a dataframe by importing pandas as pd\n",
    "Laptops=pd.DataFrame({})\n",
    "Laptops['Title']=title\n",
    "Laptops['Ratings']=ratings\n",
    "Laptops['Price']=price\n",
    "Laptops"
   ]
  },
  {
   "cell_type": "code",
   "execution_count": null,
   "metadata": {},
   "outputs": [],
   "source": []
  },
  {
   "cell_type": "code",
   "execution_count": null,
   "metadata": {},
   "outputs": [],
   "source": []
  },
  {
   "cell_type": "code",
   "execution_count": null,
   "metadata": {},
   "outputs": [],
   "source": []
  }
 ],
 "metadata": {
  "kernelspec": {
   "display_name": "Python 3",
   "language": "python",
   "name": "python3"
  },
  "language_info": {
   "codemirror_mode": {
    "name": "ipython",
    "version": 3
   },
   "file_extension": ".py",
   "mimetype": "text/x-python",
   "name": "python",
   "nbconvert_exporter": "python",
   "pygments_lexer": "ipython3",
   "version": "3.8.5"
  }
 },
 "nbformat": 4,
 "nbformat_minor": 4
}
